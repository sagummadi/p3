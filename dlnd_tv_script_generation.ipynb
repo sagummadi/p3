{
 "cells": [
  {
   "cell_type": "markdown",
   "metadata": {
    "deletable": true,
    "editable": true
   },
   "source": [
    "# TV Script Generation\n",
    "In this project, you'll generate your own [Simpsons](https://en.wikipedia.org/wiki/The_Simpsons) TV scripts using RNNs.  You'll be using part of the [Simpsons dataset](https://www.kaggle.com/wcukierski/the-simpsons-by-the-data) of scripts from 27 seasons.  The Neural Network you'll build will generate a new TV script for a scene at [Moe's Tavern](https://simpsonswiki.com/wiki/Moe's_Tavern).\n",
    "## Get the Data\n",
    "The data is already provided for you.  You'll be using a subset of the original dataset.  It consists of only the scenes in Moe's Tavern.  This doesn't include other versions of the tavern, like \"Moe's Cavern\", \"Flaming Moe's\", \"Uncle Moe's Family Feed-Bag\", etc.."
   ]
  },
  {
   "cell_type": "code",
   "execution_count": 2,
   "metadata": {
    "collapsed": false,
    "deletable": true,
    "editable": true
   },
   "outputs": [],
   "source": [
    "\"\"\"\n",
    "DON'T MODIFY ANYTHING IN THIS CELL\n",
    "\"\"\"\n",
    "import helper\n",
    "\n",
    "data_dir = './data/simpsons/moes_tavern_lines.txt'\n",
    "text = helper.load_data(data_dir)\n",
    "# Ignore notice, since we don't use it for analysing the data\n",
    "text = text[81:]"
   ]
  },
  {
   "cell_type": "markdown",
   "metadata": {
    "deletable": true,
    "editable": true
   },
   "source": [
    "## Explore the Data\n",
    "Play around with `view_sentence_range` to view different parts of the data."
   ]
  },
  {
   "cell_type": "code",
   "execution_count": 3,
   "metadata": {
    "collapsed": false,
    "deletable": true,
    "editable": true
   },
   "outputs": [
    {
     "name": "stdout",
     "output_type": "stream",
     "text": [
      "Dataset Stats\n",
      "{'biggest': None, 'Mom!': None, 'bag': None, 'Latour': None, 'penmanship!': None, 'Everybody': None, 'dumbass!': None, \"Dolph's_Dad:\": None, 'sweet,': None, 'sketch': None, '(CASUAL)': None, 'EYES,': None, 'brain,': None, 'so': None, 'Think': None, 'donut-shaped': None, 'Y-You': None, 'mistakes': None, 'ten': None, 'feet!': None, 'Male_Inspector:': None, 'crawl.': None, 'premise.': None, 'theater': None, '(NASTY': None, 'Freely': None, 'Vanities\".': None, \"fishin'\": None, 'Villanova.': None, 'blissful': None, 'Milhouse_Van_Houten:': None, \"'em?\": None, 'sodas': None, 'never': None, 'WHICH': None, 'environment.': None, 'JERKS': None, 'one!': None, 'attach': None, 'am': None, 'trick.': None, 'HAMMER': None, 'barflies!': None, 'work.': None, 'thirty-five': None, 'bully': None, 'meant': None, 'introduce': None, 'misfire!': None, 'heavyset': None, 'hooky': None, '(DEAD': None, 'now?': None, 'high': None, 'DID': None, 'Selection\"': None, 'Quimby_#2:': None, 'shortcomings.': None, 'outlive': None, 'nein.': None, 'insulin!': None, 'shot,': None, 'cosmetics.': None, 'jeez,': None, 'roses.': None, 'please.': None, 'parenting': None, 'coins': None, 'through,': None, 'Dee-fense!': None, \"Homer's\": None, 'Nooo!': None, '\"Flaming': None, 'searching': None, 'OF': None, 'did?!': None, 'dexterous': None, 'raging.': None, 'invite': None, 'Startup': None, 'friend.\"': None, 'Danish.': None, 'Paris,': None, 'film?': None, 'Neanderthal': None, 'apron,': None, 'Three.': None, 'hyper-credits': None, 'Grinch.': None, 'parking': None, 'surgery,': None, 'arm': None, \"drivin'.\": None, '...um,': None, 'crimes': None, 'eternity': None, \"Don't!\": None, 'Text': None, 'Cigarettes,': None, 'Heatherton.': None, 'Whoa-ho,': None, 'Police?': None, 'six': None, 'arrived.': None, 'basement?': None, 'NAEGLE)': None, 'Gloop,': None, 'drivers?': None, 'Academy.\"': None, 'sign,': None, 'Civic': None, 'peach': None, 'You...': None, '(EAGER)': None, \"President's\": None, 'Contemporary.': None, 'Crotch': None, 'Carey,': None, 'Center.': None, 'bigger': None, 'radiator?': None, 'Daddy.': None, \"Moe's,\": None, 'Cola': None, 'accurate...': None, 'Mister.': None, \"You've\": None, 'learn,': None, 'remembers.': None, 'EXHALE)': None, 'name...': None, 'realize': None, 'pine': None, 'mint': None, '(SWELLING,': None, \"B-52'S:\": None, 'Braun:': None, 'uh...': None, 'row.': None, 'dress': None, 'recall': None, 'MOP': None, '(LONG': None, 'Actually': None, 'Hey...': None, '\"I': None, 'pitch...': None, 'Salvation': None, 'online,': None, 'watch.': None, 'Hold': None, 'Yesterday': None, 'OUR': None, 'dictating': None, 'moon.': None, 'PAINTING)': None, 'Sanitary': None, 'lights.': None, 'BRITANNIA\")': None, 'depressing,': None, 'outrageous': None, 'BUTTON)': None, 'pills,': None, 'Say,': None, 'Churchill': None, 'tapered': None, 'Selma.': None, 'years.': None, '(GLUM)': None, 'transmission.': None, '(LOOKING': None, '(THRILLED)': None, 'crowned': None, 'S.S.': None, 'stick?': None, 'Thought_Bubble_Lenny:': None, 'touched': None, 'state': None, 'down!': None, 'sending': None, 'senators': None, 'population': None, 'tummies?': None, 'beans': None, 'EASYGOING.': None, '(COVERING)': None, 'thoughtless': None, 'strongly': None, 'sequel.': None, 'panties!': None, 'faith': None, '(SING)': None, 'P-K...': None, 'Here': None, 'Rasputin.': None, 'indigenous': None, \"'now\": None, 'Nein...': None, 'college': None, 'along': None, 'gut': None, 'HATE': None, 'here!': None, \"'em.\": None, 'well': None, 'ASSENT)': None, 'AWAY': None, 't-shirt.': None, 'ointment': None, 'coast': None, 'Outside?': None, 'Please?': None, \"knockin'\": None, 'pocket.': None, 'dame!': None, 'bike': None, 'Peter': None, 'buddy': None, 'INTENSE)': None, 'Mags!': None, 'jerk.\"': None, 'POLITE)': None, 'dance,': None, 'wishes.': None, 'ground,': None, 'Lucinda': None, 'Nahasapeemapetilon.': None, 'everything': None, 'BIDE.': None, 'Please,': None, 'guest.': None, 'married,': None, \"WE'RE\": None, 'Ooo,': None, 'know': None, 'Norway,': None, 'first.': None, 'better': None, 'yard': None, 'Selma_Bouvier:': None, 'Edna?': None, 'To': None, 'trip': None, 'ratted': None, \"shouldn't\": None, 'harm.': None, 'truck': None, \"hobo's\": None, 'renovations!': None, 'van?': None, 'Elder!': None, 'car?': None, 'Tester!': None, 'Touchdown': None, 'ear': None, 'wine.': None, 'Self-made': None, 'singing': None, 'days': None, 'acquaintance,': None, 'moving': None, 'stole': None, 'Tavern,': None, 'lose': None, 'problem?': None, 'youngsters': None, 'tells': None, 'CANYONERO....': None, 'Barney-guarding': None, \"Edna's\": None, 'boozehound!': None, 'wood': None, 'stretch': None, '(SIPS': None, 'DEER': None, 'romantic.': None, 'street.': None, 'winch.': None, 'chance!': None, 'Ned_Flanders:': None, 'SUCH': None, '(ASHAMED)': None, 'Aw,': None, 'speed': None, '\"Yo!\"': None, 'slugger.': None, 'COZY,': None, 'expert.': None, 'BREATHLESS)': None, 'starlets': None, '\"Work': None, 'Spending': None, \"y'know,\": None, 'porn!': None, 'whee....': None, \"heat's\": None, '\"Jamaican\"': None, 'TO': None, '(MEANINGFULLY)': None, 'on?': None, 'more': None, 'Junior': None, 'been,': None, 'I/YOU': None, \"kids'\": None, 'innocuous': None, 'Computer_Voice_2:': None, 'comeback': None, 'rugged': None, 'swill!': None, \"shan't\": None, 'dive!': None, 'special': None, '(VOICE': None, 'Football_Announcer:': None, 'price': None, 'Were': None, 'endorsement.': None, '(NORMAL': None, 'worthless': None, 'bank': None, 'convenient!': None, 'times.': None, 'date': None, 'gums': None, 'movie,': None, 'unbelievably': None, 'Andy.': None, 'bowl': None, 'tune.': None, '(SHOWING': None, 'comment.': None, 'guide.': None, 'fumes,': None, 'fast?': None, 'answering': None, 'American?': None, 'Jeff!': None, '(GUTTURAL': None, 'size': None, 'sorry...': None, 'robbers': None, 'steel': None, 'tolerance': None, 'wait': None, 'Exploiter': None, 'Lloyd:': None, 'puke.': None, 'nation,': None, 'inspection.': None, 'this...': None, 'today,': None, 'scrape.': None, 'give': None, 'more,': None, 'silent': None, 'faiths': None, '100': None, 'excuses': None, 'brassiest': None, 'DOWN)': None, '(SMALL': None, 'anti-lock': None, 'Pulitzer.': None, \"Department's\": None, 'here.': None, 'forever': None, 'election,': None, 'memory?': None, 'job?': None, 'daddy!': None, \"Carl's\": None, '(COCKS': None, 'private?': None, 'safely': None, '\"old': None, 'hilarious!': None, 'Doreen?': None, 'win': None, 'manage': None, 'really?': None, 'fall': None, 'UNLUCKY': None, 'try.': None, 'pitcher,': None, \"cat's\": None, 'place': None, 'harvesting': None, 'slapped': None, \"G'on,\": None, 'did.': None, '\"Lobster-politans\"': None, 'supermodel!': None, 'diet': None, 'about?': None, 'delicious!': None, 'throw!': None, 'Hour': None, 'At': None, 'hurt,': None, \"where's\": None, 'drive.': None, 'grim': None, 'POLISHING': None, 'overturned': None, '(MIMES': None, 'Three?': None, 'late': None, 'found': None, 'undated': None, 'is!': None, 'ultimate': None, '(SATISFIED)': None, 'he': None, 'blaze,': None, \"cashin'\": None, 'Uh-oh.': None, 'problems.\"': None, 'Acquitted?!': None, 'Banquo?!\"': None, 'bitterly': None, 'Oh,': None, '(CHANGING': None, 'teeth,': None, 'Superdad?': None, 'speech': None, 'lipo,': None, 'trash': None, 'then.': None, 'Army,': None, 'GLEN': None, 'bars...': None, 'snail': None, 'form': None, 'Blues,': None, 'Save': None, 'further': None, 'bachelorette': None, 'trivia': None, 'enterprising': None, '(CALLING)': None, '\"YOU\")': None, 'Laney': None, 'honeys,': None, 'frat.': None, 'Dutch.': None, 'E-Z.': None, 'koi': None, 'Grampa!': None, 'suru': None, 'complicated': None, 'stored': None, 'tabs.': None, 'HOMER': None, 'dance.': None, 'husband': None, 'name': None, \"Football's\": None, '(FIRMLY)': None, 'HUGH:': None, 'SHOULD': None, 'dumb': None, 'Wh...': None, 'tofu.': None, 'wiener.': None, 'up.': None, 'celebrity': None, 'room,': None, '(WINDED': None, 'stuff!': None, 'dumb?': None, 'Man:': None, 'experience.': None, 'this.': None, \"Barney's\": None, 'tab?': None, 'comedy?': None, 'no.': None, 'am.': None, 'mean--': None, 'digging': None, 'Abercrombie,': None, 'eyes': None, '(EMBARRASSED)': None, 'ARM': None, 'bathtub': None, 'Canyonero': None, 'BUBBLES-IN-MY-NOSE-Y': None, 'Linda_Ronstadt:': None, \"usin'\": None, 'CARD,': None, 'Benjamin': None, 'Elves:': None, 'Words': None, 'take': None, 'jubilant.': None, 'homeless': None, '(HOSTILE)': None, 'adrift': None, 'refund.': None, 'liability.': None, 'treasure...\"': None, 'Glummy?': None, \"England's\": None, 'Miss_Lois_Pennycandy:': None, 'tips.': None, 'GRAB': None, 'Swigmore': None, 'attracted': None, 'powers,': None, 'Mom,': None, 'Marge?!': None, 'weird,': None, 'synthesize': None, 'down...': None, 'normals?': None, 'Greystash': None, 'SEATS': None, 'gentlemen,': None, 'afraid,': None, 'What': None, 'GO': None, 'pursue': None, 'depression?': None, 'single': None, 'teacher!': None, 'appreciated,': None, 'Icelandic': None, 'Foodie': None, 'miserable.': None, '\"special': None, 'closed': None, 'Glen:': None, 'SOBER)': None, '\"Your': None, '(CHANTING)': None, 'Ech,': None, 'desire': None, 'wealthy': None, 'CHEST)': None, 'Cause': None, 'full.': None, 'bulletin.': None, 'stories.': None, 'the...': None, 'pleasant': None, 'listen,': None, 'strategizing': None, '3RD_VOICE:': None, 'Do': None, 'woman,': None, 'friendship': None, 'during': None, 'agree,': None, 'WIRE...': None, 'Hello,': None, 'retired': None, 'DIGNIFIED)': None, '(INTELLIGENT)': None, 'feisty': None, 'France.': None, 'escort': None, 'Manuel,': None, 'gonna,': None, 'was.': None, 'fans,': None, 'Flaming': None, 'step': None, 'Wiggum!': None, '...to': None, 'this:': None, 'Charity': None, 'sucked': None, 'ONE)': None, 'Fletcherism,': None, 'GOOD': None, '(RAISES': None, 'answers': None, 'Haikus': None, '\"best': None, 'POKING,': None, 'Terrace.': None, 'beady': None, 'Yeah!': None, 'Unless,': None, 'Now...': None, 'crappy': None, 'maintenance.': None, 'theme': None, 'infiltrate': None, 'stories': None, 'LADY_DUFF:': None, 'anyway?': None, 'Am': None, 'ninety-nine...': None, 'planet': None, 'Facebook': None, '(SLURPS': None, 'applesauce': None, 'Sideshow_Bob:': None, 'done?': None, 'run': None, 'ENOUGH': None, 'laid': None, 'Shelbyville': None, 'All': None, 'baby': None, 'failure.': None, 'freedom': None, 'Me?': None, 'Ayyy.': None, '(INTRIGUED': None, 'THEN,': None, \"aren't\": None, 'am?': None, 'clubs.': None, 'drawn': None, 'did,': None, 'assumed.': None, 'Skinny,': None, 'Shutting': None, 'parked': None, 'Legally,': None, 'nuts!': None, 'pair': None, 'gift': None, 'Cap.': None, 'Look,': None, 'shirt...': None, 'Edna': None, 'GOTTA': None, 'Car': None, '(DROPPING': None, 'Dr._Julius_Hibbert:': None, \"It's\": None, \"o'clock.\": None, 'Work': None, 'FLAMES)': None, 'agent': None, 'Lisa': None, 'later?': None, 'Blubberino,': None, 'Deadly': None, '\"You': None, 'Homer_Simpson:': None, 'fresh': None, 'quick-like.': None, 'MOUTH)': None, 'schmoe': None, 'cab.': None, '\"positive\"...': None, 'and,': None, 'Picture,': None, 'hours.': None, 'ask.': None, '(COVERING': None, 'AROUND)': None, 'Simpson!': None, 'COLD)': None, '(BITES': None, 'New_Health_Inspector:': None, 'yogurt?': None, 'Chili': None, 'data': None, 'limericks?': None, 'Why': None, 'is:': None, 'Be': None, 'conclude': None, 'Hell': None, 'HERE': None, 'intakes...': None, 'learn?': None, 'Clinton?': None, 'TOYS': None, 'progress.': None, 'leave': None, 'washed': None, '(GRUMBLING)': None, 'SECOND': None, 'He': None, '(PUTS': None, 'support': None, 'Start': None, 'So?': None, 'soon,': None, 'Delete.': None, '(FURIOUS': None, 'sail': None, 'WALLET)': None, 'monkeyshines.': None, 'YOU': None, \"liftin'\": None, 'Read': None, 'hair...': None, '(MURMURS': None, '(DISDAINFUL)': None, 'father!': None, 'floor!': None, 'Alfalfa!': None, \"Who's\": None, 'that?': None, 'ping-pong': None, 'log.': None, 'Bannister.': None, 'boy,': None, '(BELCH)...': None, \"rentin'\": None, 'RAGE)': None, 'no!!': None, '(CALLS': None, 'tenuous': None, '(THRUST)': None, \"I'unno.\": None, \"We'd\": None, \"Buffalo's\": None, 'customers-slash-only': None, 'celebrities': None, 'wildest': None, 'Irish.': None, 'done!': None, 'nation': None, 'W-A-3-Q-I-ZED.': None, 'dislike': None, 'hoping': None, 'kids,': None, 'Beer-dorf!': None, 'Blue.': None, 'anywhere.': None, 'business!': None, 'Pee': None, 'repeated': None, 'martini.': None, 'Why,': None, 'competing': None, 'clean': None, 'bartending': None, 'duty.': None, 'bees!': None, 'Majesty.': None, 'No?': None, 'scared.': None, 'goods': None, 'BITTER': None, 'Lou.': None, 'drunk,': None, 'BARITONE': None, 'SELF-SATISFIED)': None, 'private': None, '\"I\\'m': None, 'Africanized': None, 'heard': None, 'RAINBOWS...': None, 'vacation': None, 'Fatso,': None, 'it?': None, 'show': None, 'wildfever.': None, 'root': None, 'blood.': None, 'ceremony.': None, 'Splendid!': None, 'mini-dumpsters': None, '(TOTALLY': None, 'halvsies': None, 'soaps': None, '(JOVIAL)': None, 'probably': None, 'ball': None, 'boxing!': None, 'but': None, 'Ever.': None, 'Pantry,': None, '70': None, 'Fontaine': None, 'sinkhole.': None, 'READING:)': None, 'endorse,': None, 'Artie': None, \"puttin'\": None, 'list\".': None, 'yesterday?': None, 'One': None, 'Guys,': None, 'fever.': None, 'First': None, 'could': None, 'button-pusher.': None, 'EQUAL': None, 'bedroom': None, 'TUNE)': None, 'date,': None, 'squeezed': None, '...one...two...three...four...': None, 'dumpster': None, 'noticing': None, '(WEARY)': None, 'heave-ho': None, 'COVERS': None, 'SOFT': None, 'heard?': None, 'HIGH': None, 'Old': None, 'idea': None, 'return': None, 'dangerous': None, 'spelling': None, 'Light': None, 'Padre,': None, \"neat's-foot\": None, '(SINISTER)': None, 'super-tough': None, 'Judge_Snyder:': None, 'WITH': None, 'side:': None, 'chick?': None, \"duelin'\": None, 'Browns.': None, 'DECLARED': None, '(BABY': None, 'tornado,': None, 'APPROVAL)': None, 'SHOP': None, 'right': None, 'BENEATH': None, 'jury,': None, 'pal': None, 'milks': None, 'Girl': None, 'gel...': None, 'heart': None, 'Okay.': None, 'rummy.': None, 'patterns.': None, 'getup,': None, 'Wooooo!': None, 'comes': None, 'priceless': None, 'solo!': None, 'stool': None, 'PERVERSE': None, 'place,': None, 'Somebody!': None, 'mind': None, \"pullin'\": None, 'finish': None, 'which': None, 'Spied': None, \"snappin'\": None, 'Secret': None, 'Hmmm.': None, 'knock': None, 'Dearest?': None, 'flack': None, \"America's\": None, 'fumes': None, 'Psst,': None, 'Kissingher.': None, 'another.': None, 'Joey,': None, \"Who'da\": None, 'apology': None, 'Maximum': None, 'us,': None, 'Limited.': None, 'voice.': None, 'Lump': None, 'fifteen': None, 'wallet': None, 'summer': None, 'Cooker!': None, 'SUICIDE': None, 'NEXT': None, 'dangerous.': None, 'On': None, 'something:': None, 'last,': None, \"ain't.\": None, 'Well...': None, '(YAWNS)': None, 'smells': None, '(EXAMINES': None, 'O': None, 'yeah!': None, 'Vegas!': None, 'Runaway': None, '(CONSIDERING)': None, 'couple': None, 'think': None, 'want!': None, 'dear': None, 'changes.': None, 'school,': None, 'charge': None, 'radioactive': None, 'child...': None, 'paying': None, 'toilet!': None, \"Nothin'.\": None, 'God!': None, '(FURIOUS)': None, 'Ohh...': None, 'tape': None, 'los': None, 'plan': None, 'LIE!': None, 'military': None, 'CUSHION': None, 'cow': None, 'Museum.': None, 'inside,': None, 'fistiana.': None, 'started.': None, 'IS': None, 'room.': None, \"ma's\": None, 'Coins': None, 'Mathis': None, 'sharing!': None, 'alley': None, 'PRETTY': None, 'unusual': None, 'planning': None, '(ENTERING,': None, 'blue?': None, 'youse?': None, 'Gordon...': None, 'world': None, '(MEANINGFUL)': None, 'sobriety.': None, 'over,': None, 'dealt': None, 'caper': None, 'putting': None, '(DELIGHTED': None, \"Dad's\": None, 'when': None, 'son!': None, 'barflies': None, \"TV'll\": None, 'Daddy': None, 'shoot': None, 'BEARS)': None, 'kegs': None, 'boys': None, 'GLASSES': None, 'glass,': None, 'renders': None, 'suits': None, 'recipe.': None, 'to?': None, 'decided': None, '(PAINED': None, 'fans': None, 'one?': None, 'leak': None, 'Fox_Mulder:': None, 'Tigers?': None, 'anything!': None, 'our': None, 'habit.': None, 'Mafia': None, 'woman': None, '(POINTED)': None, 'AND:)': None, 'Hilton.': None, 'from?': None, 'booze.': None, 'George': None, 'text': None, 'wolverines!': None, 'company.': None, 'Blowfish?': None, 'backgammon.': None, 'Homie!': None, 'position.': None, 'Ooh,': None, 'PUZZLED': None, 'sausage': None, 'MIXED': None, 'punches!': None, 'owns': None, '\"Young': None, 'are!': None, 'proud': None, 'Tax': None, 'tsk,': None, '(ADMIRING)': None, 'lottery.': None, 'CONCERNED)': None, 'Sedaris?': None, 'whose': None, '(TURNED': None, 'merchants': None, 'company': None, 'dishrag!': None, 'then': None, 'rebuttal!': None, 'Homer...': None, 'Rainier_Wolfcastle:': None, 'pirate': None, \"Nixon's\": None, 'Agh!': None, 'yea,': None, 'skin,': None, 'nonchalantly.': None, 'drop-off': None, 'READING': None, 'buttons?': None, \"THAT'S\": None, 'wall...': None, 'illegal.': None, 'CHUCKLES,': None, 'grand': None, 'around!': None, 'Koholic.': None, 'Pick': None, '\"Homer?\"': None, 'sometime?': None, 'McBain': None, 'clothes.': None, 'Flynt': None, 'Stationery.': None, 'huddle.': None, 'completely': None, 'Oh,...': None, 'BADGE)': None, '(HAPPY)': None, 'yellow,': None, 'One,': None, '(AWKWARD': None, 'advertise': None, 'kid!': None, 'the?': None, '(SPOTTING': None, 'news': None, '(DEFEATED)': None, 'investor': None, 'Oopsie.': None, 'moments.': None, '(SIGHS)': None, 'show-off...': None, 'THAT': None, '\"change': None, 'HIT': None, 'Tune,': None, 'Committee?': None, 'warmth,': None, 'know!': None, \"number's\": None, 'liver.': None, 'SURPRISED)': None, 'watched': None, 'sugar': None, 'sleigh-horses': None, 'Snotball?': None, 'greatest!': None, 'principal,': None, 'glorious': None, 'game.': None, 'tale.': None, 'POINTS)': None, 'mater': None, 'lying': None, \"life's\": None, 'dough': None, 'threw': None, 'Cadillac': None, 'highway': None, 'Gabriel,': None, 'Think.': None, 'Thanks': None, '(SCREAMS)': None, 'Money': None, 'massive': None, 'High': None, 'Ass': None, 'Kentucky': None, 'beatings.': None, 'for?': None, 'prayers.': None, 'HAND)': None, 'back.': None, 'nightmares.': None, 'Wolfe?!': None, 'cattle': None, '(LOUDLY)': None, 'un-sults': None, \"didn't\": None, 'Seas': None, 'railroad': None, 'REM': None, 'reach': None, 'Tinkle\"': None, 'press': None, 'store.': None, 'Refreshingness': None, 'tha...': None, 'off!': None, 'America?': None, 'PLAYING': None, 'back...': None, 'witty': None, 'toxins': None, 'Isotopes?': None, 'there.': None, 'nominated': None, 'gesture,': None, 'unforgettable': None, 'situation?': None, 'Zero': None, 'card!': None, 'Gil_Gunderson:': None, 'renew': None, 'investigating': None, 'Burt_Reynolds:': None, 'Whatever.': None, 'mean,': None, 'flush-town,': None, 'alley!': None, 'equivalent': None, 'Apu_Nahasapeemapetilon:': None, 'stopped.': None, '\"J\"\\'S)': None, 'intoxicants': None, 'girl.': None, 'DARTS': None, 'species?': None, 'turning': None, 'Never': None, \"friend's\": None, 'alright,': None, 'propose': None, 'Disgracefully': None, 'Extra': None, 'off,': None, '(CHOKED-UP': None, 'grab': None, 'nose': None, 'Listen': None, 'SIGHS)': None, 'bumped': None, 'hellhole,': None, 'nameless.': None, 'sadder.': None, 'glamour.': None, \"We're\": None, \"Wait'll\": None, '(INTERRUPTING,': None, 'crushed,': None, 'infor--': None, 'lot.': None, 'celebrities,': None, 'Yes': None, 'tears': None, 'worst': None, 'riveting.': None, 'once?': None, '(SHRIEKS)': None, 'your': None, 'hospital': None, 'rats.': None, 'eye,': None, 'slender,': None, 'Snake-Handler': None, 'sad.': None, 'did': None, 'bathing': None, 'Amanda': None, 'twenty...': None, 'Saget,': None, 'FLY': None, 'SLOW': None, 'inserted...': None, 'Bret,': None, 'weeks.': None, 'host,': None, \"talkin'.\": None, 'remember?': None, 'barkeeps,': None, 'week': None, 'gee,': None, '(GROAN)': None, 'looking,': None, 'tough': None, 'CHAUFFEUR)': None, 'county': None, 'coffee': None, 'Business': None, 'appointment': None, 'buddy?': None, \"drivin'\": None, \"They're\": None, 'is?': None, 'Heavyweight': None, 'closing.': None, 'turn': None, 'Jay:': None, 'okay!': None, 'STILLWATER:': None, 'head.': None, 'Fausto': None, 'Snake-Handler.': None, 'bald.': None, 'traitor': None, \"Moe's.\": None, 'elocution': None, 'Chairman': None, 'son-of-a...': None, 'there...': None, 'passion.': None, 'pepper': None, 'scary': None, 'Th--': None, 'fact,': None, 'Waylon_Smithers:': None, 'Like': None, 'wound': None, 'Smurfs?': None, 'zinged': None, 'bow!': None, '(DRINKING': None, 'up': None, 'Milhouse.': None, 'Space': None, 'aging': None, 'MAGGIE)': None, 'Smitty:': None, 'tickets': None, 'in?': None, 'followed': None, 'virility,': None, 'tonight?': None, 'thank': None, 'conclusions.': None, 'And,': None, 'Hooray!': None, 'celebrate!': None, 'fingers': None, 'Larry': None, '(SQUEALS)': None, 'troll': None, \"ol'\": None, 'wife-swapping,': None, 'talkers.': None, 'fevered': None, \"ridin'\": None, 'Freaky': None, 'follow': None, 'chocolate': None, 'social': None, 'blackjack.': None, 'away,': None, 'picture': None, 'ignorance': None, 'went': None, 'straight.': None, '(SINGS,': None, \"TV's\": None, 'Quimbys:': None, 'Lenny_Leonard:': None, \"one's\": None, 'sign...': None, 'all,': None, 'REMEMBERING': None, 'dollar.': None, \"father's\": None, 'fork': None, 'drinking?': None, 'date.': None, 'ten,': None, 'each!': None, 'against': None, \"s'pose\": None, 'Holy': None, 'difference.': None, '(ACCUSING)': None, 'brother': None, 'in': None, 'joy': None, 'everyone,': None, 'ends.': None, 'hug': None, 'stirrers?': None, 'came.': None, 'flash-fry': None, '(PHILOSOPHICAL)': None, '(SURPRISED)': None, 'Hugh,': None, 'SZYSLAK!': None, \"isn't.\": None, 'hours': None, 'helped': None, 'Yo.': None, 'naturally': None, '(PANTS': None, 'emergency.': None, 'Daddy,': None, 'do?': None, 'girl,': None, 'TEETH)': None, \"SMACKIN',\": None, 'showed': None, 'shove': None, 'reached': None, 'While': None, 'extinguishers.': None, 'Twelve-Step.': None, 'full': None, 'golf': None, 'On,': None, 'enlightened': None, 'our,': None, 'You!': None, 'Nelson': None, '(JUMPS': None, '(INCREDULOUS)': None, 'Achem!': None, 'trail!': None, 'Belly,': None, 'ocean': None, '(TENSE)': None, '(GETS': None, 'sooner,': None, 'pig.': None, 'audience': None, 'rounds.': None, 'blinded': None, '(BREAKING': None, 'nauseous,': None, '\"Sheriff': None, 'broke...': None, 'CALM)': None, '(SEXY)': None, 'Spectacular.': None, 'Other_Player:': None, 'reptile!': None, 'restroom.': None, 'novel.': None, 'Duffman': None, 'brain.': None, 'marriage': None, 'happen': None, 'mitts.': None, 'you?\"': None, 'julep?': None, 'PRIDE.': None, 'FBI,': None, 'annual': None, 'how': None, 'frosty': None, 'thirteen': None, 'Du': None, 'twelve.': None, 'words.': None, 'thanks,': None, 'shindig': None, 'keeping': None, \"What's--\": None, 'America.': None, '(LOUDER)': None, 'skydiving': None, 'automobiles.': None, '(NOT': None, 'Na': None, 'Sharps.': None, 'somehow': None, 'Andy': None, 'divorced': None, 'Selma': None, '\"Good': None, 'needy...': None, 'yourse...': None, 'logos.': None, 'OTHER': None, 'high.': None, 'debonair...': None, 'vacation.': None, '(COOL': None, 'MA': None, 'flag.': None, 'Only': None, 'back?': None, \"'cept\": None, 'Sweet': None, 'stores': None, 'deal': None, 'guys,': None, 'far': None, 'cigarettes.': None, 'wondering': None, 'MEANINGFUL': None, 'feels': None, 'feeling': None, '(PERVERTED': None, 'dungeon': None, 'GET': None, '\"Absolutely': None, 'Happy': None, \"We've\": None, 'RESIST)': None, 'everyone!': None, 'slow,': None, 'watching': None, 'Wanna': None, 'MOAN,': None, '(STEELY-EYED': None, 'midnight.': None, 'attitude.': None, 'Stadium': None, 'period': None, 'Wow...': None, 'Lenford.': None, 'SCARED': None, 'DUMB)': None, 'guess': None, 'wuss.': None, '(TO': None, 'but...': None, 'later!': None, 'outside': None, 'at?': None, 'Kirk_Voice_Milhouse:': None, 'INTO': None, 'shirt,': None, '(HALF': None, 'Red': None, 'YOURSELF': None, 'rich': None, \"livin'\": None, '(WALKS': None, 'incarcerated': None, 'thorn': None, 'if': None, \"neighbor's\": None, 'Drinks': None, 'Marge...': None, 'buttocks?': None, 'Watashi': None, 'Thought_Bubble_Homer:': None, 'Heavyset?': None, 'fix': None, 'Tick': None, 'kids...': None, 'alma': None, 'Carl.': None, '(SOTTO,': None, 'Lucius!': None, \"hawkin'\": None, 'BY': None, 'SHE': None, 'SANITATION': None, 'ones,': None, 'CUDDLING!': None, \"where'd\": None, '(PUTTING': None, 'making': None, 'LAUGHING)': None, 'rebuilt?': None, 'months.': None, 'camera': None, 'MOTHER': None, 'tracks.': None, 'pitch': None, 'Julienne': None, 'prints': None, 'pop': None, 'war.': None, 'would.': None, 'Candles,': None, 'focused': None, 'playing?': None, 'food!': None, 'countryman': None, 'badmouths': None, 'hate-hugs,': None, 'Hurry': None, 'crazy.': None, 'Polish.': None, 'keeps': None, '(DISAPPROVING': None, 'darkest': None, 'MUG)': None, 'cheered': None, 'securities': None, 'Scully,': None, 'AWED)': None, 'jerks!': None, \"doin'?\": None, 'BEER': None, '(SOUTHERN': None, 'hands': None, 'packets': None, 'karaoke': None, 'Sideshow_Mel:': None, 'NERVOUSLY)': None, \"THERE'S\": None, 'suing': None, 'flower?': None, 'wazoo.': None, '(ANNOYED)': None, 'LIB': None, 'rented': None, 'tall': None, 'Rev._Hooper:': None, 'sec.': None, 'way.': None, 'funny': None, 'suds!': None, 'inserts.': None, '(QUIETLY': None, 'Hub,': None, 'hydrant?': None, 'birthday': None, '\"Sister': None, 'befouled': None, 'BELCH)': None, 'BEAT)': None, '(SARCASTIC': None, 'wing!': None, 'lists.': None, 'takeaway.': None, \"people's\": None, 'secrets': None, 'lobster': None, 'Milk': None, 'century.': None, 'over?': None, 'Force': None, 'grim.': None, 'BANK': None, 'HEAVEN': None, 'self-esteem.': None, 'tremendous': None, 'onion': None, 'leave!': None, 'Fat-free': None, 'money?': None, '\"tomorrow': None, 'center': None, 'four': None, 'ballot': None, \"singin'!\": None, '(HAMMY)': None, 'curiosity.': None, 'Me!': None, 'bills.': None, 'wears': None, 'built': None, 'worldview.': None, '21': None, 'Krusty': None, 'tried': None, '\"too?\"': None, 'sun': None, '(SOBBING)': None, 'violin': None, '(ATTEMPTING': None, 'parasol.': None, 'year?': None, 'Pressure': None, 'eight-year-old': None, 'thankful': None, 'Test-lady.': None, 'Hmm.': None, \"dad's\": None, 'Champion': None, '(RINGING': None, 'glad': None, 'Chateau': None, 'life:': None, 'mixed': None, 'Colonel:': None, 'studio': None, 'Hunter?\"': None, '(DREAMILY)': None, 'championship': None, 'HARV)': None, 'Oh': None, '\"Tonight': None, 'room': None, 'steam': None, '(AMID': None, 'money,': None, 'Here.': None, 'once,': None, 'Blob': None, 'inspection.\"': None, 'betrayed': None, 'meal,': None, 'changed': None, 'WHERE': None, 'twenty-five.': None, \"Homer's_Brain:\": None, '(RELUCTANTLY)': None, 'sweeter': None, '\"Stayin\\'': None, '\"could': None, 'sisters': None, 'recruiter': None, 'Pad.': None, '(UNCOMFORTABLE': None, 'Smell': None, 'THEN)': None, 'FWOOOF!': None, '(COUGHS)': None, 'Bart.': None, 'Tommy': None, 'cuff': None, 'favor,': None, 'modern': None, 'myself.': None, 'fat': None, 'market.': None, 'DEEP': None, 'again!': None, 'Vance,': None, 'MAKE': None, 'gold.': None, 'time?': None, 'owned': None, 'Walther_Hotenhoffer:': None, 'LETTER)': None, 'catch.': None, 'civilization.': None, 'Natural': None, 'Hampstead-on-Cecil-Cecil.': None, 'idea!': None, 'serious': None, 'olive': None, 'Dry...': None, 'service': None, 'Ho,': None, 'they...': None, 'grants': None, 'Amber...': None, 'drivers.': None, 'Presidents': None, 'SOBS)': None, 'hungry,\"': None, '\"LOVE': None, 'family-owned': None, 'CONFUSED': None, 'Championship?': None, 'tree.': None, 'Now,': None, 'poisoning.': None, 'mailbox.': None, \"disrobin'.\": None, 'tavern': None, 'Dana_Scully:': None, 'THEN:': None, 'la!': None, 'that?!': None, 'Prime': None, 'Street': None, 'Koholic': None, 'writers,': None, 'Tree_Hoper:': None, 'TV?': None, 'reflected': None, 'perhaps': None, 'tasty,': None, 'rummy,': None, 'business': None, 'effects.': None, \"doesn't\": None, 'pitcher': None, 'carpet...': None, 'cozy': None, 'buddies!': None, 'till': None, \"sittin'\": None, 'polite': None, 'expect': None, 'Does': None, \"wasn't\": None, 'solo.': None, 'afternoon.': None, 'spirit!': None, 'career': None, 'LOTS': None, 'mister.': None, 'SEEK': None, 'inspector?': None, 'box!': None, 'Szyslak,': None, 'amends': None, 'Family': None, '(OUT': None, 'maybe...': None, 'mistake': None, '(THOUGHTFUL': None, 'now...': None, 'discriminate': None, 'father.': None, 'good-looking': None, 'win.': None, 'Hiya,': None, 'helps.': None, '\"theatah\"!': None, 'fuss.': None, 'Baloney.': None, 'Has': None, \"goin'.\": None, 'whispered': None, \"'bout\": None, 'Ha,': None, 'Cream.': None, 'OhmyGod,': None, 'LIGHT': None, 'fad': None, 'hot.': None, 'want.': None, 'like': None, 'again?!': None, 'winnings.': None, 'roll': None, 'Care\".': None, 'winnings': None, 'limber': None, 'Forty-nine': None, 'Nah,': None, 'handler.': None, '(FRINK': None, 'nickels?!': None, 'Connor?': None, 'knew': None, 'princess,': None, 'Tubman,': None, 'four.': None, 'lied.': None, 'machine!': None, '&': None, 'Director:': None, 'channel': None, 'neon': None, 'Woooooo!': None, 'squabbled': None, '(GOES': None, 'Looks': None, 'shotgun,': None, '(HANGS': None, 'talk,': None, 'them': None, 'lately.': None, '(POPPING': None, '\"right': None, 'plants': None, 'factor': None, 'cookies': None, 'dammit,': None, 'Men:': None, 'go': None, 'HURT)': None, 'FIND': None, 'clearing': None, 'belly-aching,': None, 'MUG...WHOSE': None, 'Securities': None, \"writin'\": None, 'worried': None, 'ivory?': None, 'Announcer:': None, 'Suicide': None, 'yeah...': None, '(SPITTING': None, 'Young_Moe:': None, 'advertising': None, 'Christmas,': None, 'Night.': None, 'socialize.': None, 'worse.': None, 'familiar': None, 'nos.': None, 'mug': None, 'MURMURS)': None, 'Mike': None, 'self': None, 'scarf.': None, 'Lodge.\"': None, \"showin'\": None, '(PROUD)': None, 'Haw': None, 'REASONABLE)': None, \"she's\": None, 'Mister?': None, 'FILTHY': None, 'RAGTIME,': None, 'ONCE': None, 'touch': None, 'mean': None, 'book.': None, 'Agents': None, 'health': None, 'then,': None, 'night?': None, 'well.': None, 'Kiss...': None, 'painting': None, 'Edna_Krabappel-Flanders:': None, 'weary': None, 'Bill': None, 'alls': None, 'right!': None, 'easy.': None, 'stay.': None, 'Buffalo': None, 'FRONT': None, 'sucker': None, 'Wrecking': None, 'Denver': None, 'lover?': None, 'DAAAAAD!': None, 'inspector': None, 'medicine,': None, 'Rhode': None, '(BURPS)': None, 'bar?': None, 'Motel,': None, 'nose.': None, 'work': None, '(FLUSTERED)': None, 'everybody.': None, 'away': None, 'character': None, '\"seats': None, 'heart.': None, 'Butts?': None, 'reaching': None, 'puffy': None, 'times': None, 'shag.': None, 'wind...': None, 'juke': None, 'syrup?': None, '(BELCHES)': None, 'town!': None, 'Denser?!': None, 'Jeter': None, 'wife,': None, 'Woo-hoo!': None, 'CLEAN': None, 'Once': None, 'email': None, 'nice': None, 'Coming,': None, 'LEGS)': None, 'Sir,': None, 'oh!': None, 'disappeared': None, 'morning,': None, '(SIPS)': None, 'sunny!': None, 'Springfield': None, 'scotch': None, 'donut.': None, 'Ayyy!': None, 'pushing': None, 'World': None, '(WALKING': None, 'Er,': None, 'music': None, 'disappointing.': None, 'flown': None, 'solely': None, 'know?': None, 'men': None, 'Renee?': None, 'ridiculous,': None, 'home.': None, 'talking': None, 'Flanders!': None, 'tolerable': None, '(MUMBLING)': None, 'Duff.': None, 'ocean.': None, 'Super': None, 'steampunk,': None, 'privacy': None, 'Jack_Larson:': None, 'intimacy.': None, 'LONG': None, 'it...': None, 'ladies,': None, 'does': None, 'neighborhood.': None, 'Teenage_Homer:': None, 'come': None, 'settles': None, 'newest': None, 'Gator:': None, 'lovely': None, \"You'll\": None, 'gosh...': None, 'Turns': None, 'lottery!': None, 'window,': None, 'diaper,': None, 'soul,': None, 'worry': None, 'doll-baby.': None, 'Apu...': None, 'ourselves?': None, 'two,': None, 'meaning': None, 'expired': None, 'confidence.': None, 'slogan': None, 'errrrrrr...': None, 'expense': None, 'Gol-dangit': None, 'New': None, 'Playhouse': None, 'COCOA': None, 'hole\\'.\"': None, 'Woo': None, 'gag?': None, 'luxury': None, 'diamond': None, 'Platinum.': None, 'hands.': None, 'customer.': None, 'waist?': None, 'blobbo,': None, 'LOOK)': None, 'Th-Th-Th-The': None, 'BULLY': None, 'bury': None, 'away.': None, 'diddilies': None, 'polygon.': None, 'grand!': None, '\"Can\\'t': None, '(FROM': None, 'decision': None, 'enough.': None, 'Salvador': None, 'even.': None, 'none!': None, 'sorts': None, 'courthouse.': None, 'error,': None, 'C.O.D.': None, '(SOOTHING)': None, 'mortal': None, 'private,': None, 'language.': None, 'politician': None, 'years...': None, 'scare': None, 'spender,': None, 'SAYS': None, 'Never.': None, 'push': None, 'whatchacallit,': None, 'Incredible.': None, 'idiot': None, 'satisfaction': None, 'TIMBUK-TEE': None, 'beginning...': None, 'brothers': None, 'lobster-based': None, 'Wish': None, 'Four': None, 'ventriloquism': None, \"Santa's\": None, '(LOSING': None, \"That's\": None, 'Hell.': None, 'steal': None, 'Also...': None, 'cheers': None, 'leave.': None, 'pop!': None, 'Lenny.': None, 'Hmf,': None, 'Homer?': None, \"we've\": None, 'inspiring.': None, 'people': None, 'all-all-all': None, 'Stewart': None, 'clap': None, 'Mary!': None, 'cooking.': None, 'age': None, 'MAN)': None, 'EVERY': None, 'busy.': None, 'fantastic': None, 'theater.': None, 'EYES)': None, '(GRUNT)': None, 'dump': None, 'SWITCH)': None, 'Absolut': None, 'NEED': None, 'Renee:': None, 'passes': None, 'Muertos': None, 'shaggy': None, 'Gardens,': None, 'spend': None, 'queer.': None, 'excuse': None, 'Queen': None, 'cock': None, 'raising': None, 'lots': None, 'future.': None, 'sweetheart,': None, 'administration': None, 'everything,': None, 'sense': None, 'Fbi_Agent:': None, 'Used': None, 'knuckles.': None, 'the...Cheery': None, 'Lennyy\":': None, 'are': None, 'complete.': None, 'clammy': None, 'get?': None, 'Female_Inspector:': None, 'lookalikes': None, 'king': None, 'covering': None, 'Couple': None, 'depressant': None, '(TIPSY)': None, 'Jasper_Beardly:': None, 'Male_Singers:': None, 'perch.': None, 'go.': None, 'CONTEMPTUOUS)': None, 'felony': None, 'uncle...': None, 'Bret:': None, 'Troy,': None, 'easy!': None, \"s'okay.\": None, 'temper.': None, 'type...\"': None, 'lowest': None, 'of.': None, 'air.': None, 'Jeez.': None, '\"Eventually': None, \"Haven't\": None, 'Blue': None, 'fl--': None, 'Dang!': None, 'I-I': None, 'Bowling.\"': None, 'No,': None, 'IDEA,': None, 'Legoland.': None, 'boring.': None, 'slice': None, '(UNCOMFORTABLE)': None, 'Soaking': None, 'from.': None, 'angel.': None, 'nectar': None, 'unavailable': None, 'toys': None, 'jacks.': None, 'pants': None, 'Whee...': None, 'Patrons:': None, 'beat': None, 'website': None, 'peace': None, 'Well,': None, '(YELLING)': None, 'gold--': None, 'store!': None, \"leavin',\": None, 'ribbon': None, 'clown-like?': None, 'Maybe.': None, 'NO': None, '(BEAT,': None, '(CUTTING': None, 'Robin': None, \"choosin'\": None, 'remote.': None, '\"...and': None, 'wire': None, 'light': None, 'contract.': None, 'needs': None, 'albeit': None, 'out!': None, 'some,': None, 'service.': None, 'wantcha': None, \"Jimbo's_Dad:\": None, 'Pardon': None, 'Snake_Jailbird:': None, 'back': None, 'smell': None, 'ridiculous.': None, 'Skinner,': None, 'phone': None, 'mine': None, '\"Homer,': None, 'Chug!': None, 'BAND)': None, 'spread': None, '(Ã€': None, 'Ivana': None, 'yes': None, 'wild.': None, 'patented': None, 'BUSINESS)': None, 'clean...': None, 'pus-bucket.': None, 'over': None, 'Cab_Driver:': None, 'anyone': None, 'bad': None, 'typed': None, 'as...': None, 'us': None, 'face!': None, 'heads': None, 'FAST-PACED)': None, \"eatin'\": None, 'training.': None, 'Minimum': None, 'outside?': None, 'handsome,': None, 'SNEAK': None, 'spy': None, 'attention.': None, 'shooting': None, 'DRAMATIC)': None, 'dry': None, 'eh?': None, 'Aristotle:': None, 'Puke-pail': None, '(\"WHY': None, 'Bart_Simpson:': None, 'shoes': None, 'gargoyle,': None, 'fat,': None, 'PLACE': None, 'UNHAPPY)': None, 'Mm-hmm!': None, 'F,': None, 'rather': None, 'lecture': None, 'labor': None, 'Ahhh,': None, 'sixteen.': None, 'hard,': None, 'Square': None, 'Federal': None, 'bid': None, \"HE'S\": None, \"Nick's!\": None, 'Good.': None, 'Diablo.\"': None, 'medical...': None, 'shelf.': None, 'terror': None, 'LAUGHTER)': None, 'Dennis_Conroy:': None, 'too!': None, 'temp': None, 'ordered,': None, 'Moe.': None, '(QUICKLY': None, 'bushes.\"': None, 'rolling.': None, 'bachelorhood': None, \"How'd\": None, 'Brawled': None, 'strawberry': None, 'compliment': None, 'strategy': None, 'Mason': None, 'Protestantism.': None, 'movies,': None, '(PETER': None, 'Kansas': None, 'statues.': None, 'important.': None, 'clone?': None, 'breakdown': None, \"Tomorrow's\": None, 'activity?': None, 'have.': None, 'Monday': None, 'race.': None, 'mind,': None, 'kidding?': None, 'nightmare': None, 'Band,': None, 'Ooo': None, 'one-hour': None, 'outta': None, 'Lighten': None, 'judge,': None, 'sooo': None, 'twenty': None, 'Cheerleaders:': None, 'beating': None, 'grope': None, 'BEAM.': None, 'treat': None, '(GRUDGINGLY)': None, 'Mrs.': None, 'wish': None, 'Chapel,': None, 'everybody': None, 'Ronstadt?': None, 'CALMLY)': None, \"he's\": None, '(PERKING': None, '(YELP': None, 'thing?': None, 'yap.': None, 'hurry!': None, 'Finished': None, 'cares?': None, 'boys,': None, 'hollowed-out': None, '(THEN)': None, 'heads.': None, 'hope...': None, 'Mayor': None, 'belt': None, 'Faulkner': None, 'TRIUMPHANTLY)': None, 'impress': None, 'mid-seventies.': None, 'really': None, \"Toot's\": None, 'face.': None, 'insulted': None, 'Lenny...my': None, '\"KING': None, '(REACHING': None, 'More': None, 'EAT,': None, 'alibi,': None, 'SCULLY)': None, 'Make': None, '\"without': None, '(RAISING': None, '(Reaches': None, \"drinkin'.\": None, 'Rupert_Murdoch:': None, 'public.': None, 'eats,': None, 'stepped': None, '(GUESSING)': None, 'government': None, 'Stagehand:': None, '(SHUTS': None, 'supermarket,': None, 'pick.': None, 'HE': None, 'shreda': None, 'HAVE': None, 'Kyoto,': None, 'forget-me-drinks': None, 'release,': None, '(SNIFFS': None, 'Dr._Zander:': None, 'Whaaaa?!': None, 'got.': None, 'order': None, 'FINGERS)': None, 'tar-paper.': None, 'blur.': None, \"fallin'\": None, 'missing': None, 'ivy-covered': None, 'sister-in-law,': None, 'friction': None, 'PRIDESTERS:': None, 'seeing': None, 'Tsk,': None, 'unlocked.': None, 'forgot': None, 'named...(PAUSE)': None, 'surprise': None, 'Mayan': None, 'Lord.': None, 'Pages.': None, 'Rob': None, 'irrelevant.': None, 'potato': None, 'Every': None, 'Steal?': None, 'pretending': None, 'match...And': None, \"Springfield's\": None, 'gorgeous,': None, 'offense,': None, \"'em\": None, '\"buddy\"': None, 'Drederick': None, '(CHEERS': None, 'my,': None, 'But...': None, 'hammock': None, 'IN': None, 'Edna,': None, 'side': None, 'Eddie:': None, 'million': None, 'racially-diverse': None, 'she': None, 'is.': None, 'sight.': None, '(LAUGHS)': None, 'bar!': None, 'them.': None, 'Clinton': None, 'game,': None, 'therapist.': None, 'have?': None, 'everywhere.': None, 'queen?': None, '(PLAINTIVE)': None, 'situation,': None, 'blamed?': None, 'talked': None, 'chance.': None, 'spiritual.': None, 'hits': None, 'noble': None, 'payback?': None, 'Anthony_Kiedis:': None, 'refill': None, '(OFFENDED)': None, 'laugh': None, 'cheap': None, 'bookie': None, 'Tony!': None, 'Might': None, 'dame': None, 'Sex': None, 'angry.': None, 'free': None, 'sell': None, 'Edna.': None, 'beautiful': None, 'Obama': None, 'They...': None, 'well-wisher,': None, 'while': None, 'not': None, 'through': None, 'THEIR': None, 'legal': None, 'afford': None, 'around--': None, 'leathery': None, 'chipped': None, 'Homers\"?': None, 'informant': None, 'Wiggum.': None, 'promise.': None, 'compliment!': None, '(\"DUH\")': None, '(SHAKING': None, 'Maya.': None, '(RECITING)': None, '(PORTENTOUS)': None, 'Sperm': None, 'applicant': None, 'band': None, 'Annie,': None, 'Bill_James:': None, '(INTOXICATED': None, 'plywood': None, 'Manboobs,': None, 'JAMS': None, '(opens': None, 'EXCITEMENT)': None, 'trustworthy': None, 'asking': None, 'recap:': None, '(MOE': None, 'Cheryl,': None, 'Menlo': None, 'freedom.': None, 'teen.': None, 'quarry': None, 'theatrical': None, 'cute': None, '(SHAKY)': None, 'big,': None, 'precious.': None, '\"help': None, 'cushions!': None, 'advantage': None, 'LANEY_FONTAINE:': None, 'GLEN)': None, 'citizens': None, 'city': None, 'Chocolate...': None, \"robbin'\": None, 'john.': None, 'hall': None, 'town.': None, 'some': None, 'tale': None, 'saucy': None, 'Poin-dexterous.': None, 'Aer': None, 'bets': None, \"other's...\": None, 'skunk.': None, 'pre-game': None, 'system.': None, 'befouled.': None, '(BELCH).': None, 'offensive.': None, 'self.': None, 'MANY': None, 'suit?': None, 'Your': None, 'vestigial': None, 'please,': None, 'say,': None, \"you've\": None, 'mural!': None, 'BEST': None, \"HE'LL\": None, 'BREAKING': None, 'slobs': None, 'Aziz?': None, 'traditions': None, 'ineffective.': None, 'Watch': None, 'sense.': None, \"waitin',\": None, 'seconds': None, 'HAVE...': None, 'SI-LENT': None, 'DEAR,': None, 'jail?': None, 'almond': None, '(SCORNFULLY)': None, '(ENCOURAGING)': None, 'SOMETHING)': None, 'mock': None, \"shan't.\": None, 'that!': None, 'guys!': None, '(FONDLY)': None, 'pusillanimous': None, 'be.': None, 'Peppers.': None, 'Smithers,': None, 'thinking?': None, 'ingested': None, 'slop,': None, '\"Can': None, 'dirt!': None, 'GIGGLE)': None, 'damage!': None, 'located?': None, \"they've\": None, 'PHONE': None, 'jernt.': None, 'Brockelstein': None, 'COAT)': None, 'effervescent!': None, 'minute!': None, 'Transylvania': None, 'JERRY': None, 'elect': None, 'prepared.': None, \"chewin'\": None, 'Boo!': None, 'average-looking': None, 'STOMACH)': None, 'Cannoli,': None, 'doors!': None, 'meditative': None, 'bottom.': None, 'stands': None, 'works,': None, 'around,': None, 'problem': None, 'fragile...': None, 'self-centered.': None, 'walks': None, 'special.': None, 'ever,': None, 'funeral.': None, 'ga--': None, 'Go!': None, 'Hooch': None, 'noise.': None, 'portfolium': None, 'HORRIFIED)': None, 'folks': None, 'Nineteen': None, 'skills.': None, 'meaningful': None, 'Evening,': None, 'WHAT': None, 'murdered': None, 'cost': None, 'game': None, 'Cowboys': None, 'Loboto-moth.': None, 'Starla:': None, 'changed,': None, 'General': None, 'technical': None, 'CHANGES': None, 'stand': None, 'TERIYAKI': None, 'KLINGON': None, 'Earth': None, '(GUILTILY)': None, 'Duffman!': None, 'ways': None, 'luv.': None, 'beer-jerks.': None, 'XX!': None, 'SHOO\")': None, 'town': None, 'sweetie.': None, 'pickle.': None, 'Unless': None, 'heard,': None, 'weapon': None, 'slit': None, 'quero': None, 'Then': None, 'choice': None, 'ma': None, \"breakin'\": None, 'kid': None, 'ago': None, 'plum.': None, '8': None, 'newsies.': None, 'Winston': None, 'ah--': None, 'eye?!': None, 'Stick': None, 'M.': None, 'Plant': None, 'kill': None, \"Brady's\": None, 'Reader': None, 'sauce,': None, 'That': None, 'WORLD': None, 'dry.': None, 'unintelligent,': None, 'Cake': None, '(CHUCKLES)...': None, 'Las': None, 'Hitler.': None, 'Susie-Q,': None, 'betcha.': None, 'gone,': None, 'quarterback.': None, 'driver': None, 'wacky': None, 'P.M.,': None, 'care,': None, 'Ned.': None, 'come!': None, '(UNDER': None, 'sugar-free': None, '(QUICKLY)': None, 'brow.': None, 'reserve.': None, 'Vampire': None, 'Boned,': None, 'senators...with': None, 'bad!': None, 'knock-up': None, 'drunk?': None, 'bowl...': None, 'illegal?': None, \"fine-lookin'\": None, 'pile': None, \"everyone's\": None, 'SWEET': None, 'LLOYD)': None, 'I--': None, 'Cliff': None, 'meals!': None, 'Burnside.': None, 'cleaning!': None, 'vacuum': None, 'wasting': None, 'LOOKS)': None, '(REASONABLE)': None, 'inflated': None, 'ever.': None, '(SUPER': None, 'principal?': None, 'indeed.': None, 'yet,': None, 'y--': None, 'team,': None, '(SINGING': None, 'ARTIE)': None, 'Mouse': None, 'ROLL)': None, 'Me?!': None, 'legs.\"': None, 'scream': None, 'Wolfcastle.': None, 'souped': None, 'Ha!': None, 'burning': None, 'Sounds': None, 'die.': None, 'been': None, 'joke,': None, 'tab,': None, 'successful': None, 'INSTEAD': None, 'name:': None, 'corpses...': None, 'kicks': None, 'LESS': None, 'Crazy': None, 'retain': None, 'CAN': None, '(GRABBING': None, 'frontrunner': None, 'those.': None, 'Lainie:': None, 'meteor': None, 'NOOOOOOOOOO!': None, 'Nah.': None, 'mill': None, 'affectations': None, 'VICIOUS)': None, 'Geez': None, 'managing': None, 'domed': None, 'margarita.': None, 'ingrates!': None, 'enjoy': None, 'routine.': None, 'chance': None, 'without:': None, 'Attention': None, 'church.': None, 'fellas?': None, 'Connor-politan?': None, 'died,': None, \"man's\": None, 'Nagurski': None, 'friend': None, 'now,': None, 'Pal?': None, 'dancing': None, 'share': None, 'SITS)': None, 'career.': None, 'heading': None, '...True': None, 'brilliant.': None, 'schizophrenia.': None, 'King,': None, 'Tony,': None, 'lemonade,': None, 'Gumbo,': None, 'bellyaching,': None, 'veteran...': None, 'Windex.': None, 'Lisa.': None, 'jobless': None, \"beer's\": None, 'Nor': None, '(AWED)': None, 'Ya...': None, 'ticks': None, 'lessons?': None, 'daughter': None, 'babies': None, 'bucket.': None, 'GUYS)': None, 'beers': None, 'la': None, 'Mom?': None, 'allow': None, 'best': None, 'wait!': None, 'THEM': None, 'friend,\"': None, '\"delete\"': None, 'church': None, 'all-star': None, 'guy.': None, 'cries,': None, 'Bret.': None, 'SUPER': None, 'app': None, '\"bar.\"': None, 'ehhhhhh': None, 'LOUD)': None, 'Hanh?!!!': None, 'gone?': None, 'You-need-man.': None, 'Mariah': None, 'Smithers': None, 'Oooh.': None, '(HANDING': None, 'thumb!': None, '(RELIEVED': None, 'finding': None, 'guns': None, 'Jackson.': None, 'mate!': None, 'Deer': None, 'yesterday.': None, 'Man!': None, 'Moe_Recording:': None, \"It'll\": None, '(GIGGLES)': None, 'TRAPPED': None, '(GROWING': None, '(CONSPIRATORIAL)': None, 'Bible...': None, 'Bleeding': None, 'kind': None, 'enemy,': None, 'signal?': None, 'cheese\"': None, 'unearth': None, 'Show': None, 'getcha?': None, 'state,': None, 'underpants': None, 'although': None, 'TV.': None, 'REMORSEFUL)': None, '(MUTTERING)': None, 'elite': None, '\"tell.\"': None, 'keys?': None, 'loser...': None, 'wrong?': None, 'friendly,': None, '(AGHAST)': None, 'badges.': None, 'Ã': None, 'Ooh.': None, 'something,': None, 'open?': None, 'deadly,': None, 'family,': None, '(BURP)': None, 'weirder': None, 'miss?': None, 'relax!': None, 'hobo?': None, 'Deacon?': None, 'return?': None, 'shares': None, 'BE...': None, 'aside,': None, 'Very': None, 'moron!': None, '(CONTEMPLATES': None, 'stationery.': None, 'handsome!': None, 'Night,\"': None, 'Minister': None, 'cover': None, 'GALS...': None, 'Whenever': None, 'inspiring': None, 'William': None, 'SLURRED)': None, 'WATCH,': None, '(POKING': None, 'line.': None, 'standing': None, 'Nice.': None, 'BACK': None, 'represent': None, \"hasn't\": None, 'prank': None, 'RADISHES)': None, 'Doreen': None, 'laugh.': None, 'espousing': None, '(ABSENTMINDED,': None, 'tribute.': None, '(BIGGEST': None, '(RE:': None, \"renovatin'.\": None, 'kazoo!': None, 'crippling': None, 'high,': None, \"others'\": None, 'Germans': None, \"CAN'T\": None, 'Lovelorn.': None, 'school': None, 'Fire_Inspector:': None, '250': None, 'at.': None, 'goodwill': None, \"enjoyin'\": None, 'THEN': None, 'blown': None, '(STARTS': None, '(SPITS': None, 'Stop': None, 'sky.': None, 'bar,': None, 'laughing': None, 'devastated.': None, 'needs.': None, 'sheets': None, 'addiction': None, '(PRESSES': None, 'three-man': None, 'mad': None, 'writing?': None, 'wanted': None, \"Can't\": None, 'dinks.': None, 'looking': None, 'hmm.': None, 'soul': None, '(FURIOUSLY)': None, 'Bon': None, 'Rotch,': None, 'dear?': None, 'out...': None, 'suspenders': None, '\"Renee,': None, 'alphabet.': None, 'miss': None, '(WITH': None, 'gimme': None, '...so': None, 'settlement...': None, 'park': None, '\"PARK': None, 'goes,': None, '(SADLY': None, 'Skinner!': None, 'She-Pu.': None, 'workers.': None, 'Avenue': None, 'fortune': None, 'LUCIUS:': None, 'heart,': None, 'Everything': None, 'fighter.': None, 'disappointment,\"': None, 'Kemi': None, 'discussing': None, 'ANNOYING': None, 'ANSWER)': None, 'fantasy': None, 'Lord': None, 'throat': None, 'Rickles': None, 'those': None, 'PIECE': None, 'Delivery_Boy:': None, '(ANGUISHED)': None, 'red': None, 'counterfeit': None, 'soon.': None, '(GROANS)': None, 'heavens,': None, 'Leno': None, 'blood-thirsty': None, 'fire.': None, 'grammar.': None, '(GAGS,': None, 'cotton': None, 'Lemme': None, 'Aiden...': None, 'one,': None, 'lost.': None, 'Men?\"': None, 'Dad.\"': None, 'liven': None, 'train': None, 'SELF,': None, 'sixty': None, 'Short': None, 'into': None, 'Day.': None, 'guinea': None, 'beach...': None, 'MORE)': None, 'der,': None, 'SINGS,': None, 'paint': None, 'UNDERSTANDING': None, 'ruined': None, 'Oh.': None, 'ya!': None, 'brief': None, 'force.': None, 'bed.': None, 'books.': None, 'partner,': None, 'happened,': None, \"HERE'S\": None, 'insist': None, '(EYES': None, 'HAPPILY:)': None, 'Quiet': None, 'Quit': None, '(ANGRILY)': None, 'RECOMMEND': None, 'helicopter!\"': None, 'chained': None, '(THROWS': None, \"stallin'\": None, '\"Fireball\"': None, 'curds!': None, 'LOOK),': None, 'Bye': None, '(SOBS': None, 'cents.': None, '(STILL': None, 'BEING': None, 'UGLY': None, 'standards': None, 'wine,': None, 'Channel': None, 'knocked': None, 'homeland?': None, 'bottom': None, 'beam': None, 'dance': None, 'somewhere,': None, 'mess': None, 'loser!': None, \"I'LL\": None, '(FLAILING)': None, 'uh.': None, 'fly': None, 'prayer': None, \"World's\": None, 'life!': None, 'stirring?': None, 'TREEHOUSE': None, 'thoughts...': None, '(DREAMY)': None, 'booze': None, '\"There': None, 'fool.': None, \"Lisa's\": None, 'beef': None, 'public': None, \"COULDN'T\": None, \"'roids\": None, 'change,': None, 'beyond': None, 'ninety-eight': None, 'lovers!': None, 'cut': None, 'terminated.': None, 'beach.': None, 'HURT': None, \"YOU'RE\": None, 'Hello.': None, 'France!': None, \"doin',\": None, 'inquiries?': None, 'AROUND,': None, 'CLOTHES!': None, '(SUSPICIOUS)': None, 'nap': None, 'spot': None, 'piano!': None, 'working': None, 'Homer.': None, 'WHY,': None, 'gift:': None, 'KILLARNEY': None, 'asleep.': None, 'Walther': None, 'Stay-puft,': None, 'barbed': None, 'believe,': None, 'Corporation.': None, 'Pipe': None, 'Jesus!': None, 'begins,': None, 'may': None, 'LIFE': None, 'wants...beer': None, 'bees.': None, 'taxes!': None, 'FINGERS,': None, 'Quick,': None, 'Princesses': None, 'out,': None, \"What's\": None, 'Milhouse,': None, '...seven...eight...': None, 'full-time': None, 'mines?': None, 'poke': None, 'something.': None, 'meant.': None, 'selling': None, 'Up': None, '(WRITING)': None, '(TWERPY': None, 'PAINLESS': None, '(PILING': None, 'TOO': None, 'Life': None, 'Alive?\"': None, '(HOMER': None, 'YES!!': None, 'friend!': None, 'foibles': None, 'Frescas': None, 'answer.': None, 'pas': None, 'device': None, 'Of': None, 'COMFORTING)': None, 'afternoon,': None, '\"HERE': None, 'SMITHERS)': None, 'choice:': None, 'oughta': None, 'car': None, 'tongue': None, 'Geez!': None, 'Front!\"': None, 'problemo.': None, '(OFF': None, 'evening...': None, 'McStagger': None, 'offer': None, 'museum': None, 'for...': None, 'ARSE': None, 'opening': None, 'SIMON': None, 'yourselves': None, 'come.': None, '(A': None, 'drink?': None, 'Call': None, 'Kwik-E-Mart!': None, '(STRAINING)': None, 'easier': None, 'assassination,': None, 'hello.': None, 'small': None, 'frog': None, 'own': None, 'row,': None, '(BREAKS': None, 'any': None, 'throw?': None, 'bride?': None, 'Heaven': None, 'pretty,': None, 'suck.': None, 'THEN:)': None, 'poetry': None, 'own.': None, 'Nemo\"': None, 'toward': None, '(ANNOYED,': None, 'novelty': None, '\"senator,\"': None, 'CRYING': None, 'stars!': None, 'occupation.': None, 'promised': None, 'overstressed.': None, 'Chinese': None, 'Chief.': None, \"'your\": None, 'damn': None, '\"Stripes!\"': None, '(SAD': None, 'DAMN': None, 'guys.': None, 'K.F.C.': None, 'sucks': None, 'Wayne?': None, 'Klingon': None, 'seminar': None, 'see': None, 'hand.': None, 'screw': None, 'Michael,': None, '\"Sudoku\"': None, 'Compared': None, '(WOOZY)': None, \"WHO'S\": None, 'ugly': None, 'Could': None, 'ON)': None, 'quickly,': None, 'porn': None, 'delivery.': None, 'specified': None, 'HIMSELF)': None, 'unlucky': None, 'mayor?': None, 'mention': None, 'rip': None, 'faces': None, 'Kent.': None, 'died': None, '\"Red': None, 'brains!': None, 'eyeball': None, 'Ah,': None, \"city's\": None, 'spilled': None, 'crap?': None, 'Wow': None, '(PANICKY)': None, 'story!': None, '(UNEASY)': None, '(HOPEFUL)': None, \"o'\": None, 'thesaurus.': None, 'ruined,': None, 'file.': None, 'Kermit': None, \"o'clock,\": None, 'Homie': None, 'number': None, 'reality': None, 'election': None, 'GRIFFITH,': None, 'incapable': None, 'aims': None, 'due': None, \"jackpot's\": None, 'perfected': None, 'Seven': None, 'aged': None, 'ugly?': None, 'advance.': None, 'cent': None, '(\"SHOO': None, 'dude': None, 'thousand-year': None, 'driving': None, '(TAPS': None, \"'TIS\": None, 'tree': None, 'Voice': None, 'Jebediah': None, 'here': None, \"C'mon,\": None, 'snout.': None, 'handling': None, 'Stonewall': None, 'balloon!,': None, '(REALIZING,': None, 'SELLING)': None, 'desperate': None, 'detecting': None, 'fight': None, 'chain.': None, 'TEMPLES)': None, '\"Bonfire': None, '(THEN,': None, \"Don't\": None, 'Young_Marge:': None, 'weirder?': None, 'lessee': None, 'fox!': None, 'Yeah,': None, 'checking': None, 'McCarthy': None, 'death.': None, '(SAD)': None, 'star...': None, 'scooter': None, 'tasimeter,': None, 'long,': None, 'late.': None, 'lumpa': None, 'ought': None, 'soul-crushing': None, 'why...': None, 'JOLLY': None, 'howya': None, 'bottles': None, \"somethin':\": None, 'important': None, '(UNDERSTANDING)': None, 'P.M.': None, 'learned': None, 'shock.': None, 'principles,': None, 'prove': None, 'EMOTIONAL)': None, 'Seymour...': None, 'Lee': None, 'A': None, 'change': None, 'Underbridge': None, '\"Orgasmville\"?': None, 'older,': None, 'Moe\\'s\".': None, 'until': None, 'KNOWING': None, '(LIFTS': None, 'Declan?': None, '(SCRUTINIZES': None, 'NIBBLE': None, \"o'clock\": None, 'Night': None, 'directions': None, 'eighty-seven': None, '(SCRATCHING': None, 'FULL-BODIED...': None, '\"...coin': None, 'hurt.': None, 'wait...': None, 'Hello...': None, 'Ingredient': None, 'regretted': None, \"spiffin'\": None, 'Barney,': None, 'reward,': None, 'sneeze': None, 'since': None, 'Skoal!': None, 'mini-beret': None, 'mind-numbing': None, '(FRIENDLY)': None, 'blues': None, 'bums.': None, 'corporate': None, 'Jack': None, 'between': None, 'FRUSTRATED': None, 'phone,': None, 'French': None, 'express.': None, 'ugliness.': None, 'recommend': None, 'Deli,': None, 'bouquet': None, 'Hi': None, 'slap.': None, 'In': None, 'drove': None, 'caught': None, 'orifice,': None, 'halfway': None, 'PRIZE,': None, 'TEDDY': None, 'shipment?': None, \"tootin',\": None, 'CAKES': None, 'Really': None, 'undermine': None, 'loser.': None, 'Certified': None, 'reopen': None, 'BUT': None, 'White': None, 'children': None, 'WHOSE': None, 'first': None, 'know...': None, 'eyes.': None, 'HIMSELF,': None, 'trade': None, 'AT': None, 'reason.': None, 'thing:': None, 'Ha-ha!': None, \"nothin'...\": None, '(POINTEDLY,': None, 'disturbing': None, 'process.': None, 'dingy': None, 'rekindle': None, '(VULNERABLE)': None, 'HAIR)': None, 'you...': None, '(BIG)': None, 'rancid,': None, 'Mister': None, 'cake': None, 'FACE': None, 'no!': None, 'Hootie': None, 'BRUSQUE)': None, 'crummy': None, 'happened.': None, 'baby.': None, 'Ahhhh,': None, 'whoa': None, 'moolah-stealing': None, 'WORLD,': None, 'pool': None, 'amazing': None, 'alcoholism': None, 'Beach.\"': None, 'broke': None, 'Dean': None, 'syndicate.': None, 'Gee,': None, 'fishing': None, 'Hello?': None, 'Michelin': None, 'booking': None, 'advice,': None, 'Oh...': None, '(STAGEY)': None, 'so...': None, 'fine,': None, 'pour!': None, 'ANDY': None, 'SPEAKING': None, 'literary': None, 'class': None, 'OFF)': None, 'Hide!': None, 'half.': None, 'here?': None, 'stuff?!': None, 'herself.': None, 'bunch': None, 'Simp-sonnnn!!': None, 'Carlson,': None, 'shame.': None, 'K-ZUG': None, 'not?': None, '(WISHFUL)': None, 'stick': None, \"bringin'\": None, 'attraction.': None, 'woman.': None, 'executive': None, \"Somethin'\": None, 'nah,': None, 'Wire.\"': None, 'Use': None, '(SURPRISED/THRILLED)': None, 'table!': None, 'six...': None, 'SLEDGE-HAMMER)': None, 'ninth,': None, \"drawin'\": None, 'copy': None, 'Fortress': None, 'para': None, 'on,': None, 'telemarketing': None, 'venom': None, 'imported-sounding': None, \"when's\": None, 'pharmaceutical': None, 'Vermont?': None, 'Doug:': None, \"'IM\": None, 'harrowing': None, 'Tony?': None, 'MITHER': None, \"waitin'\": None, 'needed': None, 'Yee-haw!': None, 'perfect': None, 'indeedy.': None, \"Where'd\": None, '(MUFFLED)': None, 'SOBBING)': None, 'bon-bons': None, 'Tape': None, 'mugs.': None, \"can't!\": None, '(SHOUT)': None, 'hurry': None, 'Grain': None, 'published': None, 'crowds': None, 'BEAR': None, 'easy,': None, 'FINGER)': None, 'Whoever': None, 'FULL)': None, 'War': None, 'candy?': None, 'driveability': None, 'walk': None, 'wakede': None, 'cannot': None, \"didn't.\": None, 'INDEX': None, 'Power': None, 'gift.': None, 'Guy': None, 'cold...': None, 'Quiet.': None, 'Latin': None, 'forgive': None, '(NODS)': None, 'practically': None, 'UNEXPLAINED': None, 'beards?': None, 'Nigeria.': None, 'life,': None, 'Fausto!': None, 'Jamaican?': None, 'Barf\"?': None, 'Hop': None, 'montrer': None, 'Richard': None, 'devils:': None, 'guy': None, 'tape.': None, 'enough': None, 'TONIGHT...': None, 'BLINDS': None, 'widow': None, \"MTV's\": None, 'INJURY)': None, 'Hospital...': None, 'trolls': None, 'Eaters': None, 'fold': None, 'Smithers!': None, 'hey': None, 'forever?': None, 'bowled': None, 'enemy': None, 'catch': None, 'up!': None, 'huh?...': None, 'ride': None, '(BOOZY)': None, 'Handle,': None, 'Nope.': None, 'Triple-Sec,': None, '(CORRECTING)': None, 'what-for': None, 'patriotic,': None, 'dreamed': None, 'beast.\"': None, 'by...': None, 'exchange': None, 'iddilies': None, 'Feels': None, 'Yuh-huh.': None, 'spare.': None, 'Pickle...': None, 'Adult_Bart:': None, 'throw': None, 'Uh-huh.': None, 'baseball.': None, 'Ew...': None, \"Yesterday's\": None, 'it.': None, 'Oof,': None, 'next': None, 'Jeez,': None, 'manchego,': None, 'Omigod,': None, 'getting': None, 'LORRE': None, 'trainers': None, 'End': None, 'alone.': None, 'North': None, 'three...': None, 'SMILE,': None, 'fry': None, '(TOUCHES': None, 'MUSHY)': None, 'hunter.': None, 'rap': None, 'sir,': None, 'doubt': None, 'group': None, 'snotty': None, \"ma'am?\": None, 'BELONG': None, 'defected': None, 'BREATH,': None, 'Little_Man:': None, 'wondered': None, 'wobbly.': None, 'Lindsay_Naegle:': None, '(CRESTFALLEN)': None, 'conspiracy.': None, 'waterfront': None, '\"Professor': None, 'imaginary': None, '(LOWERING': None, 'hostages.': None, 'on': None, 'her.': None, '\"General!\"': None, 'DOPPLER)': None, 'button': None, '\"MOE\\'S\"': None, 'Whoa,': None, 'media': None, '(THOUGHTFULLY)': None, '(HURT,': None, 'third': None, 'RUN)': None, \"school's\": None, 'Burns...': None, 'treats': None, \"phone's\": None, 'minute.': None, 'We,': None, '(LOWERS': None, '\"horrors\"': None, 'Michael_Stipe:': None, 'bidet.': None, 'honey.': None, 'brakes.': None, 'letter,': None, '(SMALL,': None, 'coma': None, '(ALMOST': None, '(CHOKING': None, 'grace': None, 'foam': None, 'FALSETTO,': None, 'weird': None, 'distract': None, 'visas,': None, 'S.U.!': None, 'ironed.': None, \"c'mon.\": None, 'led': None, 'asks,': None, 'see,': None, 'shut': None, 'Awww.': None, '\"Barney': None, 'think.': None, 'Okay...': None, '(BITTER)': None, \"takin'\": None, 'Mayor_Joe_Quimby:': None, 'spinning': None, 'year': None, 'Bauer': None, 'Iranian': None, 'Comes': None, 'Pretty': None, 'Design.': None, 'like!': None, 'guy!': None, 'SINCERE)': None, 'POEM)': None, 'Jay_Leno:': None, 'alone': None, 'minutes': None, 'deliberate': None, 'GIRL': None, 'benefits': None, 'lives': None, '(EXCITED': None, 'way...': None, 'universe': None, 'food--': None, 'Mona_Simpson:': None, 'MOE)': None, '(GUZZLES': None, 'exact': None, 'showered': None, 'salad': None, 'GOT': None, 'officials.': None, 'clown!': None, 'be-stainÃ¨d': None, '\"like': None, 'Last': None, 'remaining': None, 'Slim': None, 'Gimme!': None, \"narratin'\": None, 'allowance,': None, '(BURSTS': None, 'slot.': None, '(TENTATIVE': None, '(QUIETLY,': None, 'Please!': None, 'When': None, 'silence.': None, 'Dear': None, 'PIPES)': None, 'Moe?...': None, 'expression': None, 'love!': None, 'Anyone': None, '(BEGINS': None, 'HAPPY)': None, 'memories,': None, 'IDEA)': None, 'FOREHEAD)': None, 'DRAWING': None, 'Patty.': None, 'plain': None, 'castle,': None, '(TALK-SINGS)': None, 'quality': None, 'yourselves,': None, 'hot': None, 'often': None, '(INANELY)': None, 'ANGRY': None, \"depressin'\": None, '(HANGING': None, 'fancy': None, 'Eating': None, 'normal.': None, 'wedding!': None, 'duh.': None, 'Al_Gore:': None, 'payments!': None, 'hungry.': None, '(ASIDE)': None, 'flashbacks?': None, 'yourself.': None, 'aisle,': None, '(PAUSE)': None, \"Tatum'll\": None, 'Beached': None, 'Stan': None, '(LOW,': None, 'gonna': None, 'Think,': None, '(CONSOLING)': None, 'Duff,': None, 'Huge': None, 'Statue': None, 'check': None, 'kickoff.': None, 'nice.': None, 'couch.': None, 'Selma?': None, 'generally': None, 'bathed': None, 'morning': None, 'Entire': None, 'Carny:': None, 'sees': None, '(SINGING)': None, 'libraries': None, \"show's\": None, 'talking,': None, 'beneath': None, 'Man,': None, 'or': None, 'buying': None, 'says': None, 'Mexican': None, 'Taxi!': None, 'before!': None, 'gentlemen...': None, 'charged': None, 'MOUNTAIN': None, 'Challenge.\"': None, 'only': None, \"linin'\": None, 'Tell': None, 'buy': None, 'ale,': None, 'complaint': None, 'fictional': None, 'hah...': None, 'open': None, 'which,': None, 'phrase': None, 'pipes': None, \"blowin'\": None, 'limits?': None, 'pronounce': None, 'Terrible,': None, 'andalay!': None, 'personal': None, 'fustigation': None, 'forty-two': None, 'folk': None, 'Wow.': None, 'FRENCH': None, 'Micronesian': None, 'puzzle': None, 'reckless': None, 'Take-back.': None, 'store-bought': None, 'died.': None, 'GLASS)': None, 'RE:': None, '...the': None, '(SHOWS': None, 'near': None, 'for!': None, 'playing': None, 'Lurleen,': None, 'lessons.': None, 'Let': None, 'package.': None, 'LOVE!': None, 'service,': None, 'station': None, 'dumb--': None, 'dank!': None, 'Village.': None, 'Dr._Eugene_Blatz:': None, 'God': None, 'Methinks': None, 'fraud.': None, 'schemes': None, 'LINE': None, 'him.': None, 'Booze': None, '(POINTS)': None, 'strolled': None, 'boy!': None, 'ruled': None, 'Denver.': None, 'towed.': None, 'Patty_Bouvier:': None, 'Check': None, 'makes': None, \"Hasn't\": None, 'mistake,': None, 'nachos': None, 'actually,': None, '(STIFFENING)': None, 'rationalizing': None, '(HUGE': None, '(SNORTS)': None, 'each': None, 'long': None, 'girls': None, 'ESPN': None, 'HIM': None, 'juice?': None, 'bite.': None, 'incriminating': None, 'chick': None, 'dump?': None, 'bolting': None, 'Dry': None, 'I?': None, 'luckiest': None, 'All-Star': None, 'notably': None, 'noggin': None, 'wonder': None, 'regulations': None, 'Patron_#1:': None, 'seven,': None, \"he'll\": None, 'dory': None, 'victim.': None, '(CHUCKLING)': None, 'Carl!': None, \"lefty's\": None, 'parrot,': None, '\"How': None, 'smell,': None, 'asked.': None, 'notorious': None, 'Marge!': None, 'JAILBIRD)': None, 'interesting': None, 'risquÃ©.': None, 'fun.': None, 'knowledge': None, 'Village': None, 'DRUNK': None, 'CONFIDENTIALLY)': None, 'Sideshow': None, 'Whatcha': None, 'buffalo': None, 'tradition': None, 'BIRD...': None, 'sick.': None, 'distributor.': None, 'drinking:': None, 'met': None, 'least': None, 'crossed': None, '(EXCITED)': None, 'into\"': None, 'born': None, 'water': None, 'Day?': None, 'Maher': None, 'asking.': None, 'PAGE': None, 'superhero': None, 'anything': None, 'telephone': None, 'softer.': None, 'body': None, '(SOTTO;': None, 'air...': None, 'Castle?': None, 'Homers!': None, 'THINGS': None, \"dyin'!\": None, 'fast.': None, 'natural': None, 'karaoke.': None, 'horses': None, 'delicious.': None, 'Goodnight': None, \"Where's\": None, 'lady.': None, 'hotline': None, 'crumble?': None, 'Barn.': None, 'benefits.': None, 'bumpy-like.': None, 'room?': None, 'FALLING': None, 'angry': None, '(ENCOURAGED)': None, 'corner.': None, 'Andrew': None, 'Evil': None, 'here--': None, 'get,': None, 'GONE': None, 'everyone.': None, '(SITS': None, 'REGISTER': None, '\"Old': None, 'Priest': None, 'bird': None, 'up,': None, 'Luckily,': None, 'secret?': None, 'assume': None, 'YOUR': None, 'going...': None, '(CUTE)': None, 'boy.': None, 'guilt?': None, 'numbers': None, 'truth.': None, 'father': None, 'ME...': None, 'felt?': None, 'disgrace.': None, 'answers,': None, 'pretty': None, 'sauce.': None, 'terrible.': None, 'wagering!': None, 'coaster.': None, 'longest': None, \"she'd\": None, 'Pope': None, 'break': None, '(DISGUSTED': None, \"That'll\": None, 'EXITED)': None, 'march': None, 'Lis,': None, 'just': None, 'sympathizer.': None, 'Duffman:': None, 'Rev._Timothy_Lovejoy:': None, '(DISTASTE)': None, 'chicks': None, 'grave.': None, \"don't,\": None, 'while,': None, 'Sadistic_Barfly:': None, 'will,': None, 'Jesus': None, 'loser?': None, 'end.\"': None, 'Len-ny.': None, \"I'd'a\": None, 'grandkids': None, 'surprised.': None, '(DEJECTED)': None, 'Little': None, 'casting': None, 'Hundred': None, 'matter?': None, 'FRIEND!': None, '(COY)': None, 'ANOTHER': None, 'bothered': None, 'pool.': None, '4X4.': None, 'boat': None, '(MOVED)': None, 'Bender:': None, 'fanciest': None, 'estranged': None, 'SWE-EE-EE-EE-EET': None, 'like?': None, 'memory.': None, 'boxing': None, '\"Dear': None, 'uninhibited,': None, 'chunk': None, 'Seymour,': None, 'upset': None, 'Marge': None, 'backward.': None, 'Hemorrhage-amundo!': None, 'worse,': None, 'ran': None, 'nucular': None, 'greedy': None, 'gentles.': None, 'dumbest': None, '(READING': None, '(NO': None, 'mouse': None, 'message': None, 'combination': None, 'restaurants': None, 'pick': None, 'careful.': None, 'OFF\")': None, 'Bloodiest': None, 'neck!': None, 'stab': None, '3\":': None, 'peanuts,': None, 'home?': None, 'Cheesecake': None, 'brother-in-law.': None, 'background': None, 'begging': None, 'fact.': None, \"feelin's.\": None, 'Listen.': None, 'chum.': None, 'Um...': None, 'starve.': None, 'Full': None, 'sustain': None, 'HONEY': None, 'question': None, 'guy,': None, 'rounds,': None, 'graves.': None, 'appreciate': None, 'ohmyGod,': None, 'Wheel': None, 'wife.': None, 'summer...': None, 'seven.': None, 'compare': None, 'mail.': None, 'SLAP...': None, 'therapist,': None, 'Midge:': None, 'bartender.': None, 'knife,': None, \"kid's\": None, 'Clear': None, 'pissed': None, 'ITEMS)': None, 'Uh...': None, 'drink,': None, 'illegal': None, 'traffic': None, 'completing': None, 'Wine?': None, 'Ralphie?': None, 'fever': None, 'these,': None, 'boxers,': None, \"comin'.\": None, 'Town': None, 'sorry': None, 'badmouth': None, 'composer,': None, 'calling': None, 'toy': None, '(ARGUING': None, 'daughter!': None, 'whistling': None, 'LENNY': None, 'Huggenkiss?': None, '(KEEPING': None, 'gotten': None, 'bums,': None, 'it?!': None, 'suburban': None, 'yew': None, 'Ali,': None, 'better,': None, 'unjustly': None, 'longer': None, 'less': None, 'spot?': None, 'Wha...wha...': None, 'for.': None, \"who's\": None, 'result': None, 'SHOOT': None, 'whip': None, 'works': None, 'wishes': None, 'disillusioned': None, 'knit': None, 'Lard': None, '\"To': None, 'tomorrow?': None, 'marquee,': None, 'Carll\":': None, 'worked.': None, 'body?': None, 'Beer.\"': None, 'GLASS': None, 'table.': None, 'dearest': None, \"Elmo's\": None, '(STUNNED)': None, 'ABOVE)': None, 'tourist': None, 'began': None, 'but.': None, 'Easy,': None, 'Seymour.': None, '(SHRUGGING)': None, 'anymore.': None, 'ram': None, 'predecessor': None, 'Eh,': None, 'machine,': None, 'power': None, 'loafers': None, 'terrible': None, 'moon-bounce.': None, 'bag,': None, 'Keeps': None, 'window?': None, '(LOOKS': None, 'program.': None, 'else.': None, 'caused': None, 'oughtta': None, 'left.': None, 'opportunity': None, 'TV).': None, 'experiments': None, 'Eggshell?': None, 'FILL': None, 'undies.': None, 'lives...': None, 'into!': None, 'said:': None, 'skinheads': None, 'Low-Blow': None, \"tap-pullin'\": None, 'Moe-near-now.': None, '\"joint.\"': None, 'Give': None, 'Drink': None, 'three': None, 'worry,': None, 'Formico.': None, 'delicate.': None, 'park?': None, '(HORRIFIED)': None, 'and--': None, 'him,': None, 'lighting': None, 'generosity': None, 'eighty-six?': None, 'days.': None, 'add': None, 'something': None, 'FACE)': None, 'loud,': None, 'bras': None, 'tries': None, '\"now': None, 'computer?': None, 'Americans.': None, 'Wolfe.\"': None, 'troll,': None, \"Y'know,\": None, 'Barney!': None, 'life.\"': None, 'regulars': None, 'belong,': None, \"stabbin'\": None, 'ninety-six.': None, 'None': None, 'writing': None, '(RAPIDLY)': None, 'BABIES)': None, 'wipe': None, 'Sponge': None, 'refiero': None, 'Using': None, 'crowbar!': None, 'witches': None, 'wash': None, '2ND_VOICE_ON_TRANSMITTER:': None, 'already!': None, 'conference': None, \"somethin'\": None, 'Ron_Howard:': None, 'hungry': None, 'BOW': None, 'door,': None, 'Least': None, \"meanin'\": None, 'Texas.': None, 'ladder': None, 'were': None, 'are,': None, 'phone.': None, 'surgery': None, 'denser': None, 'you!!': None, 'confession': None, 'barely': None, 'dang,': None, 'replaced': None, 'taught': None, 'check?': None, 'Sexual': None, 'money.': None, 'stage': None, 'KINDA': None, 'TAP)': None, 'testing': None, 'WHETHER': None, 'oddest': None, 'penny\"': None, \"'til\": None, 'brain-switching': None, 'WORSE!': None, 'Barney\"': None, 'Hiya': None, 'Phone': None, 'refreshing...': None, 'yards.': None, 'alcoholic.': None, 'able': None, 'sugar-me-do.': None, '(TOUGH)': None, 'Teacup?': None, 'Somebody': None, 'shorter': None, 'HALLOWEEN': None, 'killing': None, 'brains': None, 'pack': None, 'Soup,': None, 'doy.': None, 'City?': None, '(AMUSED)': None, 'mole': None, 'hell,': None, 'son': None, 'move': None, 'tender': None, 'Kick': None, 'nitwit.': None, 'should': None, 'eggs': None, 'dog': None, 'doors': None, 'Vengeance.\"': None, 'mull.': None, 'youse!': None, 'straighten': None, 'Toledo': None, 'WAR': None, 'chief.': None, '(CHEERING': None, 'characteristic...': None, 'grease,': None, 'plastic': None, 'poplar': None, 'beauty': None, '(ICE': None, 'planted': None, 'distinct': None, 'barstools,': None, '(NOTICING': None, 'hideous': None, 'mouth': None, 'driver!': None, 'good': None, 'Oil': None, 'rocks': None, 'Goodnight,': None, 'bedtime': None, 'ever': None, 'troubles': None, 'bastard.': None, 'Class.': None, 'selfish,': None, 'chum,': None, 'majority': None, \"tryin'\": None, 'Marge.\"': None, 'LA': None, 'MOE': None, \"Clancy's\": None, 'pure': None, 'HAWKING:': None, 'Moron!': None, 'ah-ha!': None, 'Look': None, 'okay.': None, 'How': None, 'Troy_McClure:': None, 'tick.': None, 'tomorrow!': None, 'mind.': None, 'bit': None, 'BRINGS': None, 'professional.': None, 'Flanders,': None, 'broad,': None, \"Must've\": None, '(LAUGHS,': None, 'happier.': None, 'Ambrose': None, 'hillbillies': None, 'from': None, 'pinball': None, 'Mahatma': None, 'actress,': None, 'more!': None, 'problem,': None, 'SELL': None, 'does,': None, 'YOU...': None, 'continuum.': None, 'organ,': None, 'ask...': None, 'already.': None, 'ons..': None, 'permitting': None, 'brothers.': None, 'Lisa!': None, 'riding': None, 'answer': None, 'pussycat.': None, 'sport,': None, 'NEW': None, 'huh.': None, '1-800-555-HUGS.': None, 'Sumatran': None, 'Department.': None, 'Ease?\"': None, \"secret's\": None, 'Tonight': None, 'creeps': None, \"Someone's\": None, 'Man_At_Bar:': None, 'bathroom.': None, 'ladies': None, 'Had': None, 'wife!': None, 'Uh..Jacques': None, 'Santa': None, '(DISPLEASED': None, \"Homer'll\": None, 'Wienerschnitzel!': None, 'tell.': None, \"Drexel's\": None, 'straight': None, 'sickens': None, 'CARDS)': None, 'Celeste.': None, 'world-class': None, 'wipes': None, 'stealings!': None, 'Got': None, 'Dennis': None, 'rom': None, 'bulldozing': None, 'hates': None, '$42': None, 'senators:': None, 'TURN': None, 'disguise.': None, 'manatee?': None, 'dames.': None, 'DRUNK)': None, '(JAPANESE': None, 'tired': None, 'world!': None, 'prettied': None, 'party': None, \"kiddin'\": None, 'goodbye...': None, 'delays!': None, 'Morlocks': None, 'hair': None, 'TROUBLE)': None, 'lush': None, 'LOOKING': None, 'ARE': None, 'Burn!': None, 'disturbance': None, '\"sampler\"?': None, 'fault!': None, 'poster': None, 'born,': None, 'Butts!': None, 'PROUD!': None, 'letters': None, 'Bartender': None, 'Al.': None, 'feet,': None, 'BRIEFLY)': None, 'hike?!': None, 'politics...': None, 'now': None, 'humanity.': None, 'clone,': None, 'coward!': None, \"gentleman's\": None, 'creates': None, 'wounds.': None, 'Malibu': None, 'die!': None, 'invited.': None, 'folks...': None, 'APU': None, 'HIDE': None, 'Free': None, 'boxing.': None, 'minutes.': None, 'salary?': None, 'wasted': None, 'FLOURISH)': None, 'figures.': None, 'Wooden!': None, 'odd': None, 'yea!': None, 'island': None, 'quit.': None, 'Tv_Husband:': None, 'tow': None, 'friend,': None, 'FBI.': None, 'orders': None, 'Sharps!': None, '(ROLLS': None, 'fist': None, 'awkward.': None, 'those...': None, 'Sweet.': None, 'occasion.': None, 'SNORT)': None, '(WHINING)': None, 'amnesia.\"': None, 'liar?!': None, 'SQUIRREL': None, 'uncreeped-out': None, 'finished!': None, 'LAUGH)': None, 'Chubby,': None, 'minute...': None, 'Price': None, 'SKINNER': None, 'break-up': None, 'won.': None, 'pyramid': None, 'mansions.': None, 'Christmas.': None, 'royal': None, 'CLOWN.': None, 'walk.': None, '\"sauce,\"': None, 'uglier': None, 'Private': None, '14': None, 'sly': None, 'their': None, 'Two?': None, 'cares.': None, '50%': None, 'sing?': None, 'college!': None, 'Broncos': None, \"Something's\": None, 'SIZE': None, \"Professor's\": None, 'Mulder': None, 'sports!': None, 'clothes': None, 'Unable': None, 'jailbird,': None, 'Like,': None, 'rope': None, 'him': None, 'stock.': None, 'Took': None, 'AMERICAN': None, 'Simpson?': None, 'groin.': None, 'value': None, 'Mickey': None, 'neck.': None, 'Helen,': None, 'Two': None, 'victory.': None, 'BIG!': None, 'WOULD': None, 'chic!\"': None, 'Sure.': None, 'feeling!': None, 'terrorizing': None, 'voicemail.': None, 'hard': None, 'mother': None, 'TWO': None, 'banks': None, 'Effigy,': None, 'ideal,': None, 'MARVELOUS': None, 'strictly': None, 'cats.': None, 'Hell...': None, \"burnin'\": None, 'bars': None, 'toss': None, 'beeps': None, 'donuts': None, 'someday,': None, 'funny?': None, 'hand': None, 'check.': None, 'send': None, 'yeah?!': None, 'candidate': None, 'losers!': None, 'farthest': None, 'LIKE': None, 'billboard': None, 'FLOATED': None, 'B.P.': None, 'ROMANCE': None, 'You,': None, 'cocktail': None, 'present': None, 'plotz.': None, 'tempting.': None, 'Heh-heh.': None, '(\"OH': None, 'However': None, 'wing': None, 'malted': None, 'respect': None, 'ruined!': None, 'boxer': None, 'Mmm-hmm,': None, 'Is': None, 'SOBS,': None, '(NERD': None, 'lot,': None, 'card': None, 'sir.': None, 'radio': None, '(WHIP': None, 'Tinkle.': None, 'stays': None, 'believer': None, 'Wait': None, '(RECORDED)': None, 'sagacity': None, 'Hey.': None, 'stones': None, 'Ah-ha,': None, 'us.': None, 'death': None, 'MIC)': None, 'declare': None, '(SWEETLY)': None, '(WATCHING': None, 'ago,': None, 'afloat,': None, 'conditioning.': None, 'charter': None, 'shotgun': None, 'war?': None, '(SLAPS': None, \"ladies'\": None, '(GASP)': None, 'games.': None, 'insightful.': None, 'jigger.': None, 'this,': None, 'commission': None, 'popped': None, 'ice': None, '(SOTTO)': None, 'restroom': None, 'food?': None, 'TROY:': None, 'hats!': None, \"You're\": None, 'Put': None, 'box?': None, 'MOONNNNNNNN!': None, 'represent.': None, 'na': None, 'remember,': None, 'Madonna.': None, 'go,': None, 'Eh...': None, 'IT': None, 'options': None, 'Ohhhh.': None, 'Bedbugs?': None, 'Apulina.': None, 'rims': None, 'law.\"': None, 'Their': None, 'drives': None, 'Atari.': None, 'customers': None, 'BAR': None, 'morning?': None, 'MECHANICAL)': None, 'sissy': None, 'Ziff.': None, 'lotsa': None, 'ALL': None, 'Boggs!': None, 'jerks': None, 'settled.': None, '(KINDLY)': None, 'negative': None, 'stuff.': None, 'garbage': None, 'turlet.': None, 'story': None, 'fourth': None, 'favor.': None, 'breath': None, 'KEMI:': None, \"Man's_Voice:\": None, \"year's\": None, 'eggs!': None, 'whoa.': None, 'CALL': None, 'arm...': None, 'Tatum?': None, \"tree's\": None, 'LIKE...': None, 'potatoes.': None, 'ROOM)': None, '(FRUSTRATED': None, 'Kennedy.': None, 'Commission!': None, 'much.': None, 'Pledge': None, '...Free': None, 'snow': None, 'dinner.': None, 'belly...': None, '(SLOW': None, 'there,': None, 'worse': None, 'clean.': None, 'ale?': None, 'Even': None, 'Legs:': None, 'tradition...attempting': None, 'star': None, 'Ron': None, 'join.': None, 'Beat': None, 'Feast': None, 'party.': None, 'bliss,': None, 'REALIZING': None, 'booth': None, 'banned': None, 'Duff_Announcer:': None, 'brother,': None, 'POINTS': None, 'such': None, 'Madman': None, 'toilet': None, 'stingy': None, 'nature': None, 'serious.': None, 'curse,': None, '(HARDY': None, 'met?': None, 'results': None, 'Longer': None, 'jobs,': None, 'Cleveland': None, 'horrible.': None, 'boozy.': None, 'Carl_Carlson:': None, 'Beaumarchais.': None, 'DOOR': None, 'hey.': None, 'deal?': None, 'Flanders.': None, 'pool!': None, 'JEERS)': None, 'see...': None, 'mall': None, '\"neighboreeno?\"': None, 'choices:': None, 'insults': None, '(SNAPPING)': None, 'club!': None, 'DOG)': None, 'links': None, '(PARTY': None, '(SEETHING)': None, 'field': None, 'Persia...': None, \"here's\": None, 'WHISPER)': None, 'alive': None, 'second': None, 'ehhhhhhhhh...': None, 'of,': None, 'somewhere': None, 'forgiven': None, 'Turn': None, 'TEENAGE': None, 'again?': None, '(GRUNTS)': None, 'TV;': None, 'represents': None, 'Friendship': None, 'ruby-studded': None, 'ah!': None, 'THERE)': None, 'need?': None, 'hiring': None, 'geez,': None, 'jerk': None, 'Hey,': None, 'WANT': None, 'can': None, 'Squishee': None, '\"men\\'s': None, \"can't--\": None, 'studied': None, '(MUMBLING,': None, 'say': None, 'what?!': None, '(TEENAGE': None, 'crazy?': None, 'GIRLS)': None, 'yak': None, 'books': None, 'gal': None, 'anonymous': None, '(HOLDING': None, 'Kang:': None, 'happened?': None, 'Hell,': None, 'ooh,': None, 'evil,': None, 'inspection': None, 'hole': None, '(PHILOSOPHIC)': None, 'Buy': None, 'gifts,': None, 'chug-a-lug.': None, 'Patron_#2:': None, 'Plastic!': None, 'stirring,': None, 'urge': None, 'invulnerable.': None, 'BABY,': None, 'pleased': None, 'anyway,': None, 'FAREWELL...': None, 'fumes.': None, 'instead': None, '\"No': None, '50-60': None, 'Harvard': None, 'weird.': None, 'sit': None, 'Reynolds': None, 'repairman': None, 'Group!': None, 'though.': None, 'Correction': None, 'career,': None, '\"business': None, 'right?': None, 'join': None, 'Dallas': None, 'GAME)': None, 'worldly': None, 'ditched': None, 'film': None, 'box': None, 'comfortable': None, \"changin'\": None, 'read': None, 'engine.': None, 'Wrong.': None, 'soap,': None, 'twentieth': None, 'license.': None, \"don't\": None, 'ad': None, 'City': None, 'SASS': None, 'Hello': None, 'swan.': None, 'purse.': None, 'schedule': None, 'floor.': None, 'procedure.': None, 'Lenny?': None, \"'ceptin'\": None, 'encores': None, 'democracy': None, \"bar's\": None, 'GIRL)': None, 'rules': None, 'improved': None, '(FLASHING': None, 'pity!': None, 'cop,': None, 'color': None, 'Wally:': None, 'yours?': None, 'Ow!': None, '\"Saint': None, 'SHIRT)': None, 'a-a-b-b-a,': None, 'back,': None, 'pocket,': None, 'Doom.': None, 'domestic': None, 'just...your': None, '(INTRIGUED)': None, '(POURING)': None, 'BOX)': None, 'throw.': None, 'carefully.': None, 'DIME)': None, 'smoker': None, 'straight,': None, 'sexy': None, 'him?': None, 'pad....': None, 'Geysir.\"': None, 'Simpson.': None, 'Mount': None, 'shows.': None, 'According': None, 'A.': None, '(HUSHED)': None, 'grand.': None, 'made.': None, 'Dollface.': None, 'Bet': None, '(FRIGHTENED)': None, 'developed': None, '(OVER': None, 'DANNY': None, 'OWN': None, 'lugs': None, 'bed': None, '(GRENKY)': None, 'tail!': None, 'Tony.': None, 'Moe-heads.': None, 'need.': None, 'number!': None, 'half-beer?': None, 'destroyed': None, 'straight!': None, 'restaurants.': None, 'me!': None, 'great.': None, 'crank': None, 'SIGH)': None, 'hands?': None, 'IT)': None, 'BOOK)': None, 'alter': None, 'trolls?': None, 'urban': None, 'Truck_Driver:': None, 'hi': None, 'sentimonies.': None, '(PROMPTING)': None, 'even': None, 'bags': None, 'Audience:': None, 'delighted': None, 'NOW': None, 'omigod!': None, '(STARTLED': None, 'HAPPILY)': None, 'day,': None, 'wire!': None, '...Then': None, 'Stevie': None, 'Massachusetts...': None, 'Corporate': None, 'jukebox.': None, 'pub': None, 'dollar': None, 'spy,': None, 'yes!': None, 'EARPIECE)': None, 'pumping': None, 'BABE!': None, 'else?': None, \"drinkin'!\": None, 'used': None, 'head': None, 'sucking': None, 'tab.': None, 'DIAMOND': None, 'Shall': None, 'cheer': None, 'Fonda,': None, '(THOUGHTFUL)': None, 'Semi-imported.': None, 'return.': None, 'turkey,': None, 'Hi,': None, 'tape!': None, 'remembered.': None, 'sea': None, 'Attractive_Woman_#2:': None, 'finance': None, 'tanked-up': None, 'Hope': None, 'close.': None, 'owner': None, 'combines': None, 'hardwood?!': None, 'Yeah': None, 'wraps': None, 'English': None, 'YELL)': None, 'runners': None, 'FRIEND': None, 'Guide': None, 'Part': None, 'box,': None, 'DIALS)': None, 'cow.': None, 'wait,': None, 'time.\"': None, 'tonight!': None, 'choose': None, 'make?': None, '\"that\\'s': None, 'boy': None, \"Drawin'\": None, 'Branding': None, 'crap': None, 'Roll': None, 'Artie_Ziff:': None, 'closed!': None, 'Academy!\"': None, 'Aunt': None, 'Krabappel!': None, '\"up': None, 'along...': None, '(CLEARS': None, '(DRUNK': None, 'Flash': None, 'life...': None, 'off.': None, 'CIVIL': None, 'Remember,': None, \"Bart's\": None, 'fat?': None, 'paid': None, 'Here-here-here': None, 'LOVE': None, 'President': None, 'louse': None, \"somethin'...\": None, \"C'mere,\": None, 'Enjoy.': None, 'job!': None, 'Back': None, 'drawer': None, 'PLOW': None, '(GASP,': None, 'plane': None, 'doubt!': None, 'gimmick': None, 'grave': None, 'YOU,': None, 'modestly': None, 'Hollywood': None, 'paints': None, 'recreate': None, 'bread': None, 'Dr._Marvin_Monroe:': None, 'Princess': None, '(GRIM)': None, '(PLEASED': None, 'too': None, 'sudden.': None, 'testing?': None, 'Glass.': None, '(RUNNING': None, 'booze-bags,': None, 'splash': None, 'sweaty': None, 'neighbor.': None, 'Dr.': None, 'ya,': None, 'GOING': None, 'Cummerbund': None, 'beach': None, 'bam!': None, '\"Nash': None, 'friends,': None, 'noose.': None, 'Troll': None, 'helicopter': None, 'Flanders': None, 'self-made': None, 'exciting': None, 'stained-glass': None, 'story,': None, 'Krusty.': None, '(LARGE': None, 'McKinley.': None, 'Kings.': None, 'polls...': None, 'Tv_Wife:': None, 'CHIPPER)': None, 'different?': None, 'casual': None, 'FINALE)': None, \"can'tcha?\": None, 'trouble.\"': None, 'smooth': None, 'find': None, 'dating': None, 'holiday...': None, 'true...': None, 'unhook': None, 'awfully': None, 'build...': None, 'neck?': None, 'people?': None, 'wall.': None, 'Respect?!': None, 'nail': None, 'left...': None, \"O'Problem\": None, 'Gunter:': None, 'original': None, \"mopin'\": None, 'pointy': None, 'should,': None, 'inside?': None, 'hello': None, 'rub': None, 'SHACK\")': None, 'Daniel': None, 'Peter_Buck:': None, 'GO...': None, 'them?': None, \"MAGGIE'S\": None, 'gin-slingers,': None, 'Twenty-five?': None, 'lap.': None, 'forbidden': None, 'rob': None, 'SMILING)': None, 'car!': None, 'ugh!': None, 'INSTANTLY': None, \"What'sa\": None, 'back--': None, 'Sieben-gruben': None, 'a.m.': None, 'Booze,': None, 'Soon': None, 'oh': None, 'castle': None, 'chug!': None, 'some.': None, 'soul.': None, 'immiggants.': None, 'release': None, '(STRANGLES': None, 'compliments.': None, 'peanuts?': None, \"Bartender's\": None, 'that,': None, 'X': None, 'breathtaking': None, 'afraid': None, \"Aren't\": None, 'way:': None, 'bump': None, 'November.': None, '(MORE': None, 'hero': None, 'to,': None, 'backwards.': None, 'CONFIDENT)': None, 'lame!': None, 'Help!': None, 'Festival?!': None, '(COYLY)': None, 'zero': None, \"Monroe's\": None, 'superior': None, 'babe.': None, 'dilemma.': None, 'Open': None, '\"Hey': None, '\"O\"': None, 'Go': None, 'Babar,': None, 'Iran': None, 'Willy!': None, \"kiddin'?\": None, 'ROUGH': None, \"SUMMER'S\": None, 'Ya': None, 'leprechaun.': None, 'yellow': None, 'before.': None, 'GRAMPA)': None, 'corporation.': None, 'Homer?!': None, '(SHAKES': None, 'Ripper?': None, 'Moe,': None, 'spit-backs.': None, 'Head...': None, 'pasta': None, 'hoo': None, 'FURIOUS': None, '\"Finding': None, 'Okay,': None, '(DELIGHTED)': None, \"could've\": None, '(INDECIPHERABLE)': None, 'NIGHT': None, 'animals.': None, 'whatchamacallit...': None, 'monorails...': None, 'Burns,': None, 'love-matic': None, 'GOES': None, '(SNIFFS)': None, 'minors': None, 'Honey,': None, 'reaction': None, 'shot': None, 'Live': None, 'wangs': None, 'artist,': None, 'Jacques': None, 'jump': None, 'twenty-five': None, 'lips?': None, 'Love.\"': None, 'sounds': None, 'detail,': None, '\"World': None, 'license': None, \"someone's\": None, 'LIVE': None, 'thighs': None, 'unlike': None, 'dig': None, 'adjust': None, 'pennies': None, 'TIPSY)': None, 'getaway': None, 'disgraceful': None, 'CURIOUS': None, 'nickel': None, 'Jesus...': None, '(STAGY)': None, 'ghouls': None, 'HYAHH!!': None, 'soot.': None, '(EMOTIONAL': None, 'Will': None, 'times,': None, '(WEAK': None, 'moxie,': None, 'COTTON': None, 'punk': None, '(DETERMINED)': None, 'suicide': None, 'sales.': None, 'Fortensky': None, 'hello,': None, 'bulked': None, '(DAZED)': None, 'mice.': None, 'Skinner?': None, 'pin': None, 'Banquo?': None, 'dint': None, 'NEVER!...': None, 'likes': None, 'Scruffy_Blogger:': None, 'listened': None, 'hunky': None, '\"Weekly': None, 'WAVE)': None, 'Who?': None, 'Roy.': None, 'prettiest': None, 'day...': None, 'landfill.': None, 'DELIBERATELY': None, 'can.': None, '(PRETENDS': None, 'thesaurus...': None, 'spacey': None, '(SPOKEN)': None, 'Xanders': None, 'ahead': None, 'raking': None, 'why.': None, 'beloved!': None, 'letter': None, '(BITTERLY)': None, 'Leave': None, 'go?': None, '(SCARY': None, \"What'll\": None, 'DAN)': None, 'losing': None, 'Sorry,': None, 'what?...': None, 'hounds,': None, 'Until': None, 'suck!': None, 'contact.': None, 'Alec_Baldwin:': None, 'car.': None, 'PLEASE/': None, 'loud': None, 'CHARACTER)': None, 'round?\"': None, '...': None, 'CASUAL)': None, 'squirrels': None, 'coaster': None, 'skins': None, 'marched': None, 'issuing': None, 'Sports_Announcer:': None, 'AGED_MOE:': None, 'play': None, 'Huh': None, 'surprised': None, 'heaven.': None, 'kissing.': None, 'Heck': None, 'totalitarians?': None, 'luck.': None, 'FIRST': None, 'Whoa...': None, 'ON': None, 'SATISFIED': None, '(AMIABLE)': None, \"nothin'!\": None, 'loathe': None, 'results.': None, 'law.': None, 'sponsor.': None, \"wallet's\": None, '(MOROSE)': None, 'helpless': None, 'know.': None, 'talk?': None, '(DISAPPROVING)': None, 'crystal': None, 'refinanced': None, 'kidding!': None, '\"Ivanna': None, 'Christian': None, 'together.': None, 'goods.': None, 'Singer,': None, 'down,': None, 'princess.\"': None, 'Shakespeare': None, 'HOLDS': None, 'Yep.': None, 'sloppy': None, 'strong': None, 'generous?': None, 'empty.': None, '(GLOWERS)': None, 'Whoopi!': None, 'urinal!': None, \"fans'll\": None, 'strong!': None, 'cop': None, \"Tester's\": None, 'true': None, 'shower': None, 'craphole!': None, \"somebody's\": None, 'NBC.': None, 'manipulation': None, 'depending': None, 'lawyer,': None, 'hope.': None, \"I'M\": None, 'TURNING': None, 'See,': None, 'unattractive?': None, 'men.': None, 'cards?': None, 'BEER)': None, 'rummy?': None, 'must': None, 'Star': None, '(UPSET': None, 'creeps!': None, 'dull.': None, 'trying.': None, '(ART': None, 'Water?!': None, 'home': None, 'Morning-After': None, 'bubbles': None, 'stool.': None, 'appealing': None, 'fair': None, 'gas...': None, 'twenty-four': None, 'MEATPIES,': None, 'plant.': None, 'thanking': None, 'calculate': None, 'there?': None, 'Stand': None, 'Korea.': None, 'become': None, 'Actor': None, 'jukebox': None, 'verdict': None, 'shush!': None, 'money...': None, 'feel.': None, 'releases': None, 'wrap': None, 'pep': None, \"lookin'\": None, 'product,': None, 'pian-ee.': None, 'nine.': None, 'look.': None, 'MEAN)': None, '(TURNS)': None, 'bottle.': None, 'kinda': None, 'drug': None, \"Year's\": None, '(\"BACK': None, 'Junior...': None, 'corn': None, 'bald': None, 'MICROPHONE)': None, 'sticker': None, 'LET': None, 'having': None, 'statistician': None, 'fluoroscope': None, 'freed': None, 'Ahem!': None, 'filthy': None, 'garbage.': None, 'minimum?': None, 'nineteen': None, 'Alva.': None, 'early!': None, 'good.': None, 'Golf': None, 'chosen': None, 'disaster,': None, 'Shades': None, 'themselves.': None, 'Germany.': None, 'Philip': None, '\"Sex': None, 'horns': None, 'Dame': None, 'conversation': None, 'Right,': None, 'wish-meat': None, \"Ma'am.\": None, 'freshened': None, 'stinky.': None, '(READS': None, 'shower.': None, 'surprising': None, 'anyone.': None, 'wine': None, 'dangerous?': None, '(NERVOUS)': None, 'Pudgy': None, 'St.': None, 'AN': None, 'MAN': None, '(REPRESSED': None, 'faceful': None, 'crazy!': None, 'Top': None, 'drinking': None, 'Bob.': None, 'Instead': None, 'drunkening.': None, 'Hm...': None, 'Juan': None, 'tonight.': None, 'safecracker?': None, '\"Loneliness\"?': None, 'manager': None, 'Dr._Kissingher:': None, 'SMILE)': None, 'little': None, 'furniture': None, \"how's\": None, 'Violin.': None, '\"All': None, 'curds.': None, 'Stinger.\"': None, 'thirty-thousand': None, 'SAD)': None, 'scream.': None, 'endorse': None, 'angry?': None, 'bar.': None, 'OMINOUS)': None, 'criminal.': None, 'CELL': None, '(PEPPY)': None, 'cold': None, 'knuckle-dragging': None, 'kicked': None, 'Tavern!': None, 'also': None, 'Filthy': None, \"Lenny's\": None, 'Maggie!': None, 'IMPROV': None, 'influence...': None, '(IMITATING': None, 'its': None, 'Barney...': None, 'hurts.': None, 'minute,': None, 'MCBAIN': None, 'Someone': None, 'yeah': None, 'superpower!': None, 'Close': None, 'pal,': None, 'quit': None, 'infatuation': None, 'JAR)': None, 'pushes': None, 'guess...': None, 'bit.': None, \"hell's\": None, 'fair.\"': None, 'May': None, 'CROWD!': None, 'weeks?': None, 'week.': None, 'no?': None, 'SEARCHING)': None, 'SURE': None, 'could,': None, 'wrestle': None, 'sorry.': None, 'Cut': None, 'safe': None, 'KIDS)': None, 'DONE': None, 'school...': None, '\"Kid': None, 'ticket?': None, 'empty': None, 'C._Montgomery_Burns:': None, 'reviews!': None, 'material': None, 'advance': None, 'BINOCULARS,': None, 'Where?': None, 'Uhhhh,': None, 'using': None, '(ON': None, 'set.': None, 'patterns': None, 'out': None, 'dictator,': None, 'Mouse,': None, 'NERVOUS': None, 'ya': None, 'moments': None, 'wall,': None, 'fund': None, 'accounta': None, 'Miss': None, 'Kent...': None, 'dryer!': None, 'spreads': None, 'bye': None, 'Times': None, 'FINISHED,': None, 'Mel.': None, 'Wayne:': None, 'DRIVE?': None, 'Children': None, 'understood': None, 'CLEARLY': None, 'pajamas.': None, 'treasure': None, 'media?': None, 'hers,': None, 'children.': None, 'MOST': None, \"doesn't.\": None, 'cooler!': None, 'plucked': None, 'underwear.': None, 'WELL': None, 'eating.': None, 'TAPE)': None, 'zone': None, 'concentrate': None, 'wad': None, 'managed': None, 'hired': None, 'behind': None, 'open-casket': None, 'resenting': None, \"floatin'\": None, 'Jacques.': None, 'TONIGHT': None, 'oof!': None, 'profiling': None, 'bowling': None, 'past': None, 'ROSES': None, 'eleven...': None, 'Day': None, 'dress!': None, 'Fire\"': None, 'happy.': None, 'canoodling': None, 'out.': None, 'CONEY': None, 'round,': None, '\"dealer.\"': None, 'CUTIE': None, 'Uncle': None, \"Let's\": None, 'furious': None, \"You'd\": None, 'LOST': None, 'TOSS)': None, 'sponsoring': None, 'snap': None, 'remodel': None, 'libido.': None, 'the--?': None, 'secret': None, 'white.': None, \"Rasputin's\": None, 'teenage': None, 'Great': None, 'Stengel': None, 'as': None, 'he--': None, 'Aquafresh...': None, 'sixty-nine,': None, 'LONG,': None, 'finally,': None, 'chips': None, 'Bag\".': None, 'SUBJECT)': None, 'cursed!': None, '(SNEERING)': None, 'direction': None, 'trashed': None, 'Marmaduke': None, '(SNIFFING': None, 'Mafia.': None, 'beating,': None, 'cranberry': None, 'test': None, 'middle': None, 'HARMONY)': None, 'uh': None, 'Pronto!': None, 'Umm...': None, 'CAMERA)': None, 'love,': None, 'beanbag.': None, '(PUNCHES': None, 'Who': None, 'maiden': None, 'Louisiana': None, 'fancy,': None, \"FALLIN'...\": None, 'thanks.': None, '(SNEAKY': None, 'eyeballs': None, 'ZiffCorp': None, 'Canyonero.': None, 'Thanks,': None, 'woe:': None, 'stamps.': None, 'knees.': None, \"tinklin'\": None, '\"beers': None, 'kidneys.': None, 'religion,': None, '(HIGH': None, 'soaked': None, '(INCREASINGLY': None, 'boneheaded': None, 'LEARN': None, 'hafta': None, 'certain': None, 'sealed': None, 'WIGGUM': None, 'MOCKING)': None, 'liver': None, 'GUNS)': None, 'great!': None, 'Hear,': None, 'way': None, 'again!\"': None, 'speaking': None, 'alone,': None, 'dizer': None, 'Raining': None, 'works.': None, 'cruel!': None, 'decide': None, 'PATTING': None, 'this?': None, 'School.': None, 'knife': None, 'Pepto-Bismol': None, '(RUNS': None, 'numbers.': None, 'come,': None, 'jar.': None, 'cerebral.': None, 'OVER': None, 'sex': None, 'tap!': None, 'drag': None, 'water?': None, 'WISE': None, 'work!': None, 'Snake': None, 'castle.': None, 'brainheaded.': None, '(COUNTING': None, 'Hmmmm.': None, 'BROTHERHOOD...': None, 'colossal': None, 'lady': None, 'entertainer': None, 'windowshade.': None, 'FEVER': None, 'supports': None, 'match': None, 'dance!': None, 'YOUSE...': None, 'Kirk.': None, 'couple.': None, 'finally': None, 'keys.': None, '(HEARS': None, 'No.': None, 'TV!': None, '(FRINK-Y)': None, 'nailed': None, 'By': None, 'root,': None, 'laws': None, 'stops': None, 'overhearing': None, 'milk?': None, 'scum.': None, 'Wittgenstein': None, 'drinker': None, 'layer': None, 'designer': None, 'lot': None, 'Springfield.': None, 'DIGNITY)': None, 'clear': None, 'fustigate': None, 'Danish': None, 'EVERYONE)': None, \"world's\": None, 'Shaggy.': None, \"wino's\": None, 'dames': None, 'bad-mouth': None, 'Muslim,': None, '\"Forget-Me-Shot.\"': None, 'THOUGHT)': None, 'job.': None, 'rid': None, 'cheaped': None, 'easy': None, 'ask': None, 'butter': None, 'THESE': None, 'Businessman_#1:': None, 'NEVER!': None, 'SNATCH': None, 'DANCE': None, 'understanding': None, 'served': None, 'courage': None, 'Narrator:': None, 'pouring': None, 'dollars': None, 'gestated': None, 'ASSES': None, 'Awww...': None, 'Laugh': None, 'dancing!': None, 'true,': None, 'mob': None, 'Harv': None, 'ordered': None, 'Maya': None, 'ball-sized': None, 'being': None, 'hustle': None, 'second.': None, '(SHOCKED,': None, 'care': None, 'bucket': None, 'bugs': None, 'whoa,': None, 'virile.': None, 'Simpsons': None, 'arms': None, '(SHORT': None, 'Whatever!': None, '(WARILY)': None, 'militia': None, 'Haiti!': None, 'walked': None, 'jolly': None, \"queen's\": None, 'Lou:': None, 'HER)': None, 'spied': None, 'seconds?': None, 'lease': None, 'eight': None, 'Keep': None, 'dice.': None, 'Goodbye,': None, 'things.': None, 'copy.': None, 'ruin': None, \"wouldn't.\": None, '(DIALS)': None, 'fell': None, 'RING;': None, 'Dennis_Kucinich:': None, 'better!': None, 'Lincoln': None, 'THOUGHTFULLY)': None, 'baseball': None, 'good!': None, \"payin'\": None, 'said...': None, 'industry': None, 'DRINKING)': None, 'much?': None, 'god!': None, 'restaurant?': None, 'deacon?': None, 'nearly': None, 'TAPS': None, 'Eddie.': None, 'big': None, 'sure.': None, 'crow': None, 'seat?': None, 'cute...': None, 'Moe...': None, 'camp': None, 'granted.': None, 'Bridge': None, 'gives': None, 'JUST': None, 'Form': None, 'Anyway,': None, 'Book,\"': None, 'breathalyzer': None, 'computer': None, 'YEARS': None, '--': None, 'expression?': None, 'register': None, 'fly.': None, 'Brunch': None, 'bike.': None, 'lazy,': None, 'bumbling': None, 'Brainiac.': None, 'Moe_Szyslak:': None, 'book?': None, '(DYING)': None, 'please...': None, 'East.': None, 'smoke.': None, \"coaster's\": None, 'REAL': None, 'roomy!': None, 'Harvey': None, '(STERNLY)': None, 'agent.': None, 'Whoa!': None, 'lonely.': None, 'Wha?!': None, 'seen': None, 'you': None, 'FDIC': None, 'situation': None, 'Chinua': None, '(\"THE': None, 'dealie.': None, 'Whip,': None, '(SNIDE)': None, 'sad!': None, 'lover': None, 'life?': None, 'yeah?': None, 'realized': None, 'affects': None, 'happy?': None, 'dumb...': None, \"(HIGH-FALUTIN')\": None, 'coherent,': None, 'NOT?\")': None, 'based': None, '(UPBEAT)': None, 'rookie': None, 'family...': None, 'products!': None, 'Kadlubowski.': None, 'puke-holes.': None, 'Johnny_Carson:': None, 'NERVOUS)': None, 'thirty': None, 'thought!': None, 'Funny': None, 'CLASSY': None, '(EYEING': None, \"seein'\": None, 'somebody': None, 'won': None, 'faced.': None, 'cage.': None, 'Eww...': None, 'writers.': None, 'have': None, 'IDEA': None, 'blend': None, 'vampires': None, 'Impeach': None, 'so-called': None, \"TODAY'S\": None, 'family': None, '(WHISPERS)': None, \"OTHERS'\": None, 'ENJOYED': None, 'doll,': None, 'KING.': None, 'awesome,': None, '(LOST': None, 'neck': None, 'idea.': None, 'provide': None, 'fringe': None, '(BUSTED)': None, 'Festival': None, 'laugh,': None, '(EVASIVE)': None, 'wanted\"': None, 'weep.': None, '(REGRETFUL)': None, 'Run': None, 'not!': None, 'feelings.': None, 'Admirer.\"': None, 'Stuff': None, 'DANCING)': None, 'Lushmore.': None, 'usually': None, 'everyday!': None, 'And': None, 'LITTLE': None, 'owes': None, 'sign.': None, 'you.': None, 'dipping.': None, 'site': None, 'salt': None, 'anyway.': None, 'reads': None, 'Sweden.': None, 'BURP)': None, 'themselves': None, 'dirty': None, 'guys': None, 'plug': None, 'running': None, 'die': None, 'and...': None, 'thing.': None, 'Ah...': None, 'monster!': None, 'lousy': None, 'hygienically': None, 'crowded': None, 'forgot.': None, 'same': None, 'still...': None, 'match.': None, 'Pint': None, 'Fox.': None, 'Compadre.': None, 'deserve': None, 'Huh?': None, 'minutes,': None, 'nursemaid': None, 'GrandÃ©,': None, 'job...': None, 'runt.': None, 'SINISTER)': None, \"car's\": None, 'deep': None, 'accident?': None, 'filed': None, 'Damn!': None, \"battin'\": None, 'modest': None, 'booze!': None, 'Feedbag?': None, 'kind.': None, 'Whatever': None, 'harder.': None, 'We-we-we': None, 'BUFFALO': None, 'thousand': None, 'cozies!': None, '(MOUTH': None, 'crunch,': None, 'but,': None, 'tomorrow.': None, 'trench': None, 'jogging': None, 'tear': None, 'SHAPE': None, 'glass': None, 'warning': None, 'literature.': None, 'late,': None, 'BOTTLE)': None, 'pitcher...': None, '(SKETCHING': None, 'nickels': None, 'Whaddya': None, 'pass.': None, 'card...': None, 'trusted': None, 'gamble': None, 'in!': None, 'rug.': None, 'channel?': None, 'anyway': None, 'grandmother': None, \"I'VE\": None, 'jockey,': None, 'good,': None, '(STRUGGLING': None, 'speak': None, 'nine!': None, 'twenty-six': None, 'dessert,': None, \"Shootin'\": None, '\"M\"': None, 'tapestry': None, 'secret.': None, 'This': None, \"washin'\": None, 'Pop': None, 'SACK': None, \"it'll\": None, 'Bad': None, 'Dracula?': None, 'NOBEL)': None, '1973,': None, 'Mister,': None, 'yours.': None, 'SHOTGUN)': None, 'understand': None, \"I'D\": None, 'where': None, 'and/or': None, 'firing': None, 'PASSED': None, 'MY-Y-Y-Y-Y-Y': None, 'mop,': None, 'easy-going': None, 'grrrreetings!': None, 'Homer': None, 'Radio': None, 'solid': None, 'pants.': None, 'HUNDRED': None, 'half-day!': None, 'Tester\".': None, 'Carl,': None, 'slow!': None, '\"Tipsy': None, 'emotion...': None, \"goin'?\": None, 'TREES,': None, 'gargoyles': None, 'WHILE': None, 'eighteen': None, 'WAY...': None, 'medicine.': None, 'plans': None, 'that.': None, '(PROTESTING': None, 'watered-down': None, \"I'm,\": None, 'Excuse': None, 'literature': None, \"speakin'\": None, 'Dateline:': None, 'suave,': None, \"fryer's\": None, 'Maude': None, 'double.': None, '(MURMUR': None, 'daughter.': None, 'coming.': None, 'let': None, 'usual,': None, 'score': None, 'got?': None, '(FLIPS': None, 'life.': None, 'crayon': None, 'paparazzo': None, 'plum': None, 'dad': None, 'quick': None, 'The_Rich_Texan:': None, 'gentle!': None, 'window': None, 'upgrade.': None, 'Murdoch?': None, 'grandmother!': None, 'ohmyGod...': None, 'none': None, 'deer,': None, 'hit': None, 'Grumpy': None, 'prison.': None, 'bucks!': None, '(DRUNK,': None, \"C'mom,\": None, 'fights': None, 'tonight': None, 'title:': None, 'Gotcha': None, 'Wisconsin': None, \"drinkin'\": None, 'No...': None, 'beats': None, 'rewound.': None, 'excellent.': None, 'months': None, 'except': None, 'sleeping': None, '(GOSSIPY)': None, 'no': None, 'swishkabobs.': None, '(GASPS)': None, 'boring!': None, 'Rumaki!': None, 'part': None, 'SITAR)': None, \"We'll\": None, 'pretzel?': None, 'happen?': None, 'date.\"': None, '(SLY)': None, 'tinkle.': None, 'Wait...': None, 'cops.': None, 'Africa.': None, 'Hmmm...': None, 'pickle...': None, 'itself!': None, 'Bank?': None, 'help.': None, 'hook!': None, 'clipped': None, 'cameras': None, 'vacations': None, 'fatty': None, 'clothespins': None, 'Dang': None, 'Freeze!': None, '(DESPERATE)': None, 'Ahhh...': None, '\"stirring\"': None, 'neither.': None, 'Milhouses,': None, 'corkscrew.': None, 'stupidest': None, 'quitcher': None, 'Dang,': None, 'mission': None, 'gal.': None, 'point.': None, 'Kodos:': None, 'cowboy': None, 'CANYONERO.': None, '...I': None, 'everybody,': None, 'B-day,': None, 'sidelines': None, 'top.': None, 'ma,': None, 'Absolutely': None, 'adopted': None, 'bar': None, 'snitch?': None, 'Kahlua': None, 'cartoons': None, 'GLOVE)': None, 'plan.': None, 'WENCESLAS': None, \"there's\": None, 'aggie!': None, 'Alfalfa': None, 'DNA': None, 'stinks,': None, 'rub-a-dub.': None, '\"Secret': None, 'eye!': None, 'thawing': None, 'cough': None, 'face-macer.': None, \"HOMER_(CONT'D:\": None, 'Eight': None, 'agree': None, 'here,': None, 'FLAME!': None, 'harder': None, 'Bumblebee_Man:': None, 'boxcars,': None, 'Any': None, \"ball's\": None, 'chair!': None, 'Jane': None, '(MID-CONVERSATION)': None, 'Lisa_Simpson:': None, 'got...': None, 'egg': None, '(THINKS)': None, 'dreams': None, 'happens': None, 'black': None, 'M': None, 'EYED)': None, 'DIVE': None, 'Later': None, 'in.': None, 'camera.': None, 'cockroach!': None, 'time,': None, '\"Cueball.\"': None, '(WHINY': None, 'Barkeep,': None, 'Quebec': None, '(SPANISH': None, 'ugly.': None, \"kiddin'.\": None, 'empty,': None, 'giving': None, 'nuts,': None, 'Vegas.': None, 'says,': None, 'bless': None, 'ROSEY,': None, 'attend.': None, 'Absolutely.': None, 'Triangle.': None, '(FIERCE)': None, 'hat.': None, 'Jacques:': None, 'demand': None, '(WHILE': None, 'sale.': None, 'BOOZER...': None, 'last': None, 'campaign': None, 'Uh-oh,': None, 'Cut!': None, 'damned.': None, '(NONCHALANT)': None, '(SADLY)': None, 'love': None, 'Mmm,': None, 'hoo?': None, 'Well': None, 'me?': None, 'candidate,': None, 'strains': None, \"man'd\": None, 'marriage.': None, 'blue': None, 'Caveman': None, '\"Gay': None, '(PEEVED)': None, 'moron.': None, 'Moonlight': None, 'CANYONER-OOOO...': None, 'Japanese': None, 'anxious': None, 'Lingus': None, 'make': None, 'home...': None, 'OH': None, 'Should': None, 'PAGE)': None, \"costume's\": None, 'driving.': None, 'yea': None, '(GASP': None, 'Off': None, 'with.': None, 'hang': None, 'presided': None, 'never,': None, 'Barney.': None, 'cut?': None, 'Figure': None, 'all...': None, 'close,': None, 'beers.': None, 'FULL-BLOODED...': None, 'floor': None, 'said.': None, 'Chicken': None, 'Sure!': None, '(COMPUTER': None, 'away!': None, 'accident.': None, 'miles': None, 'then...': None, 'words': None, 'bar\"': None, 'running.': None, \"IT'S\": None, 'agent,': None, 'Wait,': None, 'S.,': None, 'powered': None, 'truth!': None, 'numeral': None, 'reach,': None, 'Atlanta': None, \"hadn't\": None, 'business.': None, 'absolutely.': None, '(HELPFUL)': None, 'HIM)': None, 'anti-crime': None, 'Barn': None, 'sensitivity': None, \"C'mon\": None, '(CHUCKLE)': None, 'check...': None, 'swimming': None, 'Man_With_Tree_Hat:': None, 'rumaki.': None, '\"Blue': None, 'T-shirt': None, 'chase.': None, 'suit,': None, 'ya?': None, 'OVER)': None, 'Don': None, 'unkempt.': None, '(JOKING)': None, 'stand?': None, 'so.': None, 'studio.': None, 'FIRES': None, \"beggin'\": None, 'mall.': None, 'science': None, 'Eventually,': None, 'moonshine': None, 'gone!': None, 'Tyson/Secretariat': None, 'BILLY_THE_KID:': None, 'creme': None, 'million?': None, 'doll.': None, 'access?': None, 'slays': None, 'school?': None, 'stop,': None, 'gambler.': None, 'wizard!': None, 'Wow!': None, 'BLOKES': None, 'Can': None, 'poorer.': None, '(GENUINELY': None, 'sixty-nine.': None, 'OCCURRED': None, 'bagged': None, 'punching...': None, 'sprawl': None, '(STUPIDLY)': None, 'Going': None, 'Formico:': None, 'Raggie.': None, 'guy?': None, 'pageant.': None, 'Whoa.': None, 'Books,\"': None, 'Lurleen_Lumpkin:': None, 'looooooooooooooooooong': None, 'KARAOKE_MACHINE:': None, 'Contractors.': None, 'MAGGIE': None, '\"It\\'s': None, '(OFFENDED': None, 'corkscrews!': None, 'done:': None, 'befriend': None, 'reasons.': None, 'A.A.': None, 'gone.': None, 'Yes!': None, 'kind?': None, '(MACHO)': None, 'Sesame': None, 'Hooters...': None, 'crazy': None, 'STOOL)': None, 'lighting!': None, 'crony.': None, 'given': None, 'unless': None, 'CARD': None, '(POINTS': None, '(EXTREMELY': None, 'Exquisite.': None, 'Yoo': None, 'WINDOW)': None, '(SICKLY,': None, 'Gunter,': None, 'rat-like.': None, 'forbids': None, 'Depository.': None, 'leftover': None, 'deeply,': None, 'mom': None, 'what': None, '(LENNY': None, \"messin'\": None, 'railroads.': None, '(\"AND': None, '\"one.\"': None, 'freak.': None, 'challenge': None, 'coward': None, 'few': None, 'floated': None, 'S.': None, 'tied': None, 'so,': None, 'Beep!': None, 'Wok?': None, 'wrong.': None, \"O'Problem.\": None, 'fills': None, 'fellow?': None, \"nothin'.\": None, 'souvenir': None, 'understand.': None, 'corner': None, '(FINISHING': None, '(CONFUSED)': None, \"I-I'll\": None, 'civilization,': None, \"pickin'\": None, 'rivalry': None, 'forecast': None, '(GENEROUSLY)': None, 'QUEER,': None, 'itchy,\"': None, 'sniper': None, 'ripcord': None, 'Try': None, 'ginger': None, 'listen...': None, \"gettin'\": None, 'Century': None, 'director': None, 'HUG...': None, 'low': None, 'okay?': None, 'Since': None, 'bluff': None, 'KING': None, 'Nantucket,': None, 'Captain': None, 'Morlocks.': None, 'Stacey': None, 'naked': None, 'volunteer,': None, 'Push': None, 'wish?': None, 'ridiculous': None, 'God.': None, 'conversations.': None, 'true!': None, 'season.': None, 'charming': None, 'lofty': None, 'nobody.': None, '(PATS': None, 'short': None, 'dark,': None, 'Al,': None, 'Bastard,': None, 'phone!': None, 'hubub?': None, 'know,': None, 'hunting': None, 'ISLAND': None, 'UTILITY': None, 'turns': None, 'disguised': None, 'say?': None, 'floating': None, 'napkins.': None, 'sunglasses!': None, 'Marguerite:': None, 'Kako:': None, \"won't\": None, 'town,': None, 'smugglers.': None, '(TURNS': None, 'Chinese_Restaurateur:': None, 'Tomorrow': None, '...while': None, 'Yeah?': None, 'expecting': None, 'dollars!': None, 'Smallest': None, 'pathetic': None, 'lime': None, 'Way\"': None, 'drunks': None, '(CARL': None, 'around': None, 'Skinner': None, 'blimp': None, 'Hm,': None, 'call': None, 'huh?': None, 'ruuuule!': None, 'Wings!': None, 'knocks': None, 'proposition': None, 'Strap.': None, 'Apu': None, 'STARES)': None, 'luck': None, 'Hottest': None, '(INDICATES': None, 'SOBO?': None, 'Cold\"': None, 'junebug': None, 'premiering': None, \"didn't?\": None, 'hourly.': None, \"He's\": None, 'you!': None, 'Maya:': None, 'Gore?': None, 'rope.': None, 'funniest': None, '(TEARFULLY)': None, '(ENTHUSIASTICALLY)': None, 'Group?\"': None, \"(CAN'T\": None, 'happier': None, 'gag': None, \"comin'\": None, 'dunno.': None, 'me,': None, 'call,': None, \"scammin'\": None, 'crawl': None, 'Ling': None, '(SUDDENLY': None, 'gas.': None, 'Hmm,': None, 'Little_Hibbert_Girl:': None, 'yogurt!': None, 'Yup.': None, 'mortgage': None, 'geyser!': None, 'drink.': None, 'erasers.': None, 'broad': None, 'does?': None, 'the,': None, 'that...': None, 'her...': None, 'emphasis': None, 'HARV:': None, 'fruit?': None, 'punishment': None, 'Chief,': None, 'temporarily': None, 'Greystash!': None, 'Bowie': None, 'ANNOYED)': None, 'COASTER)': None, 'ahead.': None, 'Revenge?': None, 'PHONE)': None, '(SCANNING': None, 'Brockman!': None, '(MAKES': None, 'gay': None, 'Ummmmmmmmm...': None, '(MENACING)': None, 'double': None, 'convinced': None, 'barf.': None, 'lifestyle,': None, 'UP': None, 'READS': None, 'comedies,': None, 'ashamed.': None, 'lips...': None, '(checks': None, 'were...': None, 'Gary_Chalmers:': None, 'money': None, 'later': None, 'forty-five': None, 'swimmers.': None, 'urine!': None, 'DUKE': None, 'Running': None, 'local': None, 'issues,': None, 'cops?': None, 'Navy.': None, \"Maggie's\": None, '(SUSPICIOUSLY)': None, 'whee...': None, 'jerks.': None, 'acceptance.': None, 'exception:': None, 'ore': None, 'reason': None, 'favor': None, 'mostrar': None, 'whatever': None, 'soap': None, 'round': None, 'conditioner.': None, 'Maggie,': None, 'many': None, 'Cruise.': None, 'MOE-CLONE:': None, 'killed': None, \"spyin'\": None, 'PATIENT,': None, 'hotel': None, 'girl': None, 'drawing?': None, 'Sorry.': None, 'bit,': None, 'Certainly,': None, 'closer': None, 'RAGTIME': None, 'pockets,': None, 'Ahh!': None, 'WILL': None, 'Macbeth!': None, '1979,': None, 'smart': None, 'TWICE)': None, 'Duh,': None, 'Charlie?': None, '(SKEPTICAL)': None, 'judgments': None, '(PORTUGUESE)': None, 'QUICKLY)': None, 'Locklear': None, 'ferry': None, 'THUMB)': None, '(MOANS)': None, 'voted': None, 'party...': None, 'had?': None, 'Dad': None, 'couple!': None, 'dinner': None, 'Mel': None, 'nuked': None, 'oil...': None, '\"enemies': None, '(JAPANESE)': None, 'actually': None, 'world,': None, 'professional': None, 'drive': None, 'stop': None, \"you'd\": None, 'OVERFLOWING...': None, 'old...': None, 'place.': None, 'ate': None, 'gin,': None, 'Heh.': None, 'West.': None, 'use': None, 'back!': None, 'Bee': None, 'germs?': None, 'Oh-ho,': None, 'In-ground?': None, 'job,': None, 'INSPIRED)': None, 'Dirt...': None, 'cash.': None, 'egg.': None, 'bash': None, 'unfair': None, 'learn': None, 'collateral,': None, 'WARMLY)': None, 'life-partner': None, 'consider': None, 'sharity!': None, 'Army?': None, \"workin'.\": None, 'awful': None, 'dollars.': None, '1895,': None, 'OFFENDED)': None, 'fondest': None, 'operation,': None, '(STANDS': None, 'dads': None, 'prolonged': None, 'poulet': None, '(LYING)': None, 'door?': None, 'troll!': None, '\"Texas': None, 'nervous,': None, 'meet': None, 'restaurant': None, 'Duffman.': None, 'locked': None, 'looting': None, 'hoped': None, 'us?': None, 'Usually': None, 'RHYME)': None, 'summer,': None, 'road!': None, 'Peeping': None, 'HELEN)': None, 'History': None, 'Stranger:': None, 'EGG,': None, 'lately?': None, 'Roz': None, '/': None, 'people,': None, 'voters': None, \"squeezin'\": None, 'rife': None, 'Quiet,': None, 'goblins': None, 'additional-seating-capacity': None, '(REALIZING)': None, 'tin': None, 'Onassis...': None, 'Macaulay': None, '\"Bartenders': None, 'soon': None, '(CHOKED': None, 'someplace': None, 'option?': None, 'Voice:': None, 'truth': None, 'specializes': None, 'cricket': None, 'recall,': None, 'darts.': None, 'top': None, 'totally': None, 'no,': None, 'guy...': None, 'it': None, 'Frankenstein?\"': None, 'thumb.': None, 'saga.': None, 'avec': None, 'prime,': None, '(MATTER-OF-FACT)': None, 'heavyweight': None, 'Pizza!': None, 'dank': None, \"Doesn't\": None, 'charity': None, '(PLEASANT)': None, 'rotten': None, 'Bowl!': None, \"you'll\": None, 'color.': None, 'Texan': None, 'all-American': None, 'Wha--': None, 'Wally': None, 'way!': None, 'feeling.': None, 'Saturday': None, \"team's\": None, 'program': None, 'Toms': None, '(HOLDS': None, 'office.': None, 'before,': None, 'uniforms?': None, \"alive.'\": None, 'repeating': None, 'unrelated': None, 'night,': None, 'stupid': None, 'Avalanche.': None, 'Windelle.': None, 'thing': None, 'Ken:': None, 'code': None, 'Her': None, 'evils': None, 'drop?...': None, 'GALS': None, '(GRANDIOSE)': None, 'blood': None, \"McStagger's\": None, 'recent': None, 'Omit': None, 'complaining': None, 'comes.': None, 'heads...': None, 'hose': None, 'Moe-ron?': None, 'show?': None, 'wobble.': None, 'do,': None, 'Belts?': None, 'popular.': None, 'prejudice': None, 'Therefore,': None, 'man.': None, \"readin'.\": None, 'sweat': None, 'goes': None, 'Liser,': None, 'intervention.': None, 'special?': None, 'Attractive_Woman_#1:': None, 'damn,': None, 'empty)': None, 'watered': None, \"hangin'\": None, 'okay': None, 'pulling': None, 'name.': None, '(COUNTING)': None, 'Time': None, 'Hear': None, 'drivers': None, 'British': None, 'for,': None, '(ASIDE': None, \"donatin'\": None, 'chumbawamba,': None, 'marshmallow.': None, 'Round.': None, 'voice': None, 'SOCRATIC': None, 'placed': None, \"who'll\": None, 'Throw,': None, 'show.': None, 'left,': None, 'banks.': None, 'Nick': None, 'DO': None, 'happy': None, '(SPANISH)': None, '(SNAPS': None, \"Y'money's\": None, 'frosty.': None, 'pal.': None, 'wonderful.': None, 'dizzy': None, '(SIMULTANEOUS)': None, 'PROPER': None, 'KID': None, 'shtick': None, 'alpha-crow.': None, 'compressions': None, 'Ura': None, 'theory': None, '(PERPLEXED)': None, 'slipped': None, '(FAST)': None, 'movies': None, 'action': None, 'her?': None, '(SWOONING)': None, 'beer.': None, 'enemy.': None, 'Lookalike:': None, 'bucks.': None, 'milk.': None, 'Marge?': None, 'Bart?': None, 'sometimes': None, '(BRIGHTENING)': None, '\"thorough': None, 'Motor': None, '(SHAKEN)': None, 'gay!': None, 'bring': None, '...five...': None, '\"bump': None, 'poker': None, 'the?...': None, 'choices': None, 'oblongata.': None, 'smooth,': None, 'HOW': None, 'believe': None, 'out?': None, 'item.': None, 'gets': None, 'WANNA': None, 'Byrne?!': None, \"Kearney's_Dad:\": None, 'SNOW': None, 'So...': None, 'Lady': None, 'publish': None, 'Bartender,': None, 'SEES': None, 'fella.': None, 'Scatter,': None, 'gum': None, 'arrest.': None, 'Dan': None, 'jazz,': None, 'cauliflower': None, 'mother.': None, 'creature': None, 'Agency.': None, 'whup': None, 'God!...': None, 'tips': None, 'Kramer?': None, 'left': None, 'moment.': None, 'GASP)': None, 'beer!': None, 'Marjorie.': None, 'fellow': None, 'world...': None, 'kick': None, 'intrigued.': None, '\"The': None, 'stirring': None, 'Butts': None, 'mozzarella': None, 'Moe\\'s.\"': None, 'Welcome': None, \"G'ahead.\": None, 'gunk': None, 'Stu': None, 'kid.': None, 'pictured': None, 'Wikipedia': None, 'about.': None, 'always': None, 'cheapskates.': None, '(CHECKS': None, 'credit': None, 'seen!': None, 'appeals': None, 'Ned': None, 'source.': None, 'eyes...': None, 'explain': None, 'help': None, 'night.': None, 'aggravazes': None, 'Declan_Desmond:': None, \"callin'\": None, 'Jokes': None, 'thanks': None, 'Tony': None, 'plow': None, 'LETTERS': None, 'DAY': None, 'Jeff': None, 'play?': None, 'Yea!!': None, 'YEAH\"!)': None, 'rent.': None, 'recently,': None, 'disappeared.': None, 'peaked.': None, 'savvy': None, 'Feeling?\"': None, 'by': None, 'What?': None, 'looked': None, 'poor': None, 'Gulliver_Dark:': None, 'attached': None, 'Also,': None, 'anarchy': None, '(DRUNKENLY)': None, 'GAL': None, 'midnight': None, 'Burns': None, 'Bart!': None, 'Wade_Boggs:': None, 'muscle': None, 'dies': None, 'SOUND)': None, 'rag.': None, 'acquaintance.': None, 'bad...': None, \"Moe's\": None, 'Lance.': None, 'zoomed': None, 'DEAR': None, 'Moe-clone.': None, 'pipe.': None, 'soup': None, 'Mmmmm,': None, '\"dive.\"': None, 'Milhouse!': None, 'drinking.': None, \"'CAUSE\": None, 'Way': None, 'Beer': None, 'presidential': None, 'person': None, 'punkin.': None, 'remain': None, 'Blade': None, 'seat.': None, 'Seymour': None, 'wiggle-frowns.': None, 'Mommy...': None, 'yet?': None, 'door.': None, 'POSSIBLY': None, 'idioms': None, '(GASP;': None, 'WHEN': None, 'eye': None, 'discuss': None, 'faded': None, 'tidy': None, \"nothin'\": None, 'sensible': None, 'For': None, 'Ohh,': None, 'metal': None, 'pit': None, 'Super.': None, 'Tune.': None, 'chapter': None, 'wore': None, 'costume': None, 'taken': None, 'will.': None, 'today': None, 'Pro': None, 'ourselves': None, 'Manjula': None, 'politicians': None, \"cheerin'\": None, 'severe': None, 'fumigated': None, 'WHAM!': None, 'ALONG': None, 'McStagger.': None, 'invisible': None, 'Schorr,': None, '(SINCERELY)': None, 'kneeling....': None, 'Dan_Gillick:': None, 'President!': None, 'Word': None, 'plus': None, \"What're\": None, 'Hall?': None, 'old': None, 'fast,': None, '\"Dateline\"': None, 'six-barrel': None, 'child.': None, 'highball.': None, 'PUNCH)': None, 'TWELVE': None, 'koji': None, 'Burger': None, 'diminish': None, '(YELLS)': None, 'himself': None, 'complaint?': None, 'address': None, 'smiled': None, 'history.': None, 'life-extension': None, 'vigilante': None, 'HEARTS': None, '(PLACING': None, 'though': None, 'Dejected_Barfly:': None, 'honored...': None, 'musta': None, 'Stir': None, 'stock': None, 'syrup.': None, 'the': None, 'lifetime': None, 'distributor': None, 'woo-hoo!': None, 'Ho.': None, 'pretend': None, 'baseball,': None, 'tap.': None, 'pleasure': None, 'Mt.': None, 'pour': None, 'man...': None, 'pants?': None, 'AGO...': None, 'Marge,': None, 'clandestine.': None, 'detective': None, 'wrestling.': None, 'VOICE)': None, \"tab's\": None, 'Button': None, 'sex.': None, 'lifters...': None, 'peanut!': None, 'SONG': None, 'everything.': None, 'Ya--': None, 'Woman_Bystander:': None, 'kids?': None, 'Valley': None, 'holds': None, 'swig': None, 'tonic?': None, 'nuts?': None, '(VERY': None, \"Nothin's\": None, 'brain': None, 'Mm,': None, 'GLOVE': None, 'fellow...': None, 'true.': None, '-ry': None, 'CRACK)': None, '(NERVOUS': None, 'Love': None, '(PANICKED)': None, 'crap!': None, 'AGREEMENT)': None, 'music,': None, 'police': None, 'fan.': None, \"playin'\": None, 'physical': None, 'bright': None, '(TAPPING': None, 'Edelbrock': None, '(DIMLY)': None, 'Unfortunately,': None, 'theM': None, 'front.': None, 'held': None, '\"Ancient': None, 'dumb-asses...': None, '35...': None, \"Bart'd\": None, '(SING-SONG)': None, 'roller': None, 'wang': None, 'FOOLS...': None, 'Nope,': None, 'it:': None, 'real': None, 'OUT,': None, 'point,': None, 'proposing': None, 'vodka': None, 'LANES': None, 'forty': None, 'Presentable.\"': None, 'Ho-la!': None, 'Eurotrash,': None, 'lizard': None, 'enabling.': None, 'business,': None, 'ya.': None, 'Whatsit?': None, 'to.': None, 'workers': None, 'ago...': None, 'Cowboys!': None, 'Smurfs.': None, 'Garbage': None, 'appropriate': None, 'DELIBERATE)': None, 'Italian.': None, 'sec,': None, 'Another': None, 'Frazier,': None, 'Sometimes': None, 'Carl?': None, 'women': None, 'SHOW': None, '\"Golden': None, 'party?!': None, 'heroism.': None, 'very': None, 'nothing.': None, 'die?': None, '(ANGRY)': None, \"dimwit's\": None, 'Ladies': None, 'wang!': None, '(LAUGHS)--': None, 'alley.': None, 'failed': None, 'extra': None, 'pay.': None, '(GASPS': None, 'DRAW': None, 'dispenser...': None, 'focus': None, 'Nigel_Bakerbutcher:': None, 'composite': None, 'ticket': None, 'shareholder?': None, 'stickers': None, 'trapped': None, 'human': None, 'octa-?': None, 'tune.\"': None, 'pipe': None, 'house,': None, '7G.': None, 'KNOWINGLY)': None, 'donated': None, 'TINY': None, 'relax.': None, 'in-in-in': None, \"what'll\": None, 'SCREAM)': None, 'pulled?': None, 'palm.': None, 'ground.': None, 'God,': None, 'Batmobile;': None, 'Midge': None, 'CLINCHER\")': None, 'every': None, 'investment.': None, 'chill': None, 'CHANGE': None, 'Gee.': None, '\"Twelveball,\"': None, 'arrested:': None, 'KISS': None, '(CALMLY)': None, 'sacrilicious.': None, 'everyone': None, 'muscles.': None, 'yet.': None, 'solved': None, 'huge': None, 'butt.': None, 'shape.': None, 'heart-broken': None, 'when?': None, 'feminine.': None, 'pig?': None, 'accepting': None, 'plywood?': None, 'Jelly': None, '(AWKWARDLY)': None, '(COMMANDING)': None, 'sitting': None, 'monkey': None, 'free.': None, 'astronaut\"!': None, 'fill': None, 'Whoo': None, \"plaster's\": None, 'Cecil_Terwilliger:': None, 'Entirely': None, 'war': None, 'Congoleum...': None, 'correct?': None, 'stopped': None, 'HAPPENED': None, 'David': None, '\"well,': None, 'thought.': None, \"table's\": None, '(EXASPERATED)': None, 'poet': None, 'twelve': None, 'wanna': None, 'aboard.': None, 'SOME': None, 'Quiet!': None, 'Prep?!\"': None, 'suck,': None, '(CATCHING': None, 'effects': None, 'Fill': None, 'spot.': None, 'Grampa': None, 'experienced': None, 'LABEL,': None, 'Spouses,': None, 'Yoink.': None, 'takes': None, 'tap': None, 'night-crawlers.': None, 'MIRROR)': None, 'Source!': None, 'Huh,': None, 'Better': None, 'bedbugs.': None, 'prepared': None, 'suds': None, 'BE': None, 'you,': None, 'FOUR': None, 'CHECK': None, 'calls': None, \"Liberty's\": None, 'series.': None, 'collapse!': None, 'amazing.': None, 'saying...': None, 'DRESSED': None, 'blow': None, \"buyin'\": None, \"buyin'!\": None, 'swallowed,': None, 'Albert.': None, 'senators...to': None, 'Jeff_Gordon:': None, 'Associate.': None, 'French,': None, 'Poetics?': None, 'liar,': None, \"couldn't\": None, 'brewed': None, 'SMOKES': None, 'intention': None, 'broke?': None, 'right.': None, '\"three.\"': None, 'ugliest': None, 'Sunday.': None, '(SWEET)': None, 'wigs.': None, '(LOUD': None, 'flat': None, 'Edna-lover-one-seventy-two.': None, 'dunno,': None, 'buy!': None, 'her': None, 'dinner,': None, 'ya...': None, 'manager.': None, 'means': None, 'chew': None, '(HAPLESSLY)': None, \"buyin'.\": None, 'gave': None, 'DIRGE-LIKE)': None, 'TV': None, 'Moe': None, 'interested': None, 'bounced': None, 'Moesy.': None, 'talkative,': None, \"Betsy'll\": None, 'Borrow': None, 'jerky,': None, 'PROOF': None, 'gay.': None, '(SMOOTHLY)': None, 'astronaut?': None, 'AGAIN)': None, 'An': None, 'Did': None, 'Check.': None, 'BartholomÃ©:': None, 'future?': None, 'boy...': None, 'Seven.': None, 'Burn': None, 'wreck': None, 'whenever': None, 'telegraph...': None, 'Chub': None, 'helping.': None, '\"Go': None, 'little...?!': None, 'arrest!': None, 'catching': None, 'Marge.': None, 'stock?': None, 'happy!': None, 'Or': None, 'flaking': None, 'TREAT': None, 'Sweet?': None, '(ETC.)': None, 'stadium.': None, 'diapers': None, 'enforced': None, 'Darn': None, 'thrown': None, 'Arab_Man:': None, 'enemies': None, 'squad': None, 'hot,': None, 'eyesore,': None, 'it!': None, 'Great.': None, 'NEEDY)': None, 'get': None, 'SWEETLY)': None, 'shaved': None, 'TAPE': None, 'relative.': None, 'cigarette': None, 'Tabooger.': None, '(BACKING': None, 'replace': None, 'whoa...': None, 'scum-sucking': None, 'together,': None, 'Ireland!': None, 'gasoline': None, 'tomahto.': None, 'Professor': None, 'Hunter.\"': None, 'inspire': None, 'fan': None, 'much': None, 'cheerier': None, 'GAMES': None, 'are...': None, 'Calvin': None, 'care.': None, 'SOTTO)': None, 'mate.': None, 'Grammy': None, '(ALL': None, 'Astrid,': None, 'astronauts.': None, '(DRAMATIC)': None, 'alone!': None, '\"No,': None, 'HIS': None, 'OLD': None, 'waltz': None, 'tough,': None, 'BLOODED': None, 'ringing!': None, 'it!!': None, 'Shhh!': None, \"Lovers'\": None, 'exit?': None, 'Maman,': None, 'COMIC)': None, 'finest': None, 'coupon': None, 'mine.': None, 'question?': None, 'babies.': None, '(QUIETLY)': None, 'delicious': None, 'Hand': None, '(CONTINUING)': None, 'fine.': None, 'sober.': None, 'glyco-load,': None, 'ah,...': None, 'all.': None, 'streetlights': None, 'producers': None, 'had': None, 'Delightful': None, \"I've\": None, 'available': None, 'dungeon.': None, 'ironic.': None, 'Papa': None, 'secrets.': None, 'ah,': None, 'Correcting': None, 'IHOP!': None, 'Nudge': None, 'brow...': None, 'happened': None, 'cheaper': None, 'dum-dum,': None, 'Augustus': None, 'hope,': None, 'territorial.': None, 'took': None, 'eat.': None, 'counting': None, 'hero-phobia': None, 'twenty-two.': None, 'Burns?': None, 'Elmer': None, 'Two,': None, \"Ol'\": None, 'music?': None, 'fire': None, \"She's\": None, 'TWO-THIRDS-EMPTY': None, 'INTRIGUED)': None, \"pressure's\": None, 'going.': None, 'accidents': None, 'AWE)': None, 'ready!': None, '\"WELL,': None, 'cell-ee.': None, 'NOBODY': None, 'thinks': None, 'SHOPPING': None, 'doctor': None, 'look,': None, 'wrong!': None, 'Mafia?': None, 'Refresh!': None, 'Flea:': None, 'drown': None, 'tease': None, 'paper.': None, 'Boxing': None, 'au': None, 'shaker,': None, '(DOOF)': None, 'champs': None, 'Lisa?': None, '(EXITS)': None, 'mistresses.': None, 'Aerosmith': None, 'Maybe': None, 'telling': None, 'pulled': None, 'ooo!': None, 'heaven,': None, 'Charlie': None, 'Ducked.': None, 'badly.': None, 'Sunday': None, 'win!': None, 'mostly': None, 'wait.': None, 'Woo.': None, \"Mecca's\": None, 'dead!': None, 'Throw': None, 'Arabs,': None, \"MOE'S\": None, 'Elizabeth': None, 'SLAP': None, 'flower': None, 'hilarious.': None, 'um...': None, 'Maggie.': None, 'hear.': None, 'honored': None, \"DON'T\": None, \"'Til\": None, 'these!': None, \"How's\": None, '(NORMAL)': None, 'people.': None, 'Hans:': None, 'feel?': None, 'Mudflap.\"': None, 'worst.': None, 'super-genius.': None, 'lurks': None, 'daddy': None, 'EACH': None, 'Flush.': None, 'dea-d-d-dead.': None, 'CIGARETTE': None, 'SAT-IS-FAC-TION': None, 'oak.': None, 'IN)': None, 'hundreds': None, 'problem.': None, 'Yellow': None, 'Gorgeous.\"': None, 'lead': None, 'Christmas!': None, 'see.': None, 'Resolution': None, 'whether': None, 'eye?': None, 'married.': None, 'hilarious': None, 'Joe.': None, 'What!?': None, 'cola.': None, 'percent': None, 'PATRONS)': None, 'THIS': None, 'space': None, 'yes,': None, 'Anything': None, \"isn't\": None, 'gone': None, '(TORN)': None, 'Rainier': None, 'fired': None, 'and': None, 'arrange': None, 'FEAST': None, 'grow': None, 'INDIFFERENCE)': None, 'meal!': None, 'too.': None, 'phasing': None, 'sister': None, '(GRIMLY)': None, \"boy's\": None, 'partner?': None, 'SEES/': None, 'About': None, 'chip': None, 'vehicle.': None, 'early': None, 'Richard:': None, 'worry!': None, 'yellow-belly': None, '\"f\"?': None, 'brick.': None, 'above': None, 'CHUCKLE)': None, 'eaten': None, '(PUZZLED)': None, 'hell.': None, 'PUB!': None, 'a--': None, 'fabulous': None, 'BOXING_ANNOUNCER:': None, '(PERFUNCTORY,': None, 'Stupid': None, 'filled': None, 'Pageant.': None, 'Uh-huh...': None, 'instrument': None, 'handoff.': None, 'cronies.': None, 'Perhaps': None, 'foot': None, 'Boy,': None, \"haven't\": None, 'Tavern': None, 'Missed!': None, 'common.\"': None, 'Smithers.': None, 'Windex?': None, 'feelings?': None, '(BELCH)': None, 'Rotch.': None, 'Tenor:': None, 'blew,': None, 'hunka': None, 'Palmerston!': None, 'case': None, 'sounds...': None, 'Careful,': None, \"Isn't\": None, 'play.': None, '(CATCH-PHRASE)': None, 'outlook.': None, 'MacGregor': None, 'I\\'m-so-stupid!\"': None, 'is...': None, 'fifth': None, 'THINK': None, 'TITLE)': None, 'drummer': None, 'piece': None, 'birthplace': None, 'optimistic': None, 'Elder.': None, 'tell': None, \"watchin'\": None, '\"Fifty': None, \"BART'S\": None, '(SURPRISED': None, 'Aww!': None, 'secret...': None, 'sticking': None, 'grand...': None, 'games': None, '\"Fireball': None, 'thousand!': None, 'whaaa?': None, 'Homer\".': None, 'State': None, 'punch': None, 'machine.': None, 'Why?': None, '\"CHURCHY': None, 'man,': None, 'grubby': None, 'rubbed': None, 'great,': None, 'clothespins:': None, 'Collette:': None, 'verticality': None, 'across': None, 'Extended': None, 'protesters': None, 'dead': None, 'EVER)': None, 'rector.': None, 'duel.': None, '(NOISE': None, 'hear': None, 'Police': None, 'sits': None, 'busiest': None, '(TAKES': None, 'Six': None, 'SIXTY-FIVE': None, 'mortgage.': None, 'Midge.': None, 'baby?': None, 'celebration': None, 'word': None, 'long.': None, 'Mike_Mills:': None, 'Hm.': None, 'cool': None, 'bonding': None, 'therapy': None, 'dogs': None, 'Sacajawea': None, 'FRANKLY,': None, 'bus': None, 'authenticity.': None, 'throat!': None, 'Krusty!': None, 'raise': None, 'bake': None, 'closer.': None, 'bets.': None, 'do!': None, 'strong?': None, 'outstanding': None, 'birthday?': None, 'dad.': None, 'Gimme': None, 'Airport': None, 'partner': None, 'super-nice': None, '(DYING': None, 'Ford': None, 'gold!': None, 'top!': None, 'honest,': None, '(SHEEPISH)': None, '\"come': None, 'pall': None, 'People': None, 'exhibit': None, 'What,': None, 'Ziff,': None, 'swear.': None, 'Singers:': None, 'well...': None, 'key': None, 'Hurry,': None, 'ticket.': None, 'Tavern.': None, 'bugging': None, 'alone...': None, 'scam.': None, 'played': None, 'pity': None, 'die,': None, 'year.': None, '(MURDEROUSLY)': None, 'SINGING': None, 'problems,': None, 'beefs!': None, 'jackass,': None, 'SLIGHTLY': None, 'tying': None, 'Society.': None, 'exactly': None, 'Club': None, 'Increased': None, 'HOMER)': None, '(WHINY)': None, 'play,': None, 'kiss': None, 'HEAD)': None, 'TALK)': None, 'Juice\"?': None, 'butts!': None, 'boy?': None, 'Plastic': None, 'innocent': None, 'HO-LY': None, 'partners.': None, '(QUIET)': None, 'together': None, 'name,': None, 'Justify': None, 'Moe!': None, 'Barn?': None, 'tow-Joes.': None, 'pickle': None, 'sheet': None, 'Wayne,': None, 'world?': None, 'presumir': None, 'barber': None, 'suppose': None, 'hard.': None, 'think,': None, 'broken': None, 'CHIN)': None, 'trust': None, 'hanging': None, 'YEAH\")': None, 'Ahh.': None, 'Sam:': None, 'second,': None, 'Therapy': None, '(IMPRESSED': None, \"we'll\": None, 'Mr.': None, 'scores': None, '2?': None, 'Ton': None, 'referee': None, 'Odor': None, 'still': None, 'call.': None, 'Players': None, '(YOUNG,': None, 'ADELEINE....': None, \"talkin'\": None, 'Marmaduke?': None, 'youth,': None, 'Squadron!': None, '(SHRUGS)': None, 'FRENCHMAN,': None, 'fish': None, 'lose?': None, 'Linda': None, 'man': None, 'tight?': None, 'Renee': None, 'beautiful.': None, 'yeah.': None, 'exchanged': None, 'strategy.': None, 'transfer': None, 'stupid,': None, 'point?...': None, 'friends.': None, 'sent': None, 'air': None, 'Bite': None, 'committing': None, 'moron': None, 'BREAK': None, \"challengin'\": None, 'Wordloaf': None, 'sing': None, 'scene': None, 'AROUND': None, 'furry': None, 'Notice': None, '\"Things': None, 'fourteen:': None, '(PISSED)': None, 'saying': None, 'tired!': None, 'unattended': None, 'help,': None, 'besides': None, 'Leonard?': None, 'television': None, \"Fun's\": None, 'Partly': None, 'engraved': None, 'ENTHUSED)': None, 'called': None, 'only...': None, 'nine...': None, \"that's\": None, 'table': None, '(NOTICES': None, 'sleep...': None, 'COULD': None, 'beer...': None, 'because': None, 'Mac-who?': None, 'haircuts?': None, 'Pub,': None, '(WIPING': None, 'attitude,': None, \"fightin'\": None, 'stools': None, 'anymore.\"': None, 'of!': None, 'Delete!': None, 'Fine,': None, 'Gallon': None, 'PATS': None, 'habitrail.': None, 'bad,': None, 'dyspeptic': None, 'almost': None, 'light!': None, '\"World\\'s': None, 'seem.': None, 'Lousy': None, 'tropical': None, 'lonely': None, 'tablecloth,': None, 'IMPATIENT)': None, 'too?': None, 'all': None, 'woodchucks.': None, 'passed': None, 'WATCH)': None, 'cousin,': None, 'Tipsy': None, 'proves': None, 'plastered': None, 'parents': None, '(SICKENED)': None, '(BEAT)': None, 'eye-gouger': None, 'hurt!': None, 'crap,': None, 'waitress': None, 'BARNEY)': None, 'sabermetrics.': None, 'Isotopes!': None, 'jar!': None, 'Duff': None, 'eleven': None, 'while.': None, 'SYMPATHY)': None, 'Cool': None, 'glee,': None, '(WARMLY)': None, 'again': None, 'Our': None, 'fireworks': None, 'Which': None, 'calendars': None, 'Wudgy,': None, 'Island.': None, 'there': None, 'dating!': None, 'buttons': None, 'he?': None, 'appointment.': None, 'beers!': None, 'father,': None, '(AMAZED)': None, '\"S-A-U-R-C-E\"!': None, 'nards!': None, 'bike...': None, 'losers,': None, 'Dr._Babcock:': None, \"'Em!\": None, 'Sexual.': None, 'up...': None, 'politics.': None, 'Sure': None, 'Maxed': None, 'Sign': None, 'sweet': None, 'veux': None, 'figured': None, 'odd.': None, '\"Othello\"': None, 'DESPERATE)': None, 'Tired': None, 'camp,': None, 'Mm': None, 'Moe?': None, 'UP,': None, 'hobo!': None, '(SMILES)': None, 'dude.': None, 'Club\"': None, 'exhaust': None, '(SINCERE)': None, 'involving': None, '(PATIENT': None, 'heaven': None, 'I-I-I': None, 'normal': None, 'FIELD': None, 'industry,': None, 'ratio': None, 'BLEND...': None, 'rat': None, 'call?': None, '(SYMPATHETIC)': None, 'I?!': None, '(RUBS': None, \"bartender's\": None, 'MUST': None, 'abandon': None, 'boring': None, 'Dad,': None, 'GIRL,': None, 'anymore!': None, '(SHYLY)': None, 'um,': None, 'Games\\'d\",': None, 'please!': None, 'PROUDLY)': None, 'A-B-': None, 'Krusty_the_Clown:': None, 'African': None, 'admit': None, 'be?': None, 'precious': None, 'MUTTERING': None, 'pre-Columbian?\"': None, 'SAVE...': None, 'Hey!': None, 'Fat': None, 'DRYER)': None, \"rustlin'.\": None, 'gifts!': None, 'conditioners.': None, '(GRUNTS': None, 'buzziness.': None, 'Two.': None, 'ancient': None, 'Carmichael': None, 'twenty-nine.': None, 'icy': None, 'Krusty,': None, 'Buddha': None, 'jig!': None, 'insensitive': None, 'Mother,': None, \"'Topes\": None, '(HE': None, 'cameras.': None, 'contest': None, 'pond.': None, 'YARDS': None, 'pirate\"...': None, 'Gator': None, 'BOY,': None, 'bourbon!': None, \"makin'\": None, 'most': None, 'Strap!': None, 'CORKSCREW)': None, 'anybody': None, 'joke': None, 'blessing': None, 'beings.': None, 'alcohol': None, '(OVER-PRONOUNCING)': None, 'SHOWING.': None, 'Mobile,': None, 'suspended': None, 'handsome': None, 'cents,': None, 'mustard.': None, 'gluten!': None, 'feet': None, '(IN': None, 'asked': None, 'with?': None, 'degradation': None, 'kitchen,': None, 'slick.': None, 'winner.': None, 'actors': None, 'Not': None, '(CHECKING': None, 'Fritz:': None, 'organ': None, 'NASCAR': None, 'Supreme': None, 'HANK_WILLIAMS_JR.:': None, 'wiggle': None, '(GIVING': None, 'whole': None, 'script,': None, 'showing': None, 'Religious': None, '\"Tom': None, 'Take': None, 'assistant.': None, 'pub.': None, \"Here's\": None, \"askin'\": None, 'tv)': None, 'looked...': None, 'TODAY/': None, 'zeal.': None, 'Gumbel,': None, 'youse.': None, 'shocked.': None, 'nothing': None, 'Smelly.': None, 'another,': None, 'drinks,': None, 'boxer,': None, 'enveloped': None, '(PANTS)': None, 'Some': None, 'stuff...': None, 'the?!': None, '(HAPPY': None, 'kids': None, 'Finally.': None, 'bag.': None, 'BABY': None, 'Mom.': None, 'Democrats.': None, 'Barney?': None, 'work?': None, 'sink.': None, 'Homer,': None, 'Schnapps;': None, 'worry.': None, 'sloe': None, 'line?': None, 'Thanksgiving': None, 'thirty-three?': None, 'known': None, 'Incognito.': None, 'S.O.B.,': None, 'chunky,': None, 'lighter,': None, 'this!': None, 'Barney': None, 'trying': None, 'comedy': None, '(MAD)': None, 'ancestors': None, 'LOSER': None, 'OLD-TIME': None, 'Jaegermeister,': None, 'Wha?': None, 'joined': None, \"G'night,\": None, 'skin.': None, 'TV,': None, 'annus': None, 'familiar?': None, 'course.': None, 'IRS': None, 'unusually': None, 'clientele': None, \"I'm\": None, '(REENTERING)': None, 'tiny': None, \"should've\": None, 'around.': None, 'Harv.': None, '(DRAMATICALLY)': None, 'poison': None, 'said,': None, 'Hotenhoffer': None, 'mis-statement': None, 'lush.': None, 'joint!': None, \"bettin'.\": None, \"what's\": None, 'Paramedic:': None, 'large.': None, 'necessary.': None, 'Hi.': None, '(CONSIDERS': None, 'BRIGHTENING)': None, 'eighty-seven.': None, 'before': None, 'shoulders!': None, 'THEY': None, 'magic,': None, 'time.': None, 'causes': None, 'jail!': None, 'STANDARDS': None, 'Jumping': None, 'puke...': None, 'buried': None, 'rods.': None, 'Yea,': None, 'BAR,': None, 'stand.': None, 'If': None, 'Ass,': None, 'Wednesday...': None, '(WHISTLES)': None, 'Christopher!': None, 'fainted,': None, 'owe': None, \"she'll\": None, 'bar-boy,': None, \"yieldin'\": None, 'dozen': None, 'squeal': None, 'HOMER_DOUBLES:': None, 'Duff!': None, '\"Look': None, 'Homer!': None, 'break.': None, 'cat': None, 'After': None, \"town's\": None, 'Then,': None, 'broom.': None, 'Occupancy.': None, 'carb?': None, 'Eat': None, 'movies?': None, 'might': None, 'sleeps': None, '(VENGEFUL)': None, 'Barbara': None, 'TABLE)': None, 'shells,': None, 'wallet,': None, 'pockets': None, 'Gentlemen,': None, 'burglary,': None, 'roof...': None, 'suspect': None, 'traffic.': None, 'championship.': None, \"shouldn't,\": None, \"He'd\": None, 'Whoops.': None, 'eating': None, '(PLEADING)': None, '(GERMAN': None, 'myself': None, 'Kyoto!': None, 'SMOOTH)': None, 'bill': None, 'inexorable': None, 'Bart,': None, 'Sassy': None, 'trucks': None, 'fighting': None, 'gives?': None, '(THREE': None, 'vomit.': None, \"cleanin'\": None, 'on...': None, '(PRE-RECORDED,': None, 'car...': None, 'road': None, 'we': None, 'DOOR)': None, 'Anyhoo,': None, 'foil': None, 'seek': None, 'Reporter:': None, 'surgeonnn!': None, 'call...': None, 'Tatum.': None, 'single-mindedness': None, 'project': None, 'Hexa-': None, 'Western': None, 'say.': None, 'knives.': None, 'abolish': None, 'pays': None, 'comfortable.': None, 'today?': None, 'steak': None, 'Ralph_Wiggum:': None, 'waste': None, \"'Cause\": None, 'Ah': None, 'closed.': None, 'ladies.': None, 'letter...': None, '(STANDING)': None, 'low-life': None, 'sen...': None, 'prince': None, 'sacrifice': None, 'stick.': None, 'works?': None, 'Maitre': None, 'admit,': None, 'protecting': None, '\"Dr.': None, '(TRIES': None, 'Helllp': None, '(TURNING': None, 'Springfield,': None, \"money's\": None, 'HEAD': None, 'spoken.': None, 'guard.': None, 'releasing': None, 'researching': None, 'reminded': None, 'Woman:': None, 'sober': None, 'covers': None, 'tee': None, 'no...': None, 'Einstein.': None, 'DUFF\")': None, 'thing!': None, '(CHUCKLES)': None, 'both': None, \"round's\": None, 'dynamite': None, 'gear-head,': None, 'per': None, 'drinks': None, \"countin'\": None, 'feet.': None, \"soakin's.\": None, 'pass': None, '(INSULTED)': None, '(GRATEFUL)': None, 'BETTER': None, 'vote.': None, 'Scientific': None, 'rash.': None, '(RECONSIDERING)': None, 'lady-free': None, 'stop!': None, 'than': None, 'bourbon': None, 'U.': None, \"tramp's\": None, 'action.': None, 'including': None, 'today!': None, 'authorized': None, 'secret,': None, 'quite': None, 'PLEASE': None, 'especially': None, 'bucks?': None, 'Small_Boy:': None, 'Perfect.': None, 'tow-talitarian!': None, 'pawed': None, 'NASA': None, 'Kenny': None, 'flowers,': None, 'They': None, 'pointing': None, 'plums': None, 'knows?': None, \"havin'\": None, '(ROLLING': None, 'five.': None, 'grabbing,': None, 'yet': None, 'done.': None, 'Would': None, 'life': None, 'Malabar': None, '(MELODRAMATIC)': None, '(SMILING)': None, 'versus': None, 'Alky.': None, 'Hour!': None, 'higher': None, 'fifty': None, 'Because': None, '(RELUCTANT)': None, 'wa': None, 'Shriners.': None, 'blow,': None, 'appear': None, 'tie': None, 'course': None, 'book': None, 'word.': None, 'effigy.': None, \"it'd\": None, 'restless.': None, 'adjourned!': None, 'chick!': None, 'fail.': None, 'GUN)': None, 'wear...': None, 'five-fifteen': None, 'lenses': None, 'nein...': None, 'sisters.': None, 'Sunday?': None, '\"E\"': None, 'beloved': None, '(DISGUSTED)': None, 'Total': None, '(LAUGHING).': None, 'hurts': None, 'work,': None, '(HURT': None, 'BART)': None, 'size,': None, 'starters,': None, 'down.': None, 'savings': None, '(ATTACK': None, 'walking': None, 'sandwich.': None, 'sexton,': None, 'write': None, 'illustrates': None, 'feed': None, 'terrifying': None, 'partially': None, 'Schabadoo.': None, 'close': None, '(PAINED)': None, 'explanation.': None, \"O'Reilly.\": None, 'Doreen:': None, 'Plow.': None, 'cesss...': None, \"ragin'\": None, 'radishes.': None, 'candy,': None, \"they're\": None, 'assert': None, 'meeting': None, 'Duff...': None, 'headhunters': None, 'they': None, 'Taylor.': None, 'holidays': None, 'L.': None, 'LOOKED': None, 'Good,': None, 'Eh.': None, 'sets,': None, 'knows': None, 'great': None, 'a-lug': None, 'Uh': None, 'reminds': None, 'cheap,': None, 'cases': None, 'directions,': None, 'orphan': None, 'pretzels?': None, 'ISLE': None, 'radiation': None, 'Eh!': None, 'lend': None, 'Hibbert': None, 'starving': None, 'Canyonero!': None, 'okay,': None, 'Butterball,': None, 'Rusty': None, 'forget': None, 'OUT': None, '(TACTFUL)': None, 'WEIGHT)': None, 'clams.': None, 'thoughts?': None, 'it.\"': None, 'product.': None, 'Warren': None, \"MO'!\": None, 'Teenage_Bart:': None, 'solves': None, '(LOUD)': None, 'easily': None, 'Please.': None, 'hole,': None, 'satisfaction!': None, 'this': None, \"I'd\": None, 'again.': None, 'form.': None, 'supervising': None, 'good?': None, 'thousands': None, 'for': None, \"I'll\": None, 'housework.': None, 'newspaper': None, 'ME': None, 'grind': None, 'EMBARRASSED)': None, '\"El': None, 'terrific.': None, 'looks': None, '(COMPETITIVE)': None, '(SLIGHT': None, 'One...': None, 'Cyrano?': None, 'earrings,': None, 'Yell': None, 'dishonor': None, 'ambrosia.': None, \"Bashir's\": None, 'relaxing': None, '\"African': None, 'sub-monkeys.': None, '(DOWN)': None, 'of?': None, 'Achebe,': None, 'FOIBLES!': None, 'simple': None, '\"buy': None, 'bubbles?': None, '(STERN)': None, 'Touchdown!': None, 'whirlybird?': None, 'shores': None, 'thirsty': None, 'terrific,': None, 'Brockman': None, 'richer': None, 'heartily': None, 'vin': None, 'archaeologist.': None, 'day.': None, 'JOE\"': None, 'lost': None, 'Kim_Basinger:': None, 'steamed': None, 'gold,': None, 'embarrassing': None, 'pocket)': None, 'cash': None, '(MUSSES': None, 'yourself?': None, '(DRIVING': None, 'coal': None, 'at,': None, 'about': None, 'energy!': None, 'calm': None, 'director,': None, 'haw!': None, 'sturdy': None, 'Gabriel:': None, 'deny': None, 'hitchhike.': None, 'blocked': None, \"Smokin'\": None, 'today...': None, '\"Forget-Me-Shot?\"': None, 'lock.': None, 'Wiener!': None, 'anti-intellectualism': None, \"'em,\": None, 'Dash...': None, 'Video': None, 'more.': None, 'SO': None, 'Vegas,': None, 'typing': None, 'funds.': None, 'trapping': None, 'romantic': None, 'thought': None, 'glasses': None, 'measure': None, 'From': None, 'Totally': None, 'Gums': None, 'backwards': None, 'burns': None, '(CONSULTING': None, 'Average': None, 'kidney,': None, 'SPOON': None, 'maybe': None, 'buffet': None, 'street': None, 'housewife': None, 'Jacksons,': None, 'bail': None, 'sued': None, 'PINT': None, 'trouble': None, 'closing': None, 'birth': None, 'magazine': None, 'Zack': None, 'ANNOYED': None, 'STOOGES': None, 'pride.': None, 'was,': None, \"stealin'\": None, 'Writer:': None, \"Chewin'\": None, 'freaking': None, 'think?': None, 'more...': None, 'ehhhhhhhh...': None, \"'round\": None, 'thinking.': None, 'Bashir': None, 'truth...': None, 'not.': None, 'germs...': None, 'Delivery_Man:': None, 'safer': None, 'loves?': None, 'Ah.': None, 'NOISES)': None, 'Cecil': None, 'rude.': None, 'milk...': None, 'RALPH)': None, 'random': None, 'WORSE...': None, \"THEY'LL\": None, 'and-and': None, 'though:': None, 'hey,': None, 'Lone': None, \"goin'\": None, 'Dad!': None, 'video': None, 'utility': None, 'Eu': None, 'specific': None, 'past.': None, '(DEFIANTLY)': None, 'Bring': None, 'what?': None, 'much,': None, 'Craft.': None, 'Young_Barfly:': None, 'Jerry': None, 'Few': None, 'Joey_Kramer:': None, 'rabbits!': None, 'paste.': None, 'Three': None, 'My': None, 'civic': None, 'adventure': None, 'swell.': None, 'thnord': None, 'GRAMPA!': None, 'sing...': None, 'hundred!': None, 'onions': None, 'marry': None, 'subject.': None, 'choice.': None, 'separator': None, 'DAY...': None, 'uh,': None, 'F-L-A-N-R-D-S!': None, 'Guy.': None, 'Short_Man:': None, 'Again.': None, '(WISTFUL)': None, 'under': None, 'Hollye': None, \"How're\": None, 'photo': None, 'anywhere': None, '(NODS': None, \"Bo's\": None, 'drollery.': None, 'ass': None, 'streetcorner.': None, 'Gin': None, 'Okay!': None, '(DAWNING)': None, 'BOOK': None, 'Roz:': None, 'Yeah...': None, 'Betty:': None, 'sat': None, 'does.': None, 'Benjamin:': None, 'column,': None, 'European': None, 'tank,': None, 'Ice': None, 'WONDERFUL': None, '(AIR': None, 'IT,': None, 'dumb.': None, 'yeah,': None, 'drunks.': None, 'margarita': None, 'plenty': None, 'intriguing,': None, 'Alfred?': None, 'attractive.': None, 'deals': None, 'stuff': None, 'bartenders': None, 'multiple': None, 'bupkus.': None, 'care!': None, 'excellent': None, 'Christmas': None, 'before?': None, 'meaningless': None, 'dame,': None, 'judge': None, 'Help': None, 'Bloodball!': None, '(GOOD': None, 'yourself,': None, 'seamstress': None, 'MY': None, 'energy': None, 'involved': None, \"Murphy's\": None, 'over!': None, 'Pfft,': None, 'Viva': None, 'Pleasure': None, 'Eva': None, 'dropped': None, 'de-scramble.': None, 'school.': None, 'shred': None, 'shutting': None, 'Williams.': None, 'inside': None, 'face,': None, 'customers.': None, 'imagine': None, \"soundin'\": None, 'dear.': None, 'positive': None, 'busy': None, 'Larry:': None, \"'im,\": None, 'boozebag': None, 'RESIGNED)': None, 'eighty-five': None, 'BARTENDER': None, 'assistant': None, \"bladder's\": None, 'Have': None, 'beginning.': None, 'car?!!': None, 'GUN': None, 'MORE\")': None, 'yammering!': None, 'couch': None, '(IMPRESSED)': None, 'pen': None, 'willing': None, 'DRINK)': None, 'jobs': None, 'was...': None, 'ape-like': None, 'survive': None, 'year,': None, 'GAY': None, 'drunk.': None, 'Obese': None, 'doing?': None, 'ARMS': None, '(REMEMBERING': None, 'compromise:': None, 'do': None, 'Shakespeare.': None, 'Innocent': None, 'expensive': None, 'MARGE)': None, 'hail!': None, 'Santeria,': None, 'phlegm': None, 'yesterday,': None, 'Must': None, 'PULLS': None, 'Ees': None, 'Frankly': None, 'goes.': None, 'delete.': None, 'Gus.': None, 'acronyms!\"': None, 'disposal.': None, 'front': None, \"'er\": None, 'entire': None, 'me': None, 'cries': None, 'clock': None, 'jerking': None, 'Agent_Johnson:': None, 'allowed': None, \"poundin'\": None, 'BUBBLE)': None, 'ten...': None, 'legs': None, 'best.': None, 'Procedure.': None, 'Fayed,': None, 'possibly': None, 'Har,': None, 'Buzz': None, 'Aww,': None, \"c'mon!\": None, 'Shesh,': None, 'Starting': None, 'rafters.': None, 'Agent_Miller:': None, 'listening': None, 'bridge': None, 'kisser.': None, 'COOL)': None, \"foolin'?\": None, 'hey!': None, 'penny!': None, 'ears?!': None, 'entirely': None, 'him!': None, '/MR.': None, 'Oh!': None, 'Look.': None, 'neat...': None, 'Cavern.': None, 'Get': None, '(UNFAMILIAR)': None, 'fat!': None, 'measurements?': None, '...counting': None, 'bullet-proof': None, '(THRU': None, 'hairs': None, 'Dallas.': None, 'dunno...': None, 'prison': None, 'specialists.': None, 'wonderful...': None, '(DEFENSIVE)': None, 'squeeze': None, 'fire!': None, 'Lenny!': None, 'Aidens!': None, 'invented': None, 'fault.': None, 'electronic': None, 'stayed': None, 'leg.': None, 'ungrateful': None, 'head,': None, 'Frankly,': None, 'robot': None, 'omigod,': None, 'supposed': None, 'STOPPED': None, 'I,': None, 'specials': None, 'trip...': None, 'bow?': None, 'blame': None, \"lady's\": None, 'GOODBYE...': None, 'Nordiques': None, 'pal!': None, 'bucks': None, 'Him?': None, 'Jewish': None, 'VOICE,': None, 'ordered.\"': None, '(FRENCH)': None, 'Moe.\"': None, 'official.': None, 'pickled': None, 'multi-purpose': None, 'be': None, 'Lisa,': None, 'Before': None, 'dunno': None, 'mayor': None, 'traitors.': None, 'fish,': None, 'Young_Homer:': None, 'prefer': None, 'OUT)': None, 'Falcons': None, 'journey': None, 'presents.': None, 'bleacher.': None, 'picture.': None, 'prices': None, 'envy-tations,': None, 'decadent': None, 'sells': None, 'HOT': None, 'lessons': None, 'now!': None, 'generous': None, 'gas': None, 'Greetings,': None, 'like...': None, 'kidnaps': None, 'greatly': None, 'She': None, 'DÃ¼ffenbraus,': None, 'DISGUSTED)': None, 'fears': None, 'Fuhgetaboutit.': None, 'tip': None, 'little.': None, 'care?': None, 'Padre.': None, 'CARNEY': None, '\"Strokkur': None, \"'Pu\": None, 'Love,': None, 'frogs': None, 'birthday!': None, 'day?': None, 'talk': None, 'hundred': None, 'holding': None, 'mouths': None, 'medieval': None, 'weekend': None, 'drank': None, 'party!': None, 'blew': None, 'PETS': None, 'wheeeee...': None, 'Everyone': None, 'occupied\"': None, 'fellas.': None, 'wonderful': None, 'smugglers': None, 'UPN?': None, 'Barney-Shaped_Form:': None, 'eye.': None, 'Me': None, 'Grey\"': None, 'gin.': None, 'sexy.': None, 'clearly': None, 'way,': None, 'pillows': None, '(POINTING': None, 'rock': None, 'Puff!': None, 'Knock': None, 'ENTHUSIASM)': None, 'tsk.': None, 'twins!': None, 'Employees,': None, 'naval': None, 'No!': None, 'Gosh,': None, 'ones': None, 'saw': None, '(LEANS': None, 'BRIDE\")': None, 'extract,': None, 'gas!': None, 'low,': None, 'James': None, 'accurate': None, 'shoulder,': None, 'seat,': None, 'gimmicks,': None, 'earlier': None, 'two...': None, 'tree?': None, \"treatin'\": None, 'tobacky.': None, \"tellin'\": None, 'Maggie?': None, 'Kucinich?': None, '(SUDDEN': None, 'Ow.': None, 'alcohol!': None, 'heals': None, 'See?': None, 'watch': None, 'officer.': None, 'honest': None, 'TELL': None, 'offa': None, 'pernt?': None, 'Sec_Agent_#2:': None, 'glitterati': None, 'duel?': None, 'apartment': None, 'drop': None, '(CHEERY)': None, 'acting': None, 'bedroom.': None, 'week,': None, 'friend...': None, 'man:': None, 'American': None, '(MILD': None, 'pointless.': None, 'practice': None, 'LEANS': None, '\"ask': None, 'anymore': None, '(from': None, 'charm': None, 'matter': None, 'slobbo,': None, 'ignorant.': None, 'Goldarnit,': None, 'bank.': None, 'DETECTIVE_HOMER_SIMPSON:': None, 'MEN': None, 'eliminate': None, 'angel!': None, \"Wouldn't\": None, '(IGNORING': None, 'lift!': None, 'safety': None, 'seemed': None, 'listen': None, 'party,': None, '...despite': None, '(WINKS)': None, 'SAME': None, 'first,': None, 'warranty?': None, 'sitar': None, 'Brown': None, 'femininity.': None, 'malfeasance': None, \"Wasn't\": None, 'Churchill!': None, 'staying': None, 'Chief': None, 'nice,': None, 'Gotta': None, 'rats!': None, '(POINTING)': None, 'decide:': None, 'ALFRED': None, 'Kramer!': None, 'shoulda': None, '(SHOCKED)': None, 'venture': None, 'YAWNS)': None, 'trenchant': None, 'JUKEBOX_RECORD:': None, \"Aristotle's\": None, 'distance': None, 'PLAY/': None, 'tears,': None, 'U2:': None, 'TONS': None, 'GRUB': None, 'blows': None, 'dump.': None, 'I': None, 'years!': None, 'quick.': None, 'RE-AL': None, 'Irish!': None, 'idiot.': None, 'sight-unseen.': None, 'spite': None, 'US': None, 'devastated.\"': None, 'UPSET)': None, 'saw?': None, 'cologne': None, 'judges.': None, 'ruint.': None, 'skeptical,': None, 'Bible.': None, 'LINDSAY': None, 'cruiser.': None, 'house': None, 'pickles': None, 'fragile.': None, 'Gary:': None, \"somethin'.\": None, '(CRIES)': None, 'Skinner.': None, 'Rich': None, 'Simpson': None, 'taking': None, 'Wake': None, '(CONFUSED': None, 'sabermetrics,': None, 'bindle.': None, 'rockers,': None, 'pig': None, 'done,': None, 'beard': None, 'Thomas': None, '(TOUCHED)': None, '(RUEFUL)': None, 'friend:': None, 'nose,': None, 'Kermit.': None, 'paint.': None, '\"steal\"': None, '(THIRD': None, 'Fellas,': None, 'Gregor': None, 'beer': None, 'Brooklyn': None, 'blossoming': None, '(SELLING)': None, 'bunion,': None, 'burg': None, 'BABY...': None, 'WALL)': None, 'hippies?': None, 'picture!': None, 'clock,': None, '(LOW': None, 'bottomless': None, '(SCOFFS)': None, 'Apart\"': None, 'TONES': None, 'funny.': None, 'attention': None, 'Duffed?': None, 'TONGUE)': None, 'Jubilation': None, '\"Walk': None, 'football': None, 'driver?': None, 'jukebox,': None, 'fool': None, \"CALF'S\": None, 'uses': None, 'vulgar': None, 'his': None, 'pressure.': None, 'break,': None, 'department!': None, \"ya',\": None, 'Police.': None, 'Chief_Wiggum:': None, 'eighty-one': None, 'student': None, 'restaurant.': None, '(HORRIFIED': None, 'spent': None, 'ABCs.': None, \"Smokin'_Joe_Frazier:\": None, 'found.': None, 'ENDORSED': None, \"Men's\": None, 'tape?': None, 'photos': None, 'pugilist': None, 'fuss': None, \"wife's\": None, '(SMELLING': None, 'TV_Announcer:': None, 'NURSE': None, 'Kirk_Van_Houten:': None, '(DRAINS': None, 'installed': None, 'boys.': None, 'coat': None, \"drinkin'?\": None, 'Play': None, 'president': None, 'Disco_Stu:': None, 'Exactly.': None, 'my.': None, 'lap': None, 'Test-': None, '\"Pews?\"': None, 'paintings': None, 'one.': None, 'fake': None, 'exclusive:': None, '(SINGING/PUSHING)': None, 'Geez.': None, 'little...': None, 'THROAT)': None, 'Yeah.': None, 'Fritz!': None, 'man!': None, 'moustache.': None, 'sidekick.': None, 'Hoagie': None, 'Rummy': None, '(SCORNFUL)': None, 'Henry': None, 'Up-bup-bup.': None, 'housing.': None, 'Darjeeling': None, 'Government.': None, 'donation': None, 'microwave,': None, '(STATESMANLIKE)': None, 'point': None, 'Disco': None, 'Just,': None, 'Damn': None, 'despite': None, \"children's\": None, 'election!': None, 'Special?': None, 'head-gunk,': None, '(UPSET)': None, '(KIND)': None, 'would': None, 'PURSE': None, \"S'cuse\": None, 'sap': None, '(BELIGERENT)': None, 'five': None, 'sauce': None, 'with': None, 'friend.': None, 'favorite': None, 'Half': None, 'ANGER)': None, 'stats,': None, 'dank.': None, 'right-handed': None, 'real!': None, 'presto:': None, 'serve': None, 'better.': None, 'star?': None, \"can't.\": None, 'tang.': None, 'clone!': None, 'mock-up?!': None, 'sugar.': None, '(BEING': None, 'die-hard': None, \"('KAY-ZUGG')\": None, \"workin'\": None, 'Alright,': None, 'appearance-altering': None, 'Seriously,': None, 'trouble.': None, 'sounds.': None, 'FICA': None, 'Ooh': None, 'Hispanic_Crowd:': None, 'dregs.': None, 'meeting.': None, 'friends': None, 'motto.': None, 'upsetting': None, 'Number': None, \"weren't\": None, 'afterglow': None, 'predictable...': None, 'rump,': None, '(SNIFFLES)': None, 'Bum:': None, 'cloudy!': None, 'guts!': None, 'deal.': None, 'King!': None, 'MOAN)': None, \"sippin'\": None, \"how'd\": None, 'city.': None, 'ads': None, '\"Lisa': None, 'evening.': None, 'swill': None, 'Lachrymose': None, 'GLASSES)': None, \"What'd\": None, 'Fat_Tony:': None, 'employment': None, 'scent.': None, 'accident': None, 'is,': None, 'gold': None, 'Island,': None, \"Tony's\": None, 'effect': None, 'Jar,': None, 'Food': None, 'Sorry': None, 'eco-fraud.': None, 'Kwik-E-Mart,': None, 'home,': None, 'medical': None, '(THINKS': None, 'Barney_Gumble:': None, 'That,': None, 'slow.': None, 'FIIIIILE.': None, 'neat': None, 'Dad.': None, 'closes.': None, \"son's\": None, 'shark?': None, 'most:': None, 'THIGHS...': None, 'Crummy': None, 'need': None, 'NUMBER': None, 'Moe\"!': None, 'GUFF': None, 'start': None, \"DRIVIN'\": None, 'ingredient': None, 'honor.': None, 'hate': None, 'Peace,': None, 'rip-off': None, 'Bowl.': None, 'come?': None, 'FRITZ': None, 'face': None, 'four-drink': None, 'Abe': None, 'scam': None, 'poet.': None, '(MOTORCYCLE': None, 'Heh,': None, 'nine': None, 'utensils...': None, 'market': None, 'Diet': None, 'Seymour_Skinner:': None, \"don't!\": None, 'otherwise': None, 'cars': None, 'SOUND': None, 'Nigerian': None, 'cheated': None, 'Bowl': None, 'phone?': None, 'things?': None, 'everybody!': None, 'sitcom': None, 'Cough': None, \"coffee'll\": None, 'brine.': None, 'jets.': None, \"let's\": None, 'TUNE': None, \"crawlin'\": None, \"swishifyin'\": None, 'Appendectomy,': None, 'mechanical': None, 'vodka.': None, 'Load.': None, 'Ha.': None, 'mix?': None, 'LAGER': None, 'losing.': None, 'minimum.': None, 'Say': None, 'flew': None, 'four-star': None, 'names.': None, 'yourself': None, 'wrote': None, 'wife': None, 'Right.': None, 'smile.': None, 'slap': None, 'program...': None, 'NOISE,': None, 'PANTS)': None, 'Starla.': None, 'information,': None, 'ne': None, 'SING': None, 'glove': None, 'Gentleman:': None, '(SINGS)': None, 'THE': None, 'GUY)': None, 'Are': None, 'ADELEINE.': None, 'BIT': None, 'Fancy': None, 'bad.': None, 'LEAR\")': None, 'Caholic.': None, \"don't.\": None, 'Yes.': None, 'jerk.': None, 'supplying': None, \"Tonight's\": None, 'Um,': None, 'Waters.': None, 'game!': None, 'starting': None, 'Meanwhile,': None, 'creepy': None, 'cobbling': None, 'Carl': None, 'friend?': None, '(DASHES': None, 'far.': None, 'Catholic': None, 'be,': None, 'Frankie': None, 'SUDDENLY': None, 'felt': None, 'seas': None, 'a...': None, 'languages.': None, 'Talking': None, 'Palmerston.': None, 'examples': None, 'rule': None, 'fun': None, '...and': None, 'charm.': None, 'LUCK': None, 'Allegiance.': None, 'videotaped': None, 'go!': None, 'argue': None, 'barter': None, 'boyfriend.': None, 'losers.': None, 'smuggled': None, 'Ahh,': None, 'Ambrosia,\"': None, 'MOCK...': None, 'blurbs': None, 'yes.': None, 'booger.\"': None, 'suspect...': None, 'view.': None, '(INSIDE': None, 'DOUGH...': None, 'tokens.': None, 'There.': None, 'pond?': None, 'schnapps.': None, 'address.': None, 'fridge,': None, 'Madison': None, 'youse': None, 'Good': None, 'live': None, 'Clown!': None, '...So': None, 'bubble': None, '(SARCASTIC)': None, 'things': None, 'Home': None, 'Sure,': None, 'baseball?': None, 'unfresh': None, 'like,': None, 'SOB)': None, 'Question': None, 'Bridges.\"': None, '(UNEASY': None, 'UNCOMFORTABLE)': None, 'rummy\"': None, 'BREATH)': None, 'Nigeria?': None, 'Pity!': None, 'changing': None, 'side,': None, 'HAWS)': None, 'extra,': None, 'face?': None, 'Sector': None, 'FONDLY)': None, 'doing.': None, 'to...': None, 'international': None, 'Edna!': None, 'outs.': None, 'complaining?': None, 'Court': None, 'onto': None, '\"Duff': None, 'Reserve.': None, 'fold.': None, '(AS': None, '(PULLING': None, 'passenger': None, 'stay': None, 'enhance': None, 'Dae': None, 'swear': None, 'save': None, 'pancakes.': None, 'sold': None, 'store': None, 'written': None, 'Pfft!': None, 'try': None, 'sister.': None, '(SHIFTY': None, 'Outside.': None, 'Nobody': None, '(ADMITTING)': None, 'cherry.': None, 'Mrs._Powers:': None, 'an': None, 'SERIOUS)': None, 'HOUSE': None, 'THROUGH': None, 'initially,': None, 'LICENSE)': None, 'would!': None, 'FAMILY.': None, 'hiding': None, 'famous': None, 'girlfriend': None, 'lives.': None, 'microbrew?': None, \"Starla's\": None, 'AND': None, 'I--I': None, 'end': None, 'Patty,': None, 'pity.': None, 'fixed': None, 'Edison': None, 'lemme': None, 'cheese': None, \"wonderin'\": None, 'X!': None, 'day': None, 'entrance!': None, 'chest': None, 'worth': None, 'looks,': None, 'DESPITE': None, 'sick': None, 'offshoot': None, 'animals,': None, 'hop': None, 'inclination...': None, 'loves': None, 'quarter!!!': None, 'SIDE': None, 'VOICE_ON_TRANSMITTER:': None, 'Fire': None, '7-Year-Old_Brockman:': None, 'tire': None, '(SLYLY)': None, 'Sue': None, \"nothin',\": None, 'Capuchin': None, 'Letter?': None, '(CATTY)': None, 'ONE,': None, 'Just': None, 'Anderson...': None, 'sweater': None, 'tomorrow': None, '(LAUGHING)': None, 'Teenage_Barney:': None, 'coming': None, 'Huhza?': None, 'feel': None, 'McClure,': None, 'twin': None, 'Heh?': None, 'TAKES': None, 'perfect,': None, 'remember': None, 'Champ.': None, \"Time's\": None, 'where?': None, 'bull.': None, 'Weak!': None, 'want': None, 'voice!': None, 'half': None, 'Ned,': None, 'eat': None, 'horribilis.': None, '(SCARED)': None, 'Yup,': None, 'class,': None, '(MOAN)': None, 'closed,': None, 'THREE...\"': None, 'obsessive-compulsive!': None, \"somethin's\": None, 'home!': None, 'hangover.': None, 'Principal': None, 'wants': None, 'Kinderhook!\"': None, 'Coach:': None, 'Here,': None, 'Carolina': None, 'SHOCK)': None, 'seem': None, 'reasons': None, 'there!': None, 'ENGLISH': None, 'ourselves,': None, 'loaded': None, 'praise': None, 'capitalists.': None, 'hour,': None, 'Marge_Simpson:': None, 'lost?': None, 'Now': None, 'conference.': None, 'buttons.': None, 'Health': None, 'book...': None, 'Compliments': None, 'COCKING': None, 'same.': None, '(CASH': None, 'Walking': None, \"getting'\": None, 'rummy!': None, 'shoe': None, 'ones.': None, 'nuts.': None, 'Cuz': None, 'encore?': None, 'Pantsless!': None, 'Cletus_Spuckler:': None, 'fast...\"': None, 'stolen': None, 'stripe': None, '6': None, 'else,': None, 'saving': None, 'Voyager': None, 'rap.': None, 'hired.': None, 'Listen,': None, 'advice': None, 'spews': None, 'Friday': None, 'kinds': None, 'dressed': None, 'bold': None, 'His': None, 'IN,': None, 'Such': None, 'act': None, 'feminist': None, '(EDGY)': None, 'rat.': None, '(CONCERNED)': None, 'hoo!': None, 'illegally': None, 'likes...': None, \"Havin'\": None, \"Patrick's\": None, \"'Morning,\": None, 'Tomato,': None, 'Tofu': None, 'wish.': None, 'airport,': None, 'Aww.': None, 'LOVEJOY)': None, 'Huh...': None, 'GLASS).': None, 'Peabody,': None, 'loss': None, 'bones': None, 'U.S.A.!': None, 'German,': None, 'But': None, 'wieners': None, 'off': None, 'movies.': None, 'suit.': None, 'legs.': None, 'again,': None, 'whaddaya': None, 'depressed.': None, 'using.': None, \"mother's\": None, 'Ding-a-ding-ding-a-ding-ding!': None, 'FROM': None, 'vampires,': None, 'you?': None, 'AS': None, 'somehow.': None, 'outside,': None, 'jewelry!': None, 'washer!': None, 'fence': None, 'STEAMING': None, 'respect.': None, 'KL5-4796': None, 'sport.': None, \"comin',\": None, 'putty': None, 'multi-national': None, 'Capitol': None, 'informant.': None, '(FLATLY)': None, 'Crapmore': None, 'NAME': None, 'fridge': None, 'nÃ£o': None, 'reliable': None, '(DISMISSIVE': None, 'Tony...': None, 'Bob,': None, 'ha,': None, 'Lenny,': None, 'charges?': None, 'grade': None, 'Hillary': None, 'Center.\"': None, 'seconds.': None, '(READING)': None, 'Mediterranean': None, 'fight.': None, 'made': None, 'night': None, 'kissed': None, 'Derek': None, 'Chilly': None, 'placing': None, 'arm,': None, 'Steinbrenner.': None, 'stalwart': None, 'Businessman_#2:': None, 'insecure!': None, 'treasure.': None, 'repay': None, 'thirty-nine.': None, 'operation.': None, 'donate': None, 'hand,': None, '(KNOWING': None, '(GIVES': None, '(Scared)': None, 'neighbors.': None, 'Really?': None, 'hemoglobin': None, 'wearing': None, 'WAY': None, 'doing': None, '(CHUCKLES': None, 'self-esteem?': None, '(TERRIFIED)': None, 'Car:': None, 'big?': None, 'door...': None, 'Vincent': None, \"raggin'\": None, \"(CAN'T-BELIEVE-HOW-BALD-HE-IS\": None, '\"I\\'m-so-stupid!': None, 'Mmmm...': None, 'embarrassing.': None, 'Dressing?': None, 'TAPE,': None, 'GOODBYE': None, 'Der': None, 'memories.': None, 'regret': None, 'arimasen': None, 'Handsome': None, 'bucks,': None, 'Oww.': None, 'five?': None, 'Szyslak': None, 'Hotline.': None, 'cuckoo': None, '(INTENSE': None, 'lips': None, 'fresco!': None, 'shall': None, \"wearin'?\": None, 'broad?': None, 'part.': None, 'YEAH': None, '\"Flaming...': None, 'prohibit': None, 'International': None, 'stink!': None, 'CUPID': None, 'month': None, 'magnanimous': None, 'Yes,': None, 'hurt': None, 'would...': None, 'heard.': None, 'Captain:': None, 'Municipal': None, 'gotta': None, 'level': None, 'priest': None, '(SOUR)': None, 'Yee-ha!': None, 'scene.': None, '(BARNEY-TYPE': None, '(SHOCKED': None, 'torn': None, 'married': None, 'Easter': None, 'HORROR,': None, 'Rome!': None, 'LIB)': None, 'DOWN': None, 'Heather': None, 'Nelson_Muntz:': None, 'childless': None, 'leaving,': None, '(SPINNING)': None, 'Charlie:': None, 'touchdown': None, 'saying,': None, 'stood': None, 'obvious': None, '1895.': None, 'sweetest': None, 'HER': None, 'Senator': None, 'Lotta': None, 'chug-monkeys.': None, 'event': None, \"handwriting's\": None, '(CLAPPING)': None, 'Edner,': None, 'boat.': None, '(GETTING': None, '(GRABS': None, 'screws': None, 'AWAY)': None, 'sounded': None, 'The_Edge:': None, 'stuck': None, 'alone;': None, 'killer?': None, 'thinking': None, 'Simpson\"': None, 'cable': None, 'tap,': None, '(SUNK)': None, 'already': None, 'funny,': None, 'Or,': None, 'firm': None, 'Gee': None, 'throats': None, 'ball.': None, 'Chow.': None, 'signed': None, 'AFTER': None, 'Ehhh...': None, 'label': None, 'CALLING': None, 'weather?': None, 'White_Rabbit:': None, 'conversation,': None, 'fixed.': None, 'certificate': None, 'correct': None, 'wings': None, 'World?': None, 'Brunswick.': None, 'balls...': None, 'loud.': None, \"Renee's\": None, 'story.': None, 'sent?': None, 'Drinking': None, 'Forbidden': None, \"fendin'\": None, 'prank,': None, 'WIDE.': None, 'house.': None, 'been?': None, 'bees,': None, 'whisper': None, 'surgery?': None, 'tooth': None, 'Where': None, '(BIG': None, 'Rascals?': None, 'SKINNER)': None, 'fink!': None, 'sell?': None, 'glitz': None, 'bet': None, 'Waylon.': None, 'DENTIST)': None, 'Billingsley,': None, 'upon': None, 'movie': None, 'tax!': None, 'toe.': None, 'unsourced,': None, 'pizzicato.': None, 'STEAK': None, 'Right': None, 'Twins': None, 'turkey': None, 'late!': None, 'payments.': None, 'lotta': None, 'designated': None, 'first?': None, 'seems': None, 'looks.': None, 'jerky': None, 'Divine.': None, 'adult': None, 'aah,': None, 'help...': None, 'TRY': None, 'place!': None, 'minus': None, 'gangrene.': None, 'backbone': None, 'filthy.': None, 'Al': None, 'ebullient': None, 'son--': None, 'pulls': None, 'There': None, 'THOUGHT': None, 'alcohol.': None, 'keys': None, 'huh...': None, 'Please': None, 'keep': None, '(COMING': None, 'on.': None, '(EXASPERATED': None, 'commit': None, 'Nevada?!': None, 'won!': None, 'ails': None, 'LOVE...': None, 'model': None, 'breakfast,': None, 'on!': None, 'dead.': None, \"WON'T\": None, 'Seymour!': None, 'hurting': None, 'exit.': None, 'simplest': None, 'The': None, 'kick-ass': None, 'admiration...': None, 'place?': None, 'perfume,': None, 'anybody.': None, 'Beaumont...': None, 'GUY': None, 'TO)': None, 'cutest.': None, 'Fellow': None, 'RECORDER': None, 'beer:': None, \"Duff's\": None, 'Boston.': None, \"readin'\": None, 'either.': None, 'Bar_Rag:': None, 'alive!': None, 'butt,': None, 'phony': None, 'sadder': None, 'Stuff\"': None, 'Pretentious_Rat_Lover:': None, 'Chorus:': None, '\"Handle': None, 'Testing,': None, 'bar:': None, 'ACCENT)': None, 'sad,': None, 'Mexican_Duffman:': None, 'defeated': None, 'effervescence.': None, 'purveyor': None, 'busy,': None, 'JAMAICAN': None, 'dreary': None, 'arrest': None, 'polenta,': None, 'Temple': None, 'COMES': None, 'tavern...': None, 'fun,': None, 'senators.': None, 'thing,': None, 'Than': None, 'man?': None, '\"Un-sults\"': None, 'Grieving': None, 'MOUTH': None, 'list': None, '(SNIFFLES,': None, 'Health_Inspector:': None, \"idea's\": None, 'inspired': None, 'dumbbell.': None, 'expose': None, 'unsafe': None, 'CARL)': None, 'named': None, 'glass.': None, 'France...': None, \"Now's\": None, 'woo': None, 'Fonzie.': None, 'raccoons': None, 'tonight,': None, 'sweetheart.': None, 'HOPE': None, 'invited': None, 'valuable': None, 'SQUASHING,': None, 'ice.': None, 'Chuck.': None, 'rag!': None, 'flying': None, 'Refund?': None, \"aren'tcha?\": None, 'massage': None, 'buds.': None, 'at': None, 'Sponge:': None, 'friends!': None, 'eight,': None, 'Yo,': None, 'quite.': None, 'alarm.': None, 'warned.': None, 'connection.': None, 'worked': None, 'me...': None, 'TAIL': None, '\"source\"!': None, 'Stay': None, 'Andalay!': None, 'image': None, 'SAYS)': None, 'hare-brained': None, 'Grampa_Simpson:': None, 'ah...': None, 'soon...': None, 'cries?': None, 'compels': None, 'wheels': None, 'WE': None, 'stinks': None, 'Easy': None, 'elephants.': None, 'absorbent': None, 'Krabappel': None, '(SOTTO': None, 'FOR': None, 'MURMUR)': None, 'Hmm?': None, 'produce': None, 'Simpson,': None, 'priority,': None, 'togetherness': None, 'hidden': None, 'appalled.': None, 'Padres': None, 'Aid': None, 'planned': None, 'frozen': None, 'perfect!': None, 'holiday': None, 'ref': None, 'Fudd?': None, 'fiction.': None, 'Duff?': None, 'KWIK-E-MART': None, 'All:': None, 'nervous.': None, 'cards.': None, 'Wrong': None, '(DRINKS': None, 'COURTEOUS': None, 'elephants': None, 'out)': None, 'Tavern...': None, 'fountain.': None, 'ecru?': None, 'Gumbel\".': None, 'Thanks.': None, 'extreme?': None, 'CROWD)': None, 'CLIPS)': None, 'cruel': None, 'PerÃ³n.': None, 'CHUCKLE': None, 'dump,': None, 'string': None, 'miracle': None, 'said': None, 'ye,': None, 'Colorado': None, 'California': None, 'MA--': None, \"I-I'm\": None, 'grow.': None, 'reserved': None, 'well,': None, 'LISA)': None, 'beers,': None, 'smile': None, 'behavior': None, 'rhyme.': None, '(FRUSTRATED)': None, '\"Drink': None, 'JÃ¤germeister': None, \"Today's\": None, 'con?': None, 'cigars': None, 'people!': None, 'BELL)': None, 'goodbye': None, 'LOVE-MATIC': None, '\"good': None, 'switched': None, '\"Now': None, 'bleak': None, \"guy's\": None, 'Huh.': None, 'system?': None, 'kids.': None, 'CANS': None, 'enjoys.': None, 'NOISE).': None, 'LOYAL': None, 'fulla': None, 'bedridden': None, 'SINGING)': None, 'Agent': None, 'looser.': None, 'Gr-aargh!': None, '(SNIFFS,': None, 'Crayola': None, 'FOREVER,': None, 'HARDHAT)': None, 'DO...': None, 'STRIPS)': None, '\"Nuclear': None, 'tomorrow,': None, 'buddy.': None, 'handed': None, 'country.': None, 'Act': None, 'So': None, 'rutabaga': None, '10:15': None, 'Those': None, 'droning,': None, 'woulda': None, 'years': None, 'eyes!': None, 'clear.': None, 'stupid!': None, \"listenin'\": None, 'wave': None, 'W.R.O.L.': None, 'liable,': None, 'car,': None, \"YEAR'S\": None, 'SOUND,': None, 'BELIEVE': None, 'Forget-Me-Shot.': None, 'alphabet': None, \"C'mon.\": None, 'now.': None, 'beer,': None, 'my': None, 'grin': None, 'NOT': None, '(SNORT)': None, 'TOWN!': None, 'spamming': None, 'once': None, 'SPORTS.': None, 'Community': None, 'But,': None, 'Ten': None, 'Moe\"?': None, '(SAGELY)': None, 'stumble': None, 'stories,': None, 'season': None, 'PATHETIC': None, 'jerk-ass': None, 'tanking': None, 'banquet': None, 'eyesore': None, 'wells': None, 'bars,': None, 'pull!': None, 'SIGN)': None, 'SANG': None, 'champ': None, 'sleep': None, 'BOTH': None, 'starts': None, 'Bobo?': None, \"Larry's\": None, 'fat.': None, 'sweet.': None, 'turned': None, 'mail': None, 'Kool': None, 'eh': None, 'Youuu': None, 'As': None, 'rain': None, \"ain't\": None, 'internet': None, 'MACHINE.': None, '(SPOOKY)': None, 'DÃ¼ff.': None, 'aerospace,': None, 'ninety-seven!': None, '(TERRIFIED': None, 'it,': None, 'high-definition': None, 'BEARS': None, \"wouldn't-a\": None, 'rice': None, 'Tom': None, 'TOWARD': None, 'another': None, 'Eve.': None, 'REACTIONS)': None, 'swamp.': None, 'TOP': None, 'baby,': None, 'Gentlemen!': None, 'crap.': None, 'dirt...': None, 'hateful': None, '(ABOVE': None, 'look': None, 'EVERYBODY': None, 'gang': None, 'Barflies:': None, 'delightfully': None, 'guns.': None, 'Bronco': None, 'virtual': None, 'shard': None, '(RELAXED)': None, 'kids!': None, 'Geez,': None, 'STARTS': None, 'occurs': None, 'cash,': None, 'Pit': None, 'up.\"': None, 'KISSES': None, 'McCall.': None, 'Young': None, 'Mabel!': None, 'Center?': None, 'difficult': None, 'complete': None, 'wear': None, 'perfect.': None, 'People.': None, 'Broadway!': None, 'billiard': None, 'sports': None, 'tip.': None, 'loan': None, 'States': None, 'suit': None, '(LOW)': None, 'finger': None, 'Mudflap,': None, 'network': None, 'Lousy,': None, 'backwards?': None, 'KNOW': None, 'Evergreen': None, 'answered.': None, 'yard.': None, 'brilliant': None, 'Klown': None, 'Laramie': None, 'busted.': None, \"I'm-so-stupid!\": None, 'challenge.': None, \"BROCKMAN'S\": None, 'is': None, 'inherent': None, 'uncle': None, \"grandmother's\": None, 'PUKE...': None, 'effervescent': None, 'Tuborg?': None, '(TENTATIVE)': None, 'ASS)': None, 'Magic': None, 'trunk.': None, 'Tomatoes...a': None, 'Travel': None, \"SAT's\": None, 'down': None, 'Manjula_Nahasapeemapetilon:': None, 'rats': None, 'reed!': None, 'violations.': None, 'choke': None, 'seems.': None, 'NATURED)': None, 'miserable': None, 'a': None, \"wouldn't\": None, 'OTHER_BOOK_CLUB_MEMBER:': None, 'SMILE:': None, '(SECOND': None, 'SCRUBBING': None, 'Kay,': None, 'coms': None, 'joint': None, 'unsanitary.': None, 'Carl:': None, 'following': None, 'ETC.': None, 'pink': None, 'in,': None, \"This'll\": None, 'STILL': None, 'King': None, 'told': None, '(DRUNK)': None, 'Pop.': None, 'Lenny:': None, 'world.': None, 'Burt': None, 'OFF': None, 'bits': None, 'advice.': None, 'failed.': None, 'goal?': None, 'OF...': None, 'draw': None, 'Hall': None, 'compliment.': None, \"family's\": None, 'Noosey': None, 'twenty-two': None, 'labels': None, '(CONFIDENT)': None, 'dead,': None, 'When-I-get-a-hold-of-you...': None, 'market...': None, 'awake': None, 'Talk': None, 'minutes!': None, 'Next': None, 'broom': None, 'RAILROAD': None, 'Chocolate,': None, 'vulnerable': None, 'eye...': None, 'I...': None, 'hops': None, '(SERIOUS,': None, \"'em!\": None, 'Tv_Father:': None, 'was!': None, 'lie.': None, '(NAIVELY)': None, 'Fuzzlepitch': None, 'anniversary!': None, 'to': None, 'came': None, '(TOASTING)': None, \"that'll\": None, 'disappear': None, 'plan...': None, 'BACK,': None, 'jail': None, 'KEYS)': None, 'yelling': None, 'founded': None, 'peanut': None, 'Lousy.': None, 'balls': None, 'has': None, 'polite!': None, 'Mellow': None, 'We': None, 'Return\".': None, 'corpses.': None, 'family.': None, 'What...': None, 'powerful': None, '(DERISIVE': None, 'Under': None, 'friends?': None, 'junior': None, 'OH,': None, 'ARM-PITTISH': None, 'gentlemen.': None, 'winning': None, 'wedding': None, 'Eminence.': None, '(PLEASED)': None, 'selective.': None, 'up!!!': None, 'created': None, 'tail': None, \"Nothin',\": None, 'sometime...': None, 'pay': None, 'Flanders:': None, 'truck.': None, \"you're\": None, 'goo.': None, 'CARD)': None, 'Swings': None, 'Comic_Book_Guy:': None, 'Calm': None, \"'n'\": None, 'Gibson': None, 'hated': None, 'everything!': None, 'remains': None, '(OMINOUS)': None, 'decent': None, 'swatch': None, 'Adequate.': None, 'Ollie': None, 'dank,': None, 'met.': None, 'gayer.': None, 'corpses?': None, 'MONSTER': None, 'cross-country': None, 'Pigtown': None, 'enter.': None, 'Exchange': None, '(DISAPPOINTED)': None, 'Unless...': None, 'brag': None, 'ironed': None, 'Society_Matron:': None, 'insurance': None, 'morning.': None, 'stir': None, 'decency!': None, 'became': None, \"today's\": None, \"WHO'LL\": None, 'homesick': None, 'Boxer:': None, 'Irishman.': None, 'ingredient!': None, 'ING...': None, '(KNOWING)': None, 'Surprise': None, 'someone': None, 'super': None, 'DUFF': None, 'gig.': None, 'cowardly': None, 'shoulder!': None, 'joining': None, 'pregnancy': None, 'kept': None, \"Thinkin'\": None, 'clench': None, 'Joe!': None, 'bartender,': None, 'President?': None, 'wins,': None, 'idiots.': None, 'UNISON)': None, 'rough': None, 'Lise:': None, 'oh-so-sophisticated.': None, 'where,': None, \"pope's\": None, 'teams.': None, 'movement': None, \"they'd\": None, 'GASPS)': None, 'fellas,': None, 'missed': None, 'my...': None, 'forty-seven': None, 'operation': None, 'SELF)': None, 'towed!': None, 'coincidentally': None, 'United': None, 'half-back': None, 'onions...': None, 'wins': None, 'STAGY)': None, 'These': None, 'quiet.': None, 'humiliation': None, 'forward': None, '(GRUMPY)': None, 'ACCELERATING': None, 'hell': None, 'wrong,': None, 'LIVING': None, 'through.': None, 'Oooo!': None, 'sizes': None, 'but--': None, 'Saturday.': None, 'UP)': None, 'splattered': None, 'fool,': None, 'What?...': None, 'are.': None, \"y'know\": None, 'mumble': None, 'ONLY': None, 'mean?': None, 'nuclear': None, 'calls.': None, 'who': None, 'filth.': None, 'sometime': None, 'Nice': None, 'crumble.': None, 'notch': None, 'landlord': None, 'serum': None, '(INTO': None, 'hold': None, 'crinkly.': None, 'rumor': None, 'cracked': None, 'FRIENDLY)': None, 'sick,': None, 'wishing': None, 'moved': None, 'Bob': None, 'spending': None, 'BIG)': None, 'affection': None, 'Nobody!': None, 'Scout': None, '\"alcohol,\"': None, 'kill.': None, 'unbelievable.': None, 'Sistine': None, 'going': None, 'See': None, 'impending': None, 'of...': None, 'Wide': None, 'great?': None, 'drift.': None, 'excited': None, '(HAPPILY': None, 'WHEEL': None, 'drapes': None, 'what!': None, 'cheat': None, 'brandy': None, 'Tv_Daughter:': None, 'Bono.': None, 'stamp': None, 'COUNTRY-FRIED': None, 'Man': None, 'beautiful!': None, '91': None, 'genius,': None, 'Larson!': None, 'donor': None, \"That'd\": None, 'wage': None, 'disgrace': None, 'Mr...': None, 'Scratcher': None, 'law-abiding': None, 'Hey': None, 'Lost': None, 'sanctuary,': None, 'CONSIDERING:)': None, 'Mmmm,': None, 'bachelor': None, 'highest': None, 'hot-rod': None, 'guest': None, 'Awwww.': None, 'nerve': None, 'enough,': None, 'through...': None, 'Yap,': None, 'Boxcar': None, 'wheel': None, 'playoff': None, 'Chapstick,': None, 'BALL)...': None, 'feat': None, 'WHY': None, 'Watt': None, 'lucky': None, 'breaking': None, '\"your.\"': None, 'co-sign': None, 'giant': None, 'delete': None, 'COURTS.': None, 'prizefighters': None, 'NOISES,': None, 'sack': None, '(QUIET': None, 'Quadruple-Sec,': None, 'SADLY)': None, 'scum': None, 'Treasure?!': None, '(LISTENS)': None, 'diving': None, 'customer...': None, 'Jay': None, 'Stalin': None, 'clown': None, \"Spaghetti-O's!\": None, '(FIRST': None, 'person.': None, 'why': None, 'slab': None, 'swear!': None, 'later.': None, 'safer.': None, 'groveling': None, 'gargoyle.': None, 'hear!': None, 'wholeheartedly': None, 'spit': None, 'count': None, 'sad': None, 'sure?': None, 'Deeper,': None, 'happen.': None, 'PAIN)': None, 'princess!': None, 'Care': None, 'Wiener.': None, 'David_Byrne:': None, 'Pepsi?': None, 'Sec_Agent_#1:': None, '\"face': None, 'swine': None, 'Freeze,': None, '(DISTRAUGHT)': None, 'combine': None, \"'Evening,\": None, 'D.': None, 'rope!': None, 'young': None, 'problems': None, '530.': None, '\"Love': None, 'No': None, 'Congratulations.': None, 'foundation': None, 'jackpot-thief': None, 'Plus': None, 'punch,': None, 'inning': None, \"MEN'S\": None, 'TASTES': None, 'control.': None, 'without': None, 'loved': None, 'SIGN': None, 'awareness': None, \"dyin'\": None, 'Club,': None, 'BIG': None, \"he'd\": None, 'happier...': None, 'confidence?': None, 'read.': None, 'Dad?': None, 'years,': None, 'Louie:': None, 'speaking.': None, 'GRUNT)': None, 'Completing': None, 'infestation,': None, '(GRUFF)': None, 'thunder': None, 'law': None, 'necklace.': None, 'You': None, 'names': None, 'Come': None, 'caricature': None, 'Agnes_Skinner:': None, 'Moe-lennium.': None, 'going?': None, 'de': None, 'tsk': None, 'three,': None, 'ago!': None, '(STRETCHES,': None, 'Wussy!': None, 'hooked': None, 'loser': None, 'GUMBEL!': None, 'spellbinding.': None, 'record': None, 'HUGE': None, 'either': None, 'abusive': None, 'shirt': None, 'passion': None, 'problems.': None, 'Brilliant!': None, 'Mexicans.': None, 'with,': None, 'Wiggum,': None, 'Chicks': None, 'flexible.': None, 'bust': None, 'Warm_Female_Voice:': None, '(HANDS': None, 'them,': None, 'Old_Jewish_Man:': None, 'So,': None, 'Wow,': None, '\"work': None, 'right,': None, 'Whale,': None, 'Joey': None, 'oil,': None, 'OVER,': None, 'fit': None, 'LOW...': None, 'Brockman.': None, 'begin': None, 'Human': None, 'up?': None, 'ticket,': None, '\"Hunger': None, 'ass.': None, 'corner,': None, 'junkyard': None, 'Paris...': None, 'Code': None, 'started': None, \"SHE'S\": None, 'motorcycle...': None, 'painted': None, 'Park.': None, 'song.': None, 'Precious': None, 'over.': None, 'TV-STATION_ANNOUNCER:': None, 'Botanical': None, 'BEEN': None, 'Suicide.': None, 'Want': None, 'poem': None, 'use.': None, 'South': None, 'PRIZE)': None, 'CANYONERO': None, 'joint,': None, 'door': None, 'done': None, 'modern,': None, 'Jer.': None, 'thumb': None, 'America': None, 'food': None, \"There's\": None, 'two-drink': None, 'delts,': None, 'counter.': None, 'chase': None, 'genius': None, '(SINGING,': None, 'drink': None, 'flowers': None, 'hello?': None, 'term?': None, 'Monroe.': None, 'Big': None, 'end.': None, \"startin'\": None, 'newly-published': None, 'today.': None, 'kidding': None, '\"milk': None, 'Moe\"': None, '(HEMS': None, 'Fury,': None, 'inches': None, 'FELD': None, 'Chastity': None, '(BACK': None, '(LOUDER': None, 'line': None, '(OBLIVIOUS)': None, 'baby!': None, 'Artie!': None, 'children,': None, 'MATTER': None, 'SOUNDS)': None, 'har,': None, 'Center\".': None, 'glasses.': None, 'Son,': None, 'girl!': None, '\"Op': None, 'liver,': None, \"Valentine's\": None, 'faint': None, 'Professor_Jonathan_Frink:': None, 'name!': None, \"Marge's\": None, 'permanent': None, 'graveyard': None, 'Bowl?': None, '(ANNOYED': None, 'Hibachi': None, 'hoax!': None, 'record,': None, 'cents': None, 'Stein-stengel-(FRINK': None, '(CLOSES': None, 'play!': None, 'booze,': None, 'crooks': None, 'light,\"': None, 'military...': None, 'Gutenberg': None, 'forever.': None, 'embarrassing!': None, 'Je': None, 'seven': None, 'crime,': None, 'struggling': None, 'speech.': None, 'continued.': None, \"Gentleman's\": None, 'was': None, 'tragedy': None, 'Bush.': None, 'butt!': None, 'life-threatening': None, 'CHUCKLE,': None, 'hockey-fight': None, 'heliotrope': None, 'sure': None, 'Because--': None, 'Yello?': None, 'boys!': None, 'presently': None, 'stalking': None, 'CAT)': None, 'MAKES': None, 'wrapped': None, 'leg': None, 'other': None, 'dollars?': None, 'Bush': None, 'hearing': None, 'boyfriend': None, 'as?': None, 'anniversary': None, 'Thirty': None, 'funds': None, 'England': None, 'Yep,': None, 'make:': None, 'these': None, 'author!': None, \"Pope's\": None, 'set': None, 'STERN)': None, 'please': None, 'SMELLS': None, 'ASTONISHMENT)': None, \"Y'see?\": None, 'seat': None, 'War\"...': None, 'Coming': None, 'pilsner-pusher.': None, 'SEND': None, 'Carnival.': None, 'hosting': None, 'butts': None, 'drinks!': None, '(CONTENTED': None, 'K.': None, 'refreshment.': None, 'crew': None, 'one': None, 'now\"': None, '(FEELING': None, 'Ollie.': None, 'inside.': None, 'P.C.': None, 'Lucius': None, 'oils': None, '(SITTING': None, 'sound': None, 'song': None, 'Crisis.\"': None, 'desperately': None, '(SCRUTINIZING)': None, 'voodoo': None, 'rolled': None, 'TV)': None, 'age!': None, 'Hawaii.': None, 'Bee.': None, 'diets.': None, 'beloved,': None, '(SIGH)': None, 'QUOTES)': None, '(WEIRDED-OUT': None, 'tips?': None, '(WORRIED': None, 'Culkin.': None, 'Thank': None, 'quick!': None, 'Seems': None, 'SEAT': None, 'Foibles!': None, 'Homie,': None, 'Shove': None, 'close!': None, 'rig.': None, 'accept': None, 'reporter': None, 'Ooh!': None, \"doin'\": None, '\"Cupid\\'s': None, 'circus.': None, 'blank': None, 'PIPES': None, 'Remember': None, 'PICNIC!': None, 'myself...': None, 'WISH': None, 'sticking-place': None, 'RAFTER,': None, 'minute': None, 'Street,': None, \"Y'know\": None, 'hide': None, 'pay!': None, 'Handsome,': None, 'Face': None, 'do.': None, 'crab.': None, 'wrong': None, 'religion': None, 'mouth.': None, 'Cajun': None, 'Too': None, 'put': None, 'Savagely': None, 'love.': None, \"bein'\": None, 'PLUS': None, 'example.': None, 'Wowww.': None, 'fish!': None, 'post-suicide': None, 'machine': None, '(FORGETS': None, 'fledgling': None, '(JUBILANT)': None, 'compete': None, 'Who-o-oa!': None, 'it?\"': None, 'happened!': None, 'understood:': None, 'lungs.': None, 'Lay': None, 'greatest.': None, '(EXULTANT)': None, 'HANDS)': None, 'grand,': None, 'Ze-ro.': None, 'hope': None, 'Ding-a-ding-ding-ding-ding-ding-ding!': None, 'Isotopes': None, 'Texas': None, 'Lucky': None, 'Army!': None, 'PAIN,': None, 'Shut': None, \"HOMER'S\": None, 'after': None, 'partner.': None, 'ahead,': None, 'X-Men': None, 'takes.': None, 'forehead.': None, 'space-time': None, 'Especially': None, 'Huggenkiss!': None, \"we're\": None, 'phase.': None, 'smiling': None, 'BAR)': None, '(SLIGHTLY': None, 'stairs.': None, 'being!': None, 'outlook': None, 'apply': None, 'tiger!': None, 'listen.': None, 'CANYONERO!': None, 'Meyerhof': None, 'strain': None, 'Bottoms': None, 'consciousness.': None, '(SERIOUS)': None, 'rules.': None, 'lily-pond,': None, 'whoa!': None, 'MENACE)': None, 'It': None, '(ANGUISHED': None, 'jam': None, 'washouts,': None, 'Bono:': None, 'Lenny': None, 'Ah--': None, 'ready': None, 'legend.': None, 'bought': None, 'hang--': None, 'just,': None, '(SEDUCTIVE)': None, 'bit!': None, '(SMUG': None, 'crying': None, 'X?': None, 'me.': None, 'demo': None, 'delicately?': None, 'available,': None, 'photographer.': None, 'Gees': None, 'rush.': None, 'skirt,': None, 'remembered': None, '\"I\\'ll': None, 'loaded.': None, 'INNOCENT)': None, 'WORKING': None, 'Amber_Dempsey:': None, 'forgotten.': None, 'rainforest.': None, 'rest': None, 'helllp!': None, 'bartender': None, 'Goodbye': None, 'box.': None, 'And...': None, 'motel': None, 'slip': None, 'dying': None, 'Okay': None, 'intruding,': None, 'handwriting.': None, 'wake': None, 'glum': None, '(THEN': None, 'disappointed': None, 'Fact': None, '(THREATENING)': None, 'reunion': None, 'Kearney_Zzyzwicz:': None, 'Forty': None, 'forced': None, 'Actually,': None, 'beautiful,': None, 'safe,': None, 'cleaner.\"': None, 'fixes': None, 'Although': None, 'smile,': None, '\"Hitler': None, 'hope!': None, 'Fine.': None, 'flophouse.': None, '(BELCHES': None, 'sign': None, 'shows': None, 'clown,': None, 'course,': None, 'spine': None, 'once.': None, 'keys!': None, 'sooner': None, 'Bart...': None, 'With': None, 'arise?': None, 'different': None, \"can't\": None, 'the--': None, 'blind.': None, \"c'mon,\": None, 'misconstrue': None, 'Saint': None, 'slaves': None, '(PULLS': None, \"d'ya\": None, 'vote,': None, 'ripped': None, 'gum!': None, '(SAD,': None, 'less.': None, 'amount': None, 'Hot': None, 'mamma,': None, 'European.': None, 'moment': None, 'DEEPLY)': None, 'Fun': None, 'fleabag.': None, 'blue.': None, \"'cause\": None, 'Screw': None, 'dog.': None, 'homunculus,': None, '(INDIGNANT)': None, 'cobra': None, \"Moe's_Thoughts:\": None, \"CALLIN'...\": None, 'smells,': None, 'nation.': None, 'Janette,': None, 'JUKEBOX)': None, 'card,': None, \"collector's\": None, 'HEARSE...': None, 'suffering': None, 'wire.': None, 'WIDE,': None, 'peanuts': None, 'TASTE': None, 'read:': None, 'vomit': None, 'Johnny': None, 'look!': None, 'James...': None, 'nineteen,': None, 'darkness.': None, 'brace': None, 'buddy,': None, '\"Pontiff': None, 'cappuccino': None, 'CAN--': None, '(VICTORIOUS': None, 'Sexual!': None, \"Couldn't\": None, 'anything?': None, 'hero.': None, 'quiet': None, 'ring.': None, 'ha': None, 'closet,': None, 'Troy': None, 'Bread!': None, 'windshield.': None, 'REALLY': None, 'Stevie.': None, 'Was': None, 'text.': None, 'H.': None, 'stupid.': None, 'non-American': None, 'here...': None, 'SO-NG!': None, 'alien.': None, 'handshake.': None, 'Soul': None, 'excavating': None, 'dreamed.': None, 'I.': None, 'City.': None, \"Nothin'\": None, 'lookalike.': None, 'free?': None, '(WINCES': None, 'Carlotta:': None, 'Mmmm': None, 'water.': None, 'Glad': None, 'ashtray.': None, 'preparation': None, 'express,': None, 'pageant': None, 'COME': None, 'BRITISH': None, 'WHOLE': None, \"Showin'\": None, 'Gumbel.': None, 'ACCENT,': None, 'ashamed': None, 'real.': None, 'pull': None, '(SHOOTS': None, 'ingredient...': None, 'reading': None, '(PLAYFUL)': None, 'scientists.': None, 'CHRISTOPHER': None, 'beverage,': None, '(TOUGH': None, 'COMIC': None, \"sayin'\": None, 'teach': None, 'cleaner': None, 'storms': None, 'eighty-three.': None, 'Dumptruck,': None, 'subscriptions': None, 'womb.': None, 'hangout': None, 'anyhow?': None, 'healthier': None, 'decency.': None, 'Move': None, 'lie': None, 'Playing': None, 'person?': None, 'evening': None, 'Fat_In_The_Hat:': None, 'shape': None, 'champignons': None, 'warn': None, 'girl-Bart,': None, 'bottle': None, 'C.P.R.': None, 'saved': None, 'bathroom': None, 'liquor': None, 'coined': None, \"it's...\": None, 'NFL_NARRATOR:': None, 'ballclub': None, 'greatest': None, 'Latin.': None, 'drunk': None, 'worried.': None, 'boyhood.': None, 'Kent_Brockman:': None, \"plank's\": None, 'brave': None, 'peanuts.': None, 'CUP)': None, 'short.': None, 'sure,': None, 'alternative': None, 'Witty.': None, 'doooown.': None, 'got': None, 'part-time': None, 'afternoon': None, 'LOVELY': None, '6?': None, 'cockroaches!': None, '(HEAVING': None, 'Wait!': None, 'nicer': None, 'edge.': None, \"it's\": None, 'salt.': None, \"somethin'?\": None, 'hospital.': None, 'rings': None, 'yap,': None, 'passports': None, 'Moe\".': None, 'Marvin': None, 'tongue.': None, '(PROUDLY)': None, 'ideas?': None, 'Quimby?!': None, 'Apu.': None, \"game's\": None, \"Makin'\": None, 'stocking?': None, 'group.': None, 'jockey.': None, 'anything.': None, 'MOE,': None, 'Fair': None, \"'Ere,\": None, 'Maggie...': None, 'Chauffeur:': None, 'list!': None, 'register.': None, 'elaborate!': None, 'Killjoy!': None, 'Investor': None, 'occasional': None, 'updated,': None, 'carve': None, 'live!': None, 'Sangre': None, 'insured...': None, 'Princess,': None, 'Grammys.': None, 'time!': None, 'Mom': None, \"(HOMER'S\": None, 'Justice': None, '(ANGRY': None, 'SEE': None, 'trip?': None, 'Vance': None, 'HELLO,': None, 'mindless': None, 'flag': None, 'samples': None, 'happiness': None, 'tuna': None, 'buyer': None, '(EXCITED,': None, 'publishers': None, 'Tang': None, 'Stupid,': None, 'alive.': None, 'BOOK_CLUB_MEMBER:': None, 'NOISE)': None, 'switch': None, 'turn.': None, 'Chinese,': None, 'fastest': None, 'Strap?': None, 'contemplated': None, 'somewhere.': None, 'square': None, 'measurements': None, \"stinkin'\": None, 'BROCKMAN)': None, 'cure': None, 'offer.': None, 'Manfred': None, 'Drunks': None, 'MUCH)': None, 'Pinchpenny.': None, \"they'll\": None, '(HITS': None, 'BARFLIES)': None, 'Aerosmith?': None, '(ABSENTMINDEDLY': None, 'kills': None, 'TRUCK': None, 'burn': None, 'dinner!': None, '(WORRIED)': None, 'Righ--': None, 'GO,': None, 'heartless': None, 'will': None, 'you--': None, 'type': None, 'Edison.': None, 'horrible': None, 'NOBEL': None, 'attack!': None, 'butt': None, 'shill': None, 'else': None, 'weekly': None, '(TRYING': None, \"d'\": None, 'get!': None, 'picked': None, 'Two!': None, 'Crowd:': None, 'FRIENDLY': None, 'fridge.': None, 'two': None, \"doctor's\": None, 'poured.': None, 'Chief!': None, 'symphonies,': None, '(SOBS)': None, 'suicide.': None, 'new': None, 'Uh,': None, 'what,': None, 'conversion': None, 'Wolveriskey!': None, 'whim.': None, 'am!': None, 'Twenty': None, 'Emporium\".': None, 'Mr._Burns_Heads:': None, 'fast-food': None, 'time': None, 'pip,': None, 'relationship': None, '(INDIFFERENT': None, 'teeth': None, 'non-losers?!': None, '\"Eightball\",': None, 'wars': None, '\"radical': None, 'possessions,': None, 'Neil_Gaiman:': None, 'har.': None, 'Kent': None, '(BRAGGING)': None, \"dog's\": None, 'money!': None, 'Muhammad': None, 'shot.\"': None, 'Joe': None, \"goin',\": None, 'Woo!': None, 'Waylon,': None, 'throwing': None, 'PALM)': None, 'salad!': None, 'other.': None, 'bear': None, '(AD': None, \"poisonin'.\": None, 'supply': None, 'sorry,': None, 'mystery': None, 'AGGRAVATED': None, '(CALLING': None, 'precious...Gheet!': None, '(AGGRAVATED)': None, 'BRASSIEST': None, 'promotion.': None, 'Bottom': None, \"industry's\": None, 'arts.': None, 'beer?': None, 'nobody': None, 'Cream': None, 'musical': None, 'duty': None, 'BLOOD)': None, 'bow': None, 'launch': None, 'drive?': None, '(TSKING': None, 'Bart': None, 'Etc.': None, 'soir.': None, 'grains?': None, 'masks': None, '(\"RULE': None, 'table...': None, 'kissing': None, 'life-sized.': None, 'of': None, 'Okay?': None, 'outside!': None, 'Snackie': None, \"we'd\": None, 'Tatum,': None, 'awesome.': None, 'crime': None, 'nonsense.': None, 'deer.': None, 'AMAZED)': None, 'roach': None, 'idealistic,': None, 'magic': None, \"don'tcha\": None, 'ME.': None, 'W.R.O.L.?': None, 'ripping': None, 'picky': None, '(REALLY': None, 'guess.': None, 'payday': None, 'brought': None, 'Five': None, 'LEWIS)': None, 'sissy?': None, 'kick,': None, \"daughter's\": None, 'DOWN...': None, 'that': None, 'Hunting,': None, 'job': None, 'mirthless': None, 'Aw': None, 'oh,': None, '(VARIOUS)': None, '(THINKING)': None, 'Flower,': None, 'puff': None, 'proposing,': None, '(TOO': None, 'pointless,': None, 'Jimmy': None, 'therefore': None, 'newsletter...': None, 'matter,': None, '(GULPS)': None, 'Grienke.': None, 'eggs.': None, 'welcome': None, '(TAUNTING)': None, 'CLENCHED': None, '(EXPLAINING)': None, 'Newsweek': None, 'FIRE)': None, 'lazy': None, 'billion': None, 'Recently': None, '(WAKING-UP': None, '\"pian-ee!\"': None, 'snake': None, 'Burns.': None, 'grocery': None, 'scram,': None, 'Man_With_Crazy_Beard:': None, 'Fall': None, 'FOLKS': None, '(CONFIDENTIAL)': None, 'Gruesome.\"': None, 'plant': None, 'cleaned': None, 'Pope.': None, 'application?': None, '\"Evil': None, 'longer.': None, 'la...': None, 'pigs.': None, 'Except': None, 'flayvin': None, 'Anarchy.': None, 'Maggie': None, \"cuckold's\": None, 'land': None, 'Musketeers.': None, 'cutie': None, 'broken:': None, 'everything...': None, 'game?': None, 'ab': None, \"thing's\": None, 'Go-near-': None, 'innocence': None, 'BARNEY': None, '(GENTLY)': None, 'Burt,': None, '(BOISTEROUS': None, 'DRINKING': None, '(DRAMATIC,': None, 'occurrence,': None, 'smallest': None, 'Shutup!': None, 'Whaddaya': None}\n",
      "Roughly the number of unique words: 11492\n",
      "Number of scenes: 262\n",
      "Average number of sentences in each scene: 15.251908396946565\n",
      "Number of lines: 4258\n",
      "Average number of words in each line: 11.50164396430249\n",
      "\n",
      "The sentences 0 to 10:\n",
      "\n",
      "Moe_Szyslak: (INTO PHONE) Moe's Tavern. Where the elite meet to drink.\n",
      "Bart_Simpson: Eh, yeah, hello, is Mike there? Last name, Rotch.\n",
      "Moe_Szyslak: (INTO PHONE) Hold on, I'll check. (TO BARFLIES) Mike Rotch. Mike Rotch. Hey, has anybody seen Mike Rotch, lately?\n",
      "Moe_Szyslak: (INTO PHONE) Listen you little puke. One of these days I'm gonna catch you, and I'm gonna carve my name on your back with an ice pick.\n",
      "Moe_Szyslak: What's the matter Homer? You're not your normal effervescent self.\n",
      "Homer_Simpson: I got my problems, Moe. Give me another one.\n",
      "Moe_Szyslak: Homer, hey, you should not drink to forget your problems.\n",
      "Barney_Gumble: Yeah, you should only drink to enhance your social skills.\n",
      "\n"
     ]
    }
   ],
   "source": [
    "view_sentence_range = (0, 10)\n",
    "\n",
    "\"\"\"\n",
    "DON'T MODIFY ANYTHING IN THIS CELL\n",
    "\"\"\"\n",
    "import numpy as np\n",
    "\n",
    "print('Dataset Stats')\n",
    "print ({word: None for word in text.split()})\n",
    "print('Roughly the number of unique words: {}'.format(len({word: None for word in text.split()})))\n",
    "scenes = text.split('\\n\\n')\n",
    "print('Number of scenes: {}'.format(len(scenes)))\n",
    "sentence_count_scene = [scene.count('\\n') for scene in scenes]\n",
    "print('Average number of sentences in each scene: {}'.format(np.average(sentence_count_scene)))\n",
    "\n",
    "sentences = [sentence for scene in scenes for sentence in scene.split('\\n')]\n",
    "print('Number of lines: {}'.format(len(sentences)))\n",
    "word_count_sentence = [len(sentence.split()) for sentence in sentences]\n",
    "print('Average number of words in each line: {}'.format(np.average(word_count_sentence)))\n",
    "\n",
    "print()\n",
    "print('The sentences {} to {}:'.format(*view_sentence_range))\n",
    "print('\\n'.join(text.split('\\n')[view_sentence_range[0]:view_sentence_range[1]]))"
   ]
  },
  {
   "cell_type": "markdown",
   "metadata": {
    "deletable": true,
    "editable": true
   },
   "source": [
    "## Implement Preprocessing Functions\n",
    "The first thing to do to any dataset is preprocessing.  Implement the following preprocessing functions below:\n",
    "- Lookup Table\n",
    "- Tokenize Punctuation\n",
    "\n",
    "### Lookup Table\n",
    "To create a word embedding, you first need to transform the words to ids.  In this function, create two dictionaries:\n",
    "- Dictionary to go from the words to an id, we'll call `vocab_to_int`\n",
    "- Dictionary to go from the id to word, we'll call `int_to_vocab`\n",
    "\n",
    "Return these dictionaries in the following tuple `(vocab_to_int, int_to_vocab)`"
   ]
  },
  {
   "cell_type": "code",
   "execution_count": 4,
   "metadata": {
    "collapsed": false,
    "deletable": true,
    "editable": true
   },
   "outputs": [
    {
     "name": "stdout",
     "output_type": "stream",
     "text": [
      "Tests Passed\n"
     ]
    }
   ],
   "source": [
    "import numpy as np\n",
    "import problem_unittests as tests\n",
    "from collections import Counter\n",
    "\n",
    "def create_lookup_tables(text):\n",
    "    \"\"\"\n",
    "    Create lookup tables for vocabulary\n",
    "    :param text: The text of tv scripts split into words\n",
    "    :return: A tuple of dicts (vocab_to_int, int_to_vocab)\n",
    "    \"\"\"\n",
    "    # TODO: Implement Function\n",
    "    word_counts = Counter(text)\n",
    "    sorted_vocab = sorted(word_counts, key=word_counts.get, reverse=True)\n",
    "    vocab_to_int = {word: ii for ii, word in enumerate(sorted_vocab, 0)}\n",
    "    int_to_vocab = {ii: word for ii, word in enumerate(sorted_vocab, 0)}\n",
    "    \n",
    "    #int_to_vocab = {ii: word for ii, word in enumerate(sorted_vocab)}\n",
    "    #vocab_to_int = {word: ii for ii, word in int_to_vocab.items()}\n",
    "\n",
    "    return vocab_to_int, int_to_vocab\n",
    "\n",
    "\n",
    "\"\"\"\n",
    "DON'T MODIFY ANYTHING IN THIS CELL THAT IS BELOW THIS LINE\n",
    "\"\"\"\n",
    "tests.test_create_lookup_tables(create_lookup_tables)"
   ]
  },
  {
   "cell_type": "markdown",
   "metadata": {
    "deletable": true,
    "editable": true
   },
   "source": [
    "### Tokenize Punctuation\n",
    "We'll be splitting the script into a word array using spaces as delimiters.  However, punctuations like periods and exclamation marks make it hard for the neural network to distinguish between the word \"bye\" and \"bye!\".\n",
    "\n",
    "Implement the function `token_lookup` to return a dict that will be used to tokenize symbols like \"!\" into \"||Exclamation_Mark||\".  Create a dictionary for the following symbols where the symbol is the key and value is the token:\n",
    "- Period ( . )\n",
    "- Comma ( , )\n",
    "- Quotation Mark ( \" )\n",
    "- Semicolon ( ; )\n",
    "- Exclamation mark ( ! )\n",
    "- Question mark ( ? )\n",
    "- Left Parentheses ( ( )\n",
    "- Right Parentheses ( ) )\n",
    "- Dash ( -- )\n",
    "- Return ( \\n )\n",
    "\n",
    "This dictionary will be used to token the symbols and add the delimiter (space) around it.  This separates the symbols as it's own word, making it easier for the neural network to predict on the next word. Make sure you don't use a token that could be confused as a word. Instead of using the token \"dash\", try using something like \"||dash||\"."
   ]
  },
  {
   "cell_type": "code",
   "execution_count": 5,
   "metadata": {
    "collapsed": false,
    "deletable": true,
    "editable": true
   },
   "outputs": [
    {
     "name": "stdout",
     "output_type": "stream",
     "text": [
      "Tests Passed\n"
     ]
    }
   ],
   "source": [
    "def token_lookup():\n",
    "    \"\"\"\n",
    "    Generate a dict to turn punctuation into a token.\n",
    "    :return: Tokenize dictionary where the key is the punctuation and the value is the token\n",
    "    \"\"\"\n",
    "    # TODO: Implement Function\n",
    "    m = {}\n",
    "    m['.'] = '||Period||'    \n",
    "    m[','] = '||Comma||'\n",
    "    m['\"'] = '||Quotation_Mark||'\n",
    "    m[';'] = '||Semicolon||'\n",
    "    m['!'] = '||Exclamation_Mark||'\n",
    "    m['?'] = '||Question_Mark||'\n",
    "    m['('] = '||Left_Paren||'\n",
    "    m[')'] = '||Right_Paren||'\n",
    "    m['--'] = '||Hyphens||'\n",
    "    m['\\n'] = '||New_Line||'\n",
    "    #text = text.replace(':', '||Colon||')\n",
    "    #words = text.split()\n",
    "    return m\n",
    "    \n",
    "    \n",
    "\n",
    "\"\"\"\n",
    "DON'T MODIFY ANYTHING IN THIS CELL THAT IS BELOW THIS LINE\n",
    "\"\"\"\n",
    "tests.test_tokenize(token_lookup)"
   ]
  },
  {
   "cell_type": "markdown",
   "metadata": {
    "deletable": true,
    "editable": true
   },
   "source": [
    "## Preprocess all the data and save it\n",
    "Running the code cell below will preprocess all the data and save it to file."
   ]
  },
  {
   "cell_type": "code",
   "execution_count": 6,
   "metadata": {
    "collapsed": false,
    "deletable": true,
    "editable": true
   },
   "outputs": [],
   "source": [
    "\"\"\"\n",
    "DON'T MODIFY ANYTHING IN THIS CELL\n",
    "\"\"\"\n",
    "# Preprocess Training, Validation, and Testing Data\n",
    "helper.preprocess_and_save_data(data_dir, token_lookup, create_lookup_tables)"
   ]
  },
  {
   "cell_type": "markdown",
   "metadata": {
    "deletable": true,
    "editable": true
   },
   "source": [
    "# Check Point\n",
    "This is your first checkpoint. If you ever decide to come back to this notebook or have to restart the notebook, you can start from here. The preprocessed data has been saved to disk."
   ]
  },
  {
   "cell_type": "code",
   "execution_count": 7,
   "metadata": {
    "collapsed": false,
    "deletable": true,
    "editable": true
   },
   "outputs": [],
   "source": [
    "\"\"\"\n",
    "DON'T MODIFY ANYTHING IN THIS CELL\n",
    "\"\"\"\n",
    "import helper\n",
    "import numpy as np\n",
    "import problem_unittests as tests\n",
    "\n",
    "int_text, vocab_to_int, int_to_vocab, token_dict = helper.load_preprocess()"
   ]
  },
  {
   "cell_type": "markdown",
   "metadata": {
    "deletable": true,
    "editable": true
   },
   "source": [
    "## Build the Neural Network\n",
    "You'll build the components necessary to build a RNN by implementing the following functions below:\n",
    "- get_inputs\n",
    "- get_init_cell\n",
    "- get_embed\n",
    "- build_rnn\n",
    "- build_nn\n",
    "- get_batches\n",
    "\n",
    "### Check the Version of TensorFlow and Access to GPU"
   ]
  },
  {
   "cell_type": "code",
   "execution_count": 8,
   "metadata": {
    "collapsed": false,
    "deletable": true,
    "editable": true
   },
   "outputs": [
    {
     "name": "stdout",
     "output_type": "stream",
     "text": [
      "TensorFlow Version: 1.0.1\n"
     ]
    },
    {
     "name": "stderr",
     "output_type": "stream",
     "text": [
      "C:\\Anaconda3\\envs\\tflearn\\lib\\site-packages\\ipykernel\\__main__.py:14: UserWarning: No GPU found. Please use a GPU to train your neural network.\n"
     ]
    }
   ],
   "source": [
    "\"\"\"\n",
    "DON'T MODIFY ANYTHING IN THIS CELL\n",
    "\"\"\"\n",
    "from distutils.version import LooseVersion\n",
    "import warnings\n",
    "import tensorflow as tf\n",
    "\n",
    "# Check TensorFlow Version\n",
    "assert LooseVersion(tf.__version__) >= LooseVersion('1.0'), 'Please use TensorFlow version 1.0 or newer'\n",
    "print('TensorFlow Version: {}'.format(tf.__version__))\n",
    "\n",
    "# Check for a GPU\n",
    "if not tf.test.gpu_device_name():\n",
    "    warnings.warn('No GPU found. Please use a GPU to train your neural network.')\n",
    "else:\n",
    "    print('Default GPU Device: {}'.format(tf.test.gpu_device_name()))"
   ]
  },
  {
   "cell_type": "markdown",
   "metadata": {
    "deletable": true,
    "editable": true
   },
   "source": [
    "### Input\n",
    "Implement the `get_inputs()` function to create TF Placeholders for the Neural Network.  It should create the following placeholders:\n",
    "- Input text placeholder named \"input\" using the [TF Placeholder](https://www.tensorflow.org/api_docs/python/tf/placeholder) `name` parameter.\n",
    "- Targets placeholder\n",
    "- Learning Rate placeholder\n",
    "\n",
    "Return the placeholders in the following the tuple `(Input, Targets, LearingRate)`"
   ]
  },
  {
   "cell_type": "code",
   "execution_count": 9,
   "metadata": {
    "collapsed": false,
    "deletable": true,
    "editable": true
   },
   "outputs": [
    {
     "name": "stdout",
     "output_type": "stream",
     "text": [
      "Tests Passed\n"
     ]
    }
   ],
   "source": [
    "def get_inputs():\n",
    "    \"\"\"\n",
    "    Create TF Placeholders for input, targets, and learning rate.\n",
    "    :return: Tuple (input, targets, learning rate)\n",
    "    \"\"\"\n",
    "    # TODO: Implement Function\n",
    "    Input = tf.placeholder(tf.int32, [None,None], name='input')\n",
    "    Targets = tf.placeholder(tf.int32, [None,None], name = 'Targets')\n",
    "    LearningRate = tf.placeholder(tf.float32, [], name = 'LearningRate')\n",
    "    return (Input, Targets, LearningRate)\n",
    "\n",
    "\n",
    "\"\"\"\n",
    "DON'T MODIFY ANYTHING IN THIS CELL THAT IS BELOW THIS LINE\n",
    "\"\"\"\n",
    "tests.test_get_inputs(get_inputs)"
   ]
  },
  {
   "cell_type": "markdown",
   "metadata": {
    "deletable": true,
    "editable": true
   },
   "source": [
    "### Build RNN Cell and Initialize\n",
    "Stack one or more [`BasicLSTMCells`](https://www.tensorflow.org/api_docs/python/tf/contrib/rnn/BasicLSTMCell) in a [`MultiRNNCell`](https://www.tensorflow.org/api_docs/python/tf/contrib/rnn/MultiRNNCell).\n",
    "- The Rnn size should be set using `rnn_size`\n",
    "- Initalize Cell State using the MultiRNNCell's [`zero_state()`](https://www.tensorflow.org/api_docs/python/tf/contrib/rnn/MultiRNNCell#zero_state) function\n",
    "    - Apply the name \"initial_state\" to the initial state using [`tf.identity()`](https://www.tensorflow.org/api_docs/python/tf/identity)\n",
    "\n",
    "Return the cell and initial state in the following tuple `(Cell, InitialState)`"
   ]
  },
  {
   "cell_type": "code",
   "execution_count": 10,
   "metadata": {
    "collapsed": false,
    "deletable": true,
    "editable": true
   },
   "outputs": [
    {
     "name": "stdout",
     "output_type": "stream",
     "text": [
      "Tests Passed\n"
     ]
    }
   ],
   "source": [
    "def get_init_cell(batch_size, rnn_size):\n",
    "    \"\"\"\n",
    "    Create an RNN Cell and initialize it.\n",
    "    :param batch_size: Size of batches\n",
    "    :param rnn_size: Size of RNNs\n",
    "    :return: Tuple (cell, initialize state)\n",
    "    \"\"\"\n",
    "    # TODO: Implement Function\n",
    "    LSTM = tf.contrib.rnn.BasicLSTMCell(rnn_size)\n",
    "    drop = tf.contrib.rnn.DropoutWrapper(LSTM,output_keep_prob=0.7)\n",
    "    cell = tf.contrib.rnn.MultiRNNCell([drop]*4)\n",
    "    X = cell.zero_state(batch_size, tf.float32)\n",
    "    initial_state=tf.identity(X, name='initial_state')\n",
    "    return cell,initial_state\n",
    "    \n",
    "\n",
    "\"\"\"\n",
    "DON'T MODIFY ANYTHING IN THIS CELL THAT IS BELOW THIS LINE\n",
    "\"\"\"\n",
    "tests.test_get_init_cell(get_init_cell)"
   ]
  },
  {
   "cell_type": "markdown",
   "metadata": {
    "deletable": true,
    "editable": true
   },
   "source": [
    "### Word Embedding\n",
    "Apply embedding to `input_data` using TensorFlow.  Return the embedded sequence."
   ]
  },
  {
   "cell_type": "code",
   "execution_count": 11,
   "metadata": {
    "collapsed": false,
    "deletable": true,
    "editable": true
   },
   "outputs": [
    {
     "name": "stdout",
     "output_type": "stream",
     "text": [
      "Tests Passed\n"
     ]
    }
   ],
   "source": [
    "def get_embed(input_data, vocab_size, embed_dim):\n",
    "    \"\"\"\n",
    "    Create embedding for <input_data>.\n",
    "    :param input_data: TF placeholder for text input.\n",
    "    :param vocab_size: Number of words in vocabulary.\n",
    "    :param embed_dim: Number of embedding dimensions\n",
    "    :return: Embedded input.\n",
    "    \"\"\"\n",
    "    # TODO: Implement Function\n",
    "    embedding = tf.Variable(tf.random_uniform((vocab_size, embed_dim), -1, 1))\n",
    "    embed = tf.nn.embedding_lookup(embedding, input_data)\n",
    "    return embed\n",
    "\n",
    "\n",
    "\"\"\"\n",
    "DON'T MODIFY ANYTHING IN THIS CELL THAT IS BELOW THIS LINE\n",
    "\"\"\"\n",
    "tests.test_get_embed(get_embed)"
   ]
  },
  {
   "cell_type": "markdown",
   "metadata": {
    "deletable": true,
    "editable": true
   },
   "source": [
    "### Build RNN\n",
    "You created a RNN Cell in the `get_init_cell()` function.  Time to use the cell to create a RNN.\n",
    "- Build the RNN using the [`tf.nn.dynamic_rnn()`](https://www.tensorflow.org/api_docs/python/tf/nn/dynamic_rnn)\n",
    " - Apply the name \"final_state\" to the final state using [`tf.identity()`](https://www.tensorflow.org/api_docs/python/tf/identity)\n",
    "\n",
    "Return the outputs and final_state state in the following tuple `(Outputs, FinalState)` "
   ]
  },
  {
   "cell_type": "code",
   "execution_count": 12,
   "metadata": {
    "collapsed": false,
    "deletable": true,
    "editable": true
   },
   "outputs": [
    {
     "name": "stdout",
     "output_type": "stream",
     "text": [
      "Tests Passed\n"
     ]
    }
   ],
   "source": [
    "def build_rnn(cell, inputs):\n",
    "    \"\"\"\n",
    "    Create a RNN using a RNN Cell\n",
    "    :param cell: RNN Cell\n",
    "    :param inputs: Input text data\n",
    "    :return: Tuple (Outputs, Final State)\n",
    "    \"\"\"\n",
    "    # TODO: Implement Function\n",
    "    output, f = tf.nn.dynamic_rnn(cell, inputs, dtype=tf.float32)\n",
    "    final_state = tf.identity(f, name = 'final_state')\n",
    "    return (output, final_state)\n",
    "    \n",
    "\n",
    "\n",
    "\"\"\"\n",
    "DON'T MODIFY ANYTHING IN THIS CELL THAT IS BELOW THIS LINE\n",
    "\"\"\"\n",
    "tests.test_build_rnn(build_rnn)"
   ]
  },
  {
   "cell_type": "markdown",
   "metadata": {
    "deletable": true,
    "editable": true
   },
   "source": [
    "### Build the Neural Network\n",
    "Apply the functions you implemented above to:\n",
    "- Apply embedding to `input_data` using your `get_embed(input_data, vocab_size, embed_dim)` function.\n",
    "- Build RNN using `cell` and your `build_rnn(cell, inputs)` function.\n",
    "- Apply a fully connected layer with a linear activation and `vocab_size` as the number of outputs.\n",
    "\n",
    "Return the logits and final state in the following tuple (Logits, FinalState) "
   ]
  },
  {
   "cell_type": "code",
   "execution_count": 13,
   "metadata": {
    "collapsed": false,
    "deletable": true,
    "editable": true
   },
   "outputs": [
    {
     "name": "stdout",
     "output_type": "stream",
     "text": [
      "Tests Passed\n"
     ]
    }
   ],
   "source": [
    "def build_nn(cell, rnn_size, input_data, vocab_size):\n",
    "    \"\"\"\n",
    "    Build part of the neural network\n",
    "    :param cell: RNN cell\n",
    "    :param rnn_size: Size of rnns\n",
    "    :param input_data: Input data\n",
    "    :param vocab_size: Vocabulary size\n",
    "    :return: Tuple (Logits, FinalState)\n",
    "    \"\"\"\n",
    "    # TODO: Implement Function\n",
    "    inputs = get_embed(input_data, vocab_size, rnn_size)\n",
    "    output, final_state = build_rnn(cell,inputs)\n",
    "    \n",
    "    logits = tf.contrib.layers.fully_connected(output, vocab_size, activation_fn=None,\n",
    "                                               weights_initializer = tf.truncated_normal_initializer(mean=0,stddev=0.1),\n",
    "                                               biases_initializer=tf.zeros_initializer())\n",
    "\n",
    "\n",
    "    return (logits, final_state)\n",
    "\n",
    "\n",
    "\"\"\"\n",
    "DON'T MODIFY ANYTHING IN THIS CELL THAT IS BELOW THIS LINE\n",
    "\"\"\"\n",
    "tests.test_build_nn(build_nn)"
   ]
  },
  {
   "cell_type": "markdown",
   "metadata": {
    "deletable": true,
    "editable": true
   },
   "source": [
    "### Batches\n",
    "Implement `get_batches` to create batches of input and targets using `int_text`.  The batches should be a Numpy array with the shape `(number of batches, 2, batch size, sequence length)`. Each batch contains two elements:\n",
    "- The first element is a single batch of **input** with the shape `[batch size, sequence length]`\n",
    "- The second element is a single batch of **targets** with the shape `[batch size, sequence length]`\n",
    "\n",
    "If you can't fill the last batch with enough data, drop the last batch.\n",
    "\n",
    "For exmple, `get_batches([1, 2, 3, 4, 5, 6, 7, 8, 9, 10, 11, 12, 13, 14, 15], 2, 3)` would return a Numpy array of the following:\n",
    "```\n",
    "[\n",
    "  # First Batch\n",
    "  [\n",
    "    # Batch of Input\n",
    "    [[ 1  2  3], [ 7  8  9]],\n",
    "    # Batch of targets\n",
    "    [[ 2  3  4], [ 8  9 10]]\n",
    "  ],\n",
    " \n",
    "  # Second Batch\n",
    "  [\n",
    "    # Batch of Input\n",
    "    [[ 4  5  6], [10 11 12]],\n",
    "    # Batch of targets\n",
    "    [[ 5  6  7], [11 12 13]]\n",
    "  ]\n",
    "]\n",
    "```"
   ]
  },
  {
   "cell_type": "code",
   "execution_count": 14,
   "metadata": {
    "collapsed": false,
    "deletable": true,
    "editable": true
   },
   "outputs": [
    {
     "name": "stdout",
     "output_type": "stream",
     "text": [
      "Tests Passed\n"
     ]
    }
   ],
   "source": [
    "def get_batches(int_text, batch_size, seq_length):\n",
    "    \"\"\"\n",
    "    Return batches of input and target\n",
    "    :param int_text: Text with the words replaced by their ids\n",
    "    :param batch_size: The size of batch\n",
    "    :param seq_length: The length of sequence\n",
    "    :return: Batches as a Numpy array\n",
    "    \"\"\"\n",
    "    # TODO: Implement Function\n",
    "    n_batches = int(len(int_text) / (batch_size * seq_length))\n",
    "\n",
    "    # Drop the last few characters to make only full batches\n",
    "    xdata = np.array(int_text[: n_batches * batch_size * seq_length])\n",
    "    ydata = np.array(int_text[1: n_batches * batch_size * seq_length + 1])\n",
    "\n",
    "    x_batches = np.split(xdata.reshape(batch_size, -1), n_batches, 1)\n",
    "    y_batches = np.split(ydata.reshape(batch_size, -1), n_batches, 1)\n",
    "\n",
    "    #print (np.array(list(zip(x_batches, y_batches))))\n",
    "    return np.array(list(zip(x_batches, y_batches)))\n",
    "    \n",
    "\n",
    "#get_batches([1, 2, 3, 4, 5, 6, 7, 8, 9, 10, 11, 12, 13, 14, 15], 2, 3) \n",
    "\n",
    "\"\"\"\n",
    "DON'T MODIFY ANYTHING IN THIS CELL THAT IS BELOW THIS LINE\n",
    "\"\"\"\n",
    "tests.test_get_batches(get_batches)"
   ]
  },
  {
   "cell_type": "markdown",
   "metadata": {
    "deletable": true,
    "editable": true
   },
   "source": [
    "## Neural Network Training\n",
    "### Hyperparameters\n",
    "Tune the following parameters:\n",
    "\n",
    "- Set `num_epochs` to the number of epochs.\n",
    "- Set `batch_size` to the batch size.\n",
    "- Set `rnn_size` to the size of the RNNs.\n",
    "- Set `seq_length` to the length of sequence.\n",
    "- Set `learning_rate` to the learning rate.\n",
    "- Set `show_every_n_batches` to the number of batches the neural network should print progress."
   ]
  },
  {
   "cell_type": "code",
   "execution_count": 15,
   "metadata": {
    "collapsed": true,
    "deletable": true,
    "editable": true
   },
   "outputs": [],
   "source": [
    "# Number of Epochs\n",
    "num_epochs = 250\n",
    "# Batch Size\n",
    "batch_size = 256\n",
    "# RNN Size\n",
    "rnn_size = 128\n",
    "# Sequence Length\n",
    "seq_length =10\n",
    "# Learning Rate\n",
    "learning_rate = 0.02\n",
    "# Show stats for every n number of batches\n",
    "show_every_n_batches = 30\n",
    "\n",
    "\"\"\"\n",
    "DON'T MODIFY ANYTHING IN THIS CELL THAT IS BELOW THIS LINE\n",
    "\"\"\"\n",
    "save_dir = './save'"
   ]
  },
  {
   "cell_type": "markdown",
   "metadata": {
    "deletable": true,
    "editable": true
   },
   "source": [
    "### Build the Graph\n",
    "Build the graph using the neural network you implemented."
   ]
  },
  {
   "cell_type": "code",
   "execution_count": 16,
   "metadata": {
    "collapsed": false,
    "deletable": true,
    "editable": true
   },
   "outputs": [],
   "source": [
    "\"\"\"\n",
    "DON'T MODIFY ANYTHING IN THIS CELL\n",
    "\"\"\"\n",
    "from tensorflow.contrib import seq2seq\n",
    "\n",
    "train_graph = tf.Graph()\n",
    "with train_graph.as_default():\n",
    "    vocab_size = len(int_to_vocab)\n",
    "    input_text, targets, lr = get_inputs()\n",
    "    input_data_shape = tf.shape(input_text)\n",
    "    cell, initial_state = get_init_cell(input_data_shape[0], rnn_size)\n",
    "    logits, final_state = build_nn(cell, rnn_size, input_text, vocab_size)\n",
    "\n",
    "    # Probabilities for generating words\n",
    "    probs = tf.nn.softmax(logits, name='probs')\n",
    "\n",
    "    # Loss function\n",
    "    cost = seq2seq.sequence_loss(\n",
    "        logits,\n",
    "        targets,\n",
    "        tf.ones([input_data_shape[0], input_data_shape[1]]))\n",
    "\n",
    "    # Optimizer\n",
    "    optimizer = tf.train.AdamOptimizer(lr)\n",
    "\n",
    "    # Gradient Clipping\n",
    "    gradients = optimizer.compute_gradients(cost)\n",
    "    capped_gradients = [(tf.clip_by_value(grad, -1., 1.), var) for grad, var in gradients]\n",
    "    train_op = optimizer.apply_gradients(capped_gradients)"
   ]
  },
  {
   "cell_type": "markdown",
   "metadata": {
    "deletable": true,
    "editable": true
   },
   "source": [
    "## Train\n",
    "Train the neural network on the preprocessed data.  If you have a hard time getting a good loss, check the [forms](https://discussions.udacity.com/) to see if anyone is having the same problem."
   ]
  },
  {
   "cell_type": "code",
   "execution_count": null,
   "metadata": {
    "collapsed": false,
    "deletable": true,
    "editable": true
   },
   "outputs": [
    {
     "name": "stdout",
     "output_type": "stream",
     "text": [
      "Epoch   0 Batch    0/26   train_loss = 8.822\n",
      "Epoch   1 Batch    4/26   train_loss = 6.152\n",
      "Epoch   2 Batch    8/26   train_loss = 6.173\n",
      "Epoch   3 Batch   12/26   train_loss = 6.124\n",
      "Epoch   4 Batch   16/26   train_loss = 6.038\n",
      "Epoch   5 Batch   20/26   train_loss = 6.098\n",
      "Epoch   6 Batch   24/26   train_loss = 5.985\n",
      "Epoch   8 Batch    2/26   train_loss = 5.861\n",
      "Epoch   9 Batch    6/26   train_loss = 5.786\n",
      "Epoch  10 Batch   10/26   train_loss = 5.550\n",
      "Epoch  11 Batch   14/26   train_loss = 5.607\n",
      "Epoch  12 Batch   18/26   train_loss = 5.502\n",
      "Epoch  13 Batch   22/26   train_loss = 5.366\n",
      "Epoch  15 Batch    0/26   train_loss = 5.383\n",
      "Epoch  16 Batch    4/26   train_loss = 5.209\n",
      "Epoch  17 Batch    8/26   train_loss = 5.264\n",
      "Epoch  18 Batch   12/26   train_loss = 5.245\n",
      "Epoch  19 Batch   16/26   train_loss = 5.106\n",
      "Epoch  20 Batch   20/26   train_loss = 5.136\n",
      "Epoch  21 Batch   24/26   train_loss = 5.049\n",
      "Epoch  23 Batch    2/26   train_loss = 5.064\n",
      "Epoch  24 Batch    6/26   train_loss = 5.050\n",
      "Epoch  25 Batch   10/26   train_loss = 4.823\n",
      "Epoch  26 Batch   14/26   train_loss = 4.979\n",
      "Epoch  27 Batch   18/26   train_loss = 4.820\n",
      "Epoch  28 Batch   22/26   train_loss = 4.796\n",
      "Epoch  30 Batch    0/26   train_loss = 4.799\n",
      "Epoch  31 Batch    4/26   train_loss = 4.668\n",
      "Epoch  32 Batch    8/26   train_loss = 4.659\n",
      "Epoch  33 Batch   12/26   train_loss = 4.628\n",
      "Epoch  34 Batch   16/26   train_loss = 4.535\n",
      "Epoch  35 Batch   20/26   train_loss = 4.514\n",
      "Epoch  36 Batch   24/26   train_loss = 4.515\n",
      "Epoch  38 Batch    2/26   train_loss = 4.511\n",
      "Epoch  39 Batch    6/26   train_loss = 4.564\n",
      "Epoch  40 Batch   10/26   train_loss = 4.326\n",
      "Epoch  41 Batch   14/26   train_loss = 4.456\n",
      "Epoch  42 Batch   18/26   train_loss = 4.359\n",
      "Epoch  43 Batch   22/26   train_loss = 4.347\n",
      "Epoch  45 Batch    0/26   train_loss = 4.358\n",
      "Epoch  46 Batch    4/26   train_loss = 4.276\n",
      "Epoch  47 Batch    8/26   train_loss = 4.256\n",
      "Epoch  48 Batch   12/26   train_loss = 4.256\n",
      "Epoch  49 Batch   16/26   train_loss = 4.129\n",
      "Epoch  50 Batch   20/26   train_loss = 4.177\n",
      "Epoch  51 Batch   24/26   train_loss = 4.156\n",
      "Epoch  53 Batch    2/26   train_loss = 4.199\n"
     ]
    }
   ],
   "source": [
    "\"\"\"\n",
    "DON'T MODIFY ANYTHING IN THIS CELL\n",
    "\"\"\"\n",
    "batches = get_batches(int_text, batch_size, seq_length)\n",
    "\n",
    "with tf.Session(graph=train_graph) as sess:\n",
    "    sess.run(tf.global_variables_initializer())\n",
    "\n",
    "    for epoch_i in range(num_epochs):\n",
    "        state = sess.run(initial_state, {input_text: batches[0][0]})\n",
    "\n",
    "        for batch_i, (x, y) in enumerate(batches):\n",
    "            feed = {\n",
    "                input_text: x,\n",
    "                targets: y,\n",
    "                initial_state: state,\n",
    "                lr: learning_rate}\n",
    "            train_loss, state, _ = sess.run([cost, final_state, train_op], feed)\n",
    "\n",
    "            # Show every <show_every_n_batches> batches\n",
    "            if (epoch_i * len(batches) + batch_i) % show_every_n_batches == 0:\n",
    "                print('Epoch {:>3} Batch {:>4}/{}   train_loss = {:.3f}'.format(\n",
    "                    epoch_i,\n",
    "                    batch_i,\n",
    "                    len(batches),\n",
    "                    train_loss))\n",
    "\n",
    "    # Save Model\n",
    "    saver = tf.train.Saver()\n",
    "    saver.save(sess, save_dir)\n",
    "    print('Model Trained and Saved')"
   ]
  },
  {
   "cell_type": "markdown",
   "metadata": {
    "deletable": true,
    "editable": true
   },
   "source": [
    "## Save Parameters\n",
    "Save `seq_length` and `save_dir` for generating a new TV script."
   ]
  },
  {
   "cell_type": "code",
   "execution_count": null,
   "metadata": {
    "collapsed": false,
    "deletable": true,
    "editable": true
   },
   "outputs": [],
   "source": [
    "\"\"\"\n",
    "DON'T MODIFY ANYTHING IN THIS CELL\n",
    "\"\"\"\n",
    "# Save parameters for checkpoint\n",
    "helper.save_params((seq_length, save_dir))"
   ]
  },
  {
   "cell_type": "markdown",
   "metadata": {
    "deletable": true,
    "editable": true
   },
   "source": [
    "# Checkpoint"
   ]
  },
  {
   "cell_type": "code",
   "execution_count": null,
   "metadata": {
    "collapsed": false,
    "deletable": true,
    "editable": true
   },
   "outputs": [],
   "source": [
    "\"\"\"\n",
    "DON'T MODIFY ANYTHING IN THIS CELL\n",
    "\"\"\"\n",
    "import tensorflow as tf\n",
    "import numpy as np\n",
    "import helper\n",
    "import problem_unittests as tests\n",
    "\n",
    "_, vocab_to_int, int_to_vocab, token_dict = helper.load_preprocess()\n",
    "seq_length, load_dir = helper.load_params()"
   ]
  },
  {
   "cell_type": "markdown",
   "metadata": {
    "deletable": true,
    "editable": true
   },
   "source": [
    "## Implement Generate Functions\n",
    "### Get Tensors\n",
    "Get tensors from `loaded_graph` using the function [`get_tensor_by_name()`](https://www.tensorflow.org/api_docs/python/tf/Graph#get_tensor_by_name).  Get the tensors using the following names:\n",
    "- \"input:0\"\n",
    "- \"initial_state:0\"\n",
    "- \"final_state:0\"\n",
    "- \"probs:0\"\n",
    "\n",
    "Return the tensors in the following tuple `(InputTensor, InitialStateTensor, FinalStateTensor, ProbsTensor)` "
   ]
  },
  {
   "cell_type": "code",
   "execution_count": null,
   "metadata": {
    "collapsed": false,
    "deletable": true,
    "editable": true
   },
   "outputs": [],
   "source": [
    "def get_tensors(loaded_graph):\n",
    "    \"\"\"\n",
    "    Get input, initial state, final state, and probabilities tensor from <loaded_graph>\n",
    "    :param loaded_graph: TensorFlow graph loaded from file\n",
    "    :return: Tuple (InputTensor, InitialStateTensor, FinalStateTensor, ProbsTensor)\n",
    "    \"\"\"\n",
    "    # TODO: Implement Function\n",
    "    InputTensor = loaded_graph.get_tensor_by_name \n",
    "    return None, None, None, None\n",
    "\n",
    "\n",
    "\"\"\"\n",
    "DON'T MODIFY ANYTHING IN THIS CELL THAT IS BELOW THIS LINE\n",
    "\"\"\"\n",
    "tests.test_get_tensors(get_tensors)"
   ]
  },
  {
   "cell_type": "markdown",
   "metadata": {
    "deletable": true,
    "editable": true
   },
   "source": [
    "### Choose Word\n",
    "Implement the `pick_word()` function to select the next word using `probabilities`."
   ]
  },
  {
   "cell_type": "code",
   "execution_count": null,
   "metadata": {
    "collapsed": false,
    "deletable": true,
    "editable": true
   },
   "outputs": [],
   "source": [
    "def pick_word(probabilities, int_to_vocab):\n",
    "    \"\"\"\n",
    "    Pick the next word in the generated text\n",
    "    :param probabilities: Probabilites of the next word\n",
    "    :param int_to_vocab: Dictionary of word ids as the keys and words as the values\n",
    "    :return: String of the predicted word\n",
    "    \"\"\"\n",
    "    # TODO: Implement Function\n",
    "    return None\n",
    "\n",
    "\n",
    "\"\"\"\n",
    "DON'T MODIFY ANYTHING IN THIS CELL THAT IS BELOW THIS LINE\n",
    "\"\"\"\n",
    "tests.test_pick_word(pick_word)"
   ]
  },
  {
   "cell_type": "markdown",
   "metadata": {
    "deletable": true,
    "editable": true
   },
   "source": [
    "## Generate TV Script\n",
    "This will generate the TV script for you.  Set `gen_length` to the length of TV script you want to generate."
   ]
  },
  {
   "cell_type": "code",
   "execution_count": null,
   "metadata": {
    "collapsed": false,
    "deletable": true,
    "editable": true
   },
   "outputs": [],
   "source": [
    "gen_length = 200\n",
    "# homer_simpson, moe_szyslak, or Barney_Gumble\n",
    "prime_word = 'moe_szyslak'\n",
    "\n",
    "\"\"\"\n",
    "DON'T MODIFY ANYTHING IN THIS CELL THAT IS BELOW THIS LINE\n",
    "\"\"\"\n",
    "loaded_graph = tf.Graph()\n",
    "with tf.Session(graph=loaded_graph) as sess:\n",
    "    # Load saved model\n",
    "    loader = tf.train.import_meta_graph(load_dir + '.meta')\n",
    "    loader.restore(sess, load_dir)\n",
    "\n",
    "    # Get Tensors from loaded model\n",
    "    input_text, initial_state, final_state, probs = get_tensors(loaded_graph)\n",
    "\n",
    "    # Sentences generation setup\n",
    "    gen_sentences = [prime_word + ':']\n",
    "    prev_state = sess.run(initial_state, {input_text: np.array([[1]])})\n",
    "\n",
    "    # Generate sentences\n",
    "    for n in range(gen_length):\n",
    "        # Dynamic Input\n",
    "        dyn_input = [[vocab_to_int[word] for word in gen_sentences[-seq_length:]]]\n",
    "        dyn_seq_length = len(dyn_input[0])\n",
    "\n",
    "        # Get Prediction\n",
    "        probabilities, prev_state = sess.run(\n",
    "            [probs, final_state],\n",
    "            {input_text: dyn_input, initial_state: prev_state})\n",
    "        \n",
    "        pred_word = pick_word(probabilities[dyn_seq_length-1], int_to_vocab)\n",
    "\n",
    "        gen_sentences.append(pred_word)\n",
    "    \n",
    "    # Remove tokens\n",
    "    tv_script = ' '.join(gen_sentences)\n",
    "    for key, token in token_dict.items():\n",
    "        ending = ' ' if key in ['\\n', '(', '\"'] else ''\n",
    "        tv_script = tv_script.replace(' ' + token.lower(), key)\n",
    "    tv_script = tv_script.replace('\\n ', '\\n')\n",
    "    tv_script = tv_script.replace('( ', '(')\n",
    "        \n",
    "    print(tv_script)"
   ]
  },
  {
   "cell_type": "markdown",
   "metadata": {
    "deletable": true,
    "editable": true
   },
   "source": [
    "# The TV Script is Nonsensical\n",
    "It's ok if the TV script doesn't make any sense.  We trained on less than a megabyte of text.  In order to get good results, you'll have to use a smaller vocabulary or get more data.  Luckly there's more data!  As we mentioned in the begging of this project, this is a subset of [another dataset](https://www.kaggle.com/wcukierski/the-simpsons-by-the-data).  We didn't have you train on all the data, because that would take too long.  However, you are free to train your neural network on all the data.  After you complete the project, of course.\n",
    "# Submitting This Project\n",
    "When submitting this project, make sure to run all the cells before saving the notebook. Save the notebook file as \"dlnd_tv_script_generation.ipynb\" and save it as a HTML file under \"File\" -> \"Download as\". Include the \"helper.py\" and \"problem_unittests.py\" files in your submission."
   ]
  }
 ],
 "metadata": {
  "kernelspec": {
   "display_name": "Python 3",
   "language": "python",
   "name": "python3"
  },
  "language_info": {
   "codemirror_mode": {
    "name": "ipython",
    "version": 3
   },
   "file_extension": ".py",
   "mimetype": "text/x-python",
   "name": "python",
   "nbconvert_exporter": "python",
   "pygments_lexer": "ipython3",
   "version": "3.5.3"
  }
 },
 "nbformat": 4,
 "nbformat_minor": 0
}
